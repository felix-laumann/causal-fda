{
 "cells": [
  {
   "cell_type": "markdown",
   "metadata": {
    "collapsed": true,
    "pycharm": {
     "name": "#%% md\n"
    }
   },
   "source": [
    "# Analysis of causal discovery algorithm on synthetic data"
   ]
  },
  {
   "cell_type": "code",
   "execution_count": 2,
   "metadata": {
    "pycharm": {
     "name": "#%%\n"
    }
   },
   "outputs": [],
   "source": [
    "import numpy as np\n",
    "from tqdm.notebook import tqdm\n",
    "from synthetic_data import generate_data\n",
    "from graph_generation import generate_DAGs\n",
    "from independence import marginal_indep_test, cond_indep_test, joint_indep_test\n",
    "from causal import causal_power"
   ]
  },
  {
   "cell_type": "markdown",
   "metadata": {
    "pycharm": {
     "name": "#%% md\n"
    }
   },
   "source": [
    "### Parameters"
   ]
  },
  {
   "cell_type": "code",
   "execution_count": 3,
   "metadata": {
    "pycharm": {
     "name": "#%%\n"
    }
   },
   "outputs": [],
   "source": [
    "# number of trials and permutations\n",
    "n_trials = 200\n",
    "n_perms = 1000\n",
    "\n",
    "# number of samples and number of points functional data samples are (randomly) observed and discretised\n",
    "n_samples = [100, 150, 200]\n",
    "n_obs = 100\n",
    "n_preds = 100\n",
    "\n",
    "# define discretised period\n",
    "upper_limit = 1\n",
    "pred_points = np.linspace(0, upper_limit, n_preds)\n",
    "\n",
    "# number of Fourier basis functions and std of normal distribution of sampled coefficients\n",
    "n_basis = 3\n",
    "sd = 1\n",
    "\n",
    "# different kernels for independence test\n",
    "K_list = ['K_ID', 'K_dft']\n",
    "\n",
    "# statistical significance level\n",
    "alpha = 0.05"
   ]
  },
  {
   "cell_type": "markdown",
   "metadata": {
    "pycharm": {
     "name": "#%% md\n"
    }
   },
   "source": [
    "Parameters specific for evaluation on synthetic data"
   ]
  },
  {
   "cell_type": "code",
   "execution_count": 4,
   "metadata": {
    "pycharm": {
     "name": "#%%\n"
    }
   },
   "outputs": [],
   "source": [
    "test = 'joint'\n",
    "n_vars = 4\n",
    "\n",
    "# historical dependence is easier to detect the higher a is\n",
    "a_list = [0, 0.2, 0.4, 0.6, 0.8, 1]"
   ]
  },
  {
   "cell_type": "code",
   "execution_count": 5,
   "metadata": {
    "pycharm": {
     "name": "#%%\n"
    },
    "scrolled": true
   },
   "outputs": [
    {
     "data": {
      "application/vnd.jupyter.widget-view+json": {
       "model_id": "5d1b5535dcc64d26b71b2bafd1c30b23",
       "version_major": 2,
       "version_minor": 0
      },
      "text/plain": [
       "  0%|          | 0/3 [00:00<?, ?it/s]"
      ]
     },
     "metadata": {},
     "output_type": "display_data"
    },
    {
     "name": "stdout",
     "output_type": "stream",
     "text": [
      "Sample size: 100\n",
      "Kernel: K_ID\n",
      "a: 0\n"
     ]
    },
    {
     "ename": "KeyboardInterrupt",
     "evalue": "",
     "output_type": "error",
     "traceback": [
      "\u001B[0;31m---------------------------------------------------------------------------\u001B[0m",
      "\u001B[0;31mKeyboardInterrupt\u001B[0m                         Traceback (most recent call last)",
      "\u001B[0;32m/tmp/ipykernel_111406/1221012580.py\u001B[0m in \u001B[0;36m<module>\u001B[0;34m\u001B[0m\n\u001B[1;32m     10\u001B[0m             \u001B[0mprint\u001B[0m\u001B[0;34m(\u001B[0m\u001B[0;34m'a:'\u001B[0m\u001B[0;34m,\u001B[0m \u001B[0ma\u001B[0m\u001B[0;34m)\u001B[0m\u001B[0;34m\u001B[0m\u001B[0;34m\u001B[0m\u001B[0m\n\u001B[1;32m     11\u001B[0m             \u001B[0;31m# generate synthetic data\u001B[0m\u001B[0;34m\u001B[0m\u001B[0;34m\u001B[0m\u001B[0m\n\u001B[0;32m---> 12\u001B[0;31m             \u001B[0medges_dict\u001B[0m\u001B[0;34m,\u001B[0m \u001B[0mX_dict\u001B[0m \u001B[0;34m=\u001B[0m \u001B[0mgenerate_data\u001B[0m\u001B[0;34m(\u001B[0m\u001B[0mdep\u001B[0m\u001B[0;34m=\u001B[0m\u001B[0mtest\u001B[0m\u001B[0;34m,\u001B[0m \u001B[0mn_samples\u001B[0m\u001B[0;34m=\u001B[0m\u001B[0mint\u001B[0m\u001B[0;34m(\u001B[0m\u001B[0mn_sample\u001B[0m\u001B[0;34m)\u001B[0m\u001B[0;34m,\u001B[0m \u001B[0mn_trials\u001B[0m\u001B[0;34m=\u001B[0m\u001B[0mn_trials\u001B[0m\u001B[0;34m,\u001B[0m \u001B[0mn_obs\u001B[0m\u001B[0;34m=\u001B[0m\u001B[0mn_obs\u001B[0m\u001B[0;34m,\u001B[0m \u001B[0mn_preds\u001B[0m\u001B[0;34m=\u001B[0m\u001B[0mn_preds\u001B[0m\u001B[0;34m,\u001B[0m \u001B[0mn_vars\u001B[0m\u001B[0;34m=\u001B[0m\u001B[0mn_vars\u001B[0m\u001B[0;34m,\u001B[0m \u001B[0ma\u001B[0m\u001B[0;34m=\u001B[0m\u001B[0ma\u001B[0m\u001B[0;34m,\u001B[0m \u001B[0mupper_limit\u001B[0m\u001B[0;34m=\u001B[0m\u001B[0mupper_limit\u001B[0m\u001B[0;34m,\u001B[0m \u001B[0mn_basis\u001B[0m\u001B[0;34m=\u001B[0m\u001B[0mn_basis\u001B[0m\u001B[0;34m,\u001B[0m \u001B[0msd\u001B[0m\u001B[0;34m=\u001B[0m\u001B[0msd\u001B[0m\u001B[0;34m)\u001B[0m\u001B[0;34m\u001B[0m\u001B[0;34m\u001B[0m\u001B[0m\n\u001B[0m\u001B[1;32m     13\u001B[0m \u001B[0;34m\u001B[0m\u001B[0m\n\u001B[1;32m     14\u001B[0m             \u001B[0;31m# conduct n trials\u001B[0m\u001B[0;34m\u001B[0m\u001B[0;34m\u001B[0m\u001B[0m\n",
      "\u001B[0;32m~/Dropbox/Research/projects/causal-fda/synthetic_data.py\u001B[0m in \u001B[0;36mgenerate_data\u001B[0;34m(dep, n_samples, n_trials, n_obs, n_preds, n_vars, a, a_prime, upper_limit, n_basis, sd, prob, mll1, mul1, mll2, mul2, mll3, mul3, mll4, mul4, bll1, bul1, bll2, bul2, bll3, bul3, bll4, bul4)\u001B[0m\n\u001B[1;32m    263\u001B[0m         \u001B[0mX_dict\u001B[0m \u001B[0;34m=\u001B[0m \u001B[0;34m{\u001B[0m\u001B[0;34m}\u001B[0m\u001B[0;34m\u001B[0m\u001B[0;34m\u001B[0m\u001B[0m\n\u001B[1;32m    264\u001B[0m         \u001B[0;32mfor\u001B[0m \u001B[0mtrial\u001B[0m \u001B[0;32min\u001B[0m \u001B[0mrange\u001B[0m\u001B[0;34m(\u001B[0m\u001B[0mn_trials\u001B[0m\u001B[0;34m)\u001B[0m\u001B[0;34m:\u001B[0m    \u001B[0;31m# generating n_trials different DAGs with data distributed accordingly\u001B[0m\u001B[0;34m\u001B[0m\u001B[0;34m\u001B[0m\u001B[0m\n\u001B[0;32m--> 265\u001B[0;31m             \u001B[0medges_dict\u001B[0m\u001B[0;34m[\u001B[0m\u001B[0mtrial\u001B[0m\u001B[0;34m]\u001B[0m\u001B[0;34m,\u001B[0m \u001B[0mX_dict\u001B[0m\u001B[0;34m[\u001B[0m\u001B[0mtrial\u001B[0m\u001B[0;34m]\u001B[0m \u001B[0;34m=\u001B[0m \u001B[0mDAG_hist\u001B[0m\u001B[0;34m(\u001B[0m\u001B[0mn_vars\u001B[0m\u001B[0;34m,\u001B[0m \u001B[0mn_samples\u001B[0m\u001B[0;34m,\u001B[0m \u001B[0mn_obs\u001B[0m\u001B[0;34m,\u001B[0m \u001B[0mn_preds\u001B[0m\u001B[0;34m,\u001B[0m \u001B[0mmean\u001B[0m\u001B[0;34m,\u001B[0m \u001B[0ma\u001B[0m\u001B[0;34m,\u001B[0m \u001B[0mupper_limit\u001B[0m\u001B[0;34m,\u001B[0m \u001B[0mn_basis\u001B[0m\u001B[0;34m,\u001B[0m \u001B[0msd\u001B[0m\u001B[0;34m,\u001B[0m \u001B[0mprob\u001B[0m\u001B[0;34m)\u001B[0m\u001B[0;34m\u001B[0m\u001B[0;34m\u001B[0m\u001B[0m\n\u001B[0m\u001B[1;32m    266\u001B[0m         \u001B[0;32mreturn\u001B[0m \u001B[0medges_dict\u001B[0m\u001B[0;34m,\u001B[0m \u001B[0mX_dict\u001B[0m\u001B[0;34m\u001B[0m\u001B[0;34m\u001B[0m\u001B[0m\n\u001B[1;32m    267\u001B[0m \u001B[0;34m\u001B[0m\u001B[0m\n",
      "\u001B[0;32m~/Dropbox/Research/projects/causal-fda/synthetic_data.py\u001B[0m in \u001B[0;36mDAG_hist\u001B[0;34m(n_nodes, n_samples, n_obs, n_preds, mean, a, upper_limit, n_basis, sd, prob)\u001B[0m\n\u001B[1;32m    191\u001B[0m \u001B[0;34m\u001B[0m\u001B[0m\n\u001B[1;32m    192\u001B[0m         \u001B[0;32melse\u001B[0m\u001B[0;34m:\u001B[0m  \u001B[0;31m# with parents\u001B[0m\u001B[0;34m\u001B[0m\u001B[0;34m\u001B[0m\u001B[0m\n\u001B[0;32m--> 193\u001B[0;31m             \u001B[0mX_fd_list\u001B[0m\u001B[0;34m[\u001B[0m\u001B[0mdesc\u001B[0m\u001B[0;34m]\u001B[0m \u001B[0;34m=\u001B[0m \u001B[0mhist_data\u001B[0m\u001B[0;34m(\u001B[0m\u001B[0mX_fd_list\u001B[0m\u001B[0;34m[\u001B[0m\u001B[0mparents\u001B[0m\u001B[0;34m]\u001B[0m\u001B[0;34m,\u001B[0m \u001B[0mupper_limit\u001B[0m\u001B[0;34m,\u001B[0m \u001B[0ma\u001B[0m\u001B[0;34m,\u001B[0m \u001B[0mpred_points\u001B[0m\u001B[0;34m,\u001B[0m \u001B[0mmean\u001B[0m\u001B[0;34m)\u001B[0m\u001B[0;34m\u001B[0m\u001B[0;34m\u001B[0m\u001B[0m\n\u001B[0m\u001B[1;32m    194\u001B[0m \u001B[0;34m\u001B[0m\u001B[0m\n\u001B[1;32m    195\u001B[0m     \u001B[0;32mreturn\u001B[0m \u001B[0mdict_edges\u001B[0m\u001B[0;34m,\u001B[0m \u001B[0mX_fd_list\u001B[0m\u001B[0;34m\u001B[0m\u001B[0;34m\u001B[0m\u001B[0m\n",
      "\u001B[0;32m~/Dropbox/Research/projects/causal-fda/synthetic_data.py\u001B[0m in \u001B[0;36mhist_data\u001B[0;34m(X, t, a, pred_points, mean, mll1, mul1, mll2, mul2, mll3, mul3, mll4, mul4, bll1, bul1, bll2, bul2, bll3, bul3, bll4, bul4)\u001B[0m\n\u001B[1;32m    138\u001B[0m                              pred_points[pred_points<=t], initial=0)\n\u001B[1;32m    139\u001B[0m             \u001B[0msum_integ\u001B[0m \u001B[0;34m+=\u001B[0m \u001B[0minteg\u001B[0m\u001B[0;34m\u001B[0m\u001B[0;34m\u001B[0m\u001B[0m\n\u001B[0;32m--> 140\u001B[0;31m         \u001B[0mY\u001B[0m\u001B[0;34m[\u001B[0m\u001B[0mi\u001B[0m\u001B[0;34m]\u001B[0m \u001B[0;34m=\u001B[0m \u001B[0mmu\u001B[0m \u001B[0;34m+\u001B[0m \u001B[0ma\u001B[0m\u001B[0;34m*\u001B[0m\u001B[0msum_integ\u001B[0m \u001B[0;34m+\u001B[0m \u001B[0mepsilon\u001B[0m\u001B[0;34m(\u001B[0m\u001B[0mpred_points\u001B[0m\u001B[0;34m[\u001B[0m\u001B[0mpred_points\u001B[0m\u001B[0;34m<=\u001B[0m\u001B[0mt\u001B[0m\u001B[0;34m]\u001B[0m\u001B[0;34m)\u001B[0m\u001B[0;34m\u001B[0m\u001B[0;34m\u001B[0m\u001B[0m\n\u001B[0m\u001B[1;32m    141\u001B[0m     \u001B[0;32mreturn\u001B[0m \u001B[0mY\u001B[0m\u001B[0;34m\u001B[0m\u001B[0;34m\u001B[0m\u001B[0m\n\u001B[1;32m    142\u001B[0m \u001B[0;34m\u001B[0m\u001B[0m\n",
      "\u001B[0;32m~/Dropbox/Research/projects/causal-fda/synthetic_data.py\u001B[0m in \u001B[0;36mepsilon\u001B[0;34m(t, n_basis, sd)\u001B[0m\n\u001B[1;32m    101\u001B[0m \u001B[0;31m# functional noise\u001B[0m\u001B[0;34m\u001B[0m\u001B[0;34m\u001B[0m\u001B[0m\n\u001B[1;32m    102\u001B[0m \u001B[0;32mdef\u001B[0m \u001B[0mepsilon\u001B[0m\u001B[0;34m(\u001B[0m\u001B[0mt\u001B[0m\u001B[0;34m,\u001B[0m \u001B[0mn_basis\u001B[0m\u001B[0;34m=\u001B[0m\u001B[0;36m3\u001B[0m\u001B[0;34m,\u001B[0m \u001B[0msd\u001B[0m\u001B[0;34m=\u001B[0m\u001B[0;36m1\u001B[0m\u001B[0;34m)\u001B[0m\u001B[0;34m:\u001B[0m\u001B[0;34m\u001B[0m\u001B[0;34m\u001B[0m\u001B[0m\n\u001B[0;32m--> 103\u001B[0;31m     \u001B[0;32mreturn\u001B[0m \u001B[0mskfda_basis\u001B[0m\u001B[0;34m(\u001B[0m\u001B[0;36m1\u001B[0m\u001B[0;34m,\u001B[0m \u001B[0mupper_limit\u001B[0m\u001B[0;34m=\u001B[0m\u001B[0mnp\u001B[0m\u001B[0;34m.\u001B[0m\u001B[0mmax\u001B[0m\u001B[0;34m(\u001B[0m\u001B[0mt\u001B[0m\u001B[0;34m)\u001B[0m\u001B[0;34m,\u001B[0m \u001B[0mn_basis\u001B[0m\u001B[0;34m=\u001B[0m\u001B[0mn_basis\u001B[0m\u001B[0;34m,\u001B[0m \u001B[0msd\u001B[0m\u001B[0;34m=\u001B[0m\u001B[0msd\u001B[0m\u001B[0;34m)\u001B[0m\u001B[0;34m.\u001B[0m\u001B[0mevaluate\u001B[0m\u001B[0;34m(\u001B[0m\u001B[0mt\u001B[0m\u001B[0;34m)\u001B[0m\u001B[0;34m.\u001B[0m\u001B[0msqueeze\u001B[0m\u001B[0;34m(\u001B[0m\u001B[0;34m)\u001B[0m\u001B[0;34m\u001B[0m\u001B[0;34m\u001B[0m\u001B[0m\n\u001B[0m\u001B[1;32m    104\u001B[0m \u001B[0;34m\u001B[0m\u001B[0m\n\u001B[1;32m    105\u001B[0m \u001B[0;34m\u001B[0m\u001B[0m\n",
      "\u001B[0;32m~/anaconda3/envs/fda/lib/python3.9/site-packages/skfda/representation/_functional_data.py\u001B[0m in \u001B[0;36mevaluate\u001B[0;34m(self, eval_points, derivative, extrapolation, grid, aligned)\u001B[0m\n\u001B[1;32m    550\u001B[0m                 )\n\u001B[1;32m    551\u001B[0m \u001B[0;34m\u001B[0m\u001B[0m\n\u001B[0;32m--> 552\u001B[0;31m         return self._evaluate(\n\u001B[0m\u001B[1;32m    553\u001B[0m             \u001B[0meval_points\u001B[0m\u001B[0;34m,\u001B[0m\u001B[0;34m\u001B[0m\u001B[0;34m\u001B[0m\u001B[0m\n\u001B[1;32m    554\u001B[0m             \u001B[0maligned\u001B[0m\u001B[0;34m=\u001B[0m\u001B[0maligned\u001B[0m\u001B[0;34m,\u001B[0m\u001B[0;34m\u001B[0m\u001B[0;34m\u001B[0m\u001B[0m\n",
      "\u001B[0;32m~/anaconda3/envs/fda/lib/python3.9/site-packages/skfda/representation/basis/_fdatabasis.py\u001B[0m in \u001B[0;36m_evaluate\u001B[0;34m(self, eval_points, aligned)\u001B[0m\n\u001B[1;32m    271\u001B[0m             \u001B[0mbasis_values\u001B[0m \u001B[0;34m=\u001B[0m \u001B[0mself\u001B[0m\u001B[0;34m.\u001B[0m\u001B[0mbasis\u001B[0m\u001B[0;34m.\u001B[0m\u001B[0mevaluate\u001B[0m\u001B[0;34m(\u001B[0m\u001B[0meval_points\u001B[0m\u001B[0;34m)\u001B[0m\u001B[0;34m\u001B[0m\u001B[0;34m\u001B[0m\u001B[0m\n\u001B[1;32m    272\u001B[0m \u001B[0;34m\u001B[0m\u001B[0m\n\u001B[0;32m--> 273\u001B[0;31m             \u001B[0mres\u001B[0m \u001B[0;34m=\u001B[0m \u001B[0mnp\u001B[0m\u001B[0;34m.\u001B[0m\u001B[0mtensordot\u001B[0m\u001B[0;34m(\u001B[0m\u001B[0mself\u001B[0m\u001B[0;34m.\u001B[0m\u001B[0mcoefficients\u001B[0m\u001B[0;34m,\u001B[0m \u001B[0mbasis_values\u001B[0m\u001B[0;34m,\u001B[0m \u001B[0maxes\u001B[0m\u001B[0;34m=\u001B[0m\u001B[0;34m(\u001B[0m\u001B[0;36m1\u001B[0m\u001B[0;34m,\u001B[0m \u001B[0;36m0\u001B[0m\u001B[0;34m)\u001B[0m\u001B[0;34m)\u001B[0m\u001B[0;34m\u001B[0m\u001B[0;34m\u001B[0m\u001B[0m\n\u001B[0m\u001B[1;32m    274\u001B[0m \u001B[0;34m\u001B[0m\u001B[0m\n\u001B[1;32m    275\u001B[0m             return res.reshape(\n",
      "\u001B[0;32m<__array_function__ internals>\u001B[0m in \u001B[0;36mtensordot\u001B[0;34m(*args, **kwargs)\u001B[0m\n",
      "\u001B[0;32m~/anaconda3/envs/fda/lib/python3.9/site-packages/numpy/core/numeric.py\u001B[0m in \u001B[0;36mtensordot\u001B[0;34m(a, b, axes)\u001B[0m\n\u001B[1;32m   1123\u001B[0m     \u001B[0;32mfor\u001B[0m \u001B[0maxis\u001B[0m \u001B[0;32min\u001B[0m \u001B[0maxes_a\u001B[0m\u001B[0;34m:\u001B[0m\u001B[0;34m\u001B[0m\u001B[0;34m\u001B[0m\u001B[0m\n\u001B[1;32m   1124\u001B[0m         \u001B[0mN2\u001B[0m \u001B[0;34m*=\u001B[0m \u001B[0mas_\u001B[0m\u001B[0;34m[\u001B[0m\u001B[0maxis\u001B[0m\u001B[0;34m]\u001B[0m\u001B[0;34m\u001B[0m\u001B[0;34m\u001B[0m\u001B[0m\n\u001B[0;32m-> 1125\u001B[0;31m     \u001B[0mnewshape_a\u001B[0m \u001B[0;34m=\u001B[0m \u001B[0;34m(\u001B[0m\u001B[0mint\u001B[0m\u001B[0;34m(\u001B[0m\u001B[0mmultiply\u001B[0m\u001B[0;34m.\u001B[0m\u001B[0mreduce\u001B[0m\u001B[0;34m(\u001B[0m\u001B[0;34m[\u001B[0m\u001B[0mas_\u001B[0m\u001B[0;34m[\u001B[0m\u001B[0max\u001B[0m\u001B[0;34m]\u001B[0m \u001B[0;32mfor\u001B[0m \u001B[0max\u001B[0m \u001B[0;32min\u001B[0m \u001B[0mnotin\u001B[0m\u001B[0;34m]\u001B[0m\u001B[0;34m)\u001B[0m\u001B[0;34m)\u001B[0m\u001B[0;34m,\u001B[0m \u001B[0mN2\u001B[0m\u001B[0;34m)\u001B[0m\u001B[0;34m\u001B[0m\u001B[0;34m\u001B[0m\u001B[0m\n\u001B[0m\u001B[1;32m   1126\u001B[0m     \u001B[0molda\u001B[0m \u001B[0;34m=\u001B[0m \u001B[0;34m[\u001B[0m\u001B[0mas_\u001B[0m\u001B[0;34m[\u001B[0m\u001B[0maxis\u001B[0m\u001B[0;34m]\u001B[0m \u001B[0;32mfor\u001B[0m \u001B[0maxis\u001B[0m \u001B[0;32min\u001B[0m \u001B[0mnotin\u001B[0m\u001B[0;34m]\u001B[0m\u001B[0;34m\u001B[0m\u001B[0;34m\u001B[0m\u001B[0m\n\u001B[1;32m   1127\u001B[0m \u001B[0;34m\u001B[0m\u001B[0m\n",
      "\u001B[0;31mKeyboardInterrupt\u001B[0m: "
     ]
    }
   ],
   "source": [
    "type_II_errors = {}\n",
    "\n",
    "for n_sample in tqdm(n_samples):\n",
    "    print('Sample size:', int(n_sample))\n",
    "    type_II_errors[int(n_sample)] = {}\n",
    "    for K in K_list:\n",
    "        print('Kernel:', K)\n",
    "        type_II_errors[int(n_sample)][str(K)] = []\n",
    "        for a in a_list:\n",
    "            print('a:', a)\n",
    "            # generate synthetic data\n",
    "            edges_dict, X_dict = generate_data(dep=test, n_samples=int(n_sample), n_trials=n_trials, n_obs=n_obs, n_preds=n_preds, n_vars=n_vars, a=a, upper_limit=upper_limit, n_basis=n_basis, sd=sd)\n",
    "\n",
    "            # conduct n trials\n",
    "            power = causal_power(X_dict=X_dict, edges_dict=edges_dict, n_trials=n_trials, n_perms=n_perms, alpha=alpha, K=K)\n",
    "            type_II_errors[n_sample][K].append(power)\n",
    "            print('Test power:', power)\n",
    "            print('----------')\n",
    "    print('----------')"
   ]
  },
  {
   "cell_type": "code",
   "execution_count": 6,
   "metadata": {
    "pycharm": {
     "name": "#%%\n"
    }
   },
   "outputs": [],
   "source": [
    "edges_dict, X_dict = generate_data(dep=test, n_samples=int(n_sample), n_trials=n_trials, n_obs=n_obs, n_preds=n_preds, n_vars=n_vars, a=a, upper_limit=upper_limit, n_basis=n_basis, sd=sd)"
   ]
  },
  {
   "cell_type": "code",
   "execution_count": 22,
   "metadata": {
    "pycharm": {
     "name": "#%%\n"
    }
   },
   "outputs": [
    {
     "data": {
      "text/plain": [
       "(4, 100, 100)"
      ]
     },
     "execution_count": 22,
     "metadata": {},
     "output_type": "execute_result"
    }
   ],
   "source": [
    "X_dict[0].shape"
   ]
  },
  {
   "cell_type": "code",
   "execution_count": null,
   "metadata": {
    "pycharm": {
     "name": "#%%\n"
    }
   },
   "outputs": [],
   "source": []
  },
  {
   "cell_type": "code",
   "execution_count": null,
   "metadata": {
    "pycharm": {
     "name": "#%%\n"
    }
   },
   "outputs": [],
   "source": []
  },
  {
   "cell_type": "code",
   "execution_count": null,
   "metadata": {
    "pycharm": {
     "name": "#%%\n"
    }
   },
   "outputs": [],
   "source": []
  }
 ],
 "metadata": {
  "kernelspec": {
   "display_name": "Python 3 (ipykernel)",
   "language": "python",
   "name": "python3"
  },
  "language_info": {
   "codemirror_mode": {
    "name": "ipython",
    "version": 3
   },
   "file_extension": ".py",
   "mimetype": "text/x-python",
   "name": "python",
   "nbconvert_exporter": "python",
   "pygments_lexer": "ipython3",
   "version": "3.9.7"
  }
 },
 "nbformat": 4,
 "nbformat_minor": 1
}