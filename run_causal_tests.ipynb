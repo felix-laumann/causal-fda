{
 "cells": [
  {
   "cell_type": "markdown",
   "metadata": {
    "collapsed": true,
    "pycharm": {
     "name": "#%% md\n"
    }
   },
   "source": [
    "# Analysis of causal discovery algorithm on synthetic data"
   ]
  },
  {
   "cell_type": "code",
   "execution_count": null,
   "outputs": [],
   "source": [
    "import os\n",
    "import numpy as np\n",
    "import pickle\n",
    "from tqdm.notebook import tqdm\n",
    "from synthetic_data import generate_data\n",
    "from causal import causal_eval"
   ],
   "metadata": {
    "collapsed": false,
    "pycharm": {
     "name": "#%%\n"
    }
   }
  },
  {
   "cell_type": "markdown",
   "source": [
    "### Parameters"
   ],
   "metadata": {
    "collapsed": false,
    "pycharm": {
     "name": "#%% md\n"
    }
   }
  },
  {
   "cell_type": "code",
   "execution_count": null,
   "outputs": [],
   "source": [
    "# number of trials and permutations\n",
    "n_trials = 200\n",
    "n_perms = 1000\n",
    "\n",
    "# number of samples and number of points functional data samples are (randomly) observed and discretised\n",
    "n_samples = [100, 150, 200]\n",
    "n_obs = 100\n",
    "n_preds = 100\n",
    "\n",
    "# define discretised period\n",
    "upper_limit = 1\n",
    "pred_points = np.linspace(0, upper_limit, n_preds)\n",
    "\n",
    "# number of Fourier basis functions and std of normal distribution of sampled coefficients\n",
    "n_basis = 3\n",
    "sd = 1\n",
    "\n",
    "# different kernels for independence test\n",
    "K_list = ['K_ID', 'K_dft1']\n",
    "\n",
    "# statistical significance level\n",
    "alpha = 0.05"
   ],
   "metadata": {
    "collapsed": false,
    "pycharm": {
     "name": "#%%\n"
    }
   }
  },
  {
   "cell_type": "code",
   "execution_count": null,
   "outputs": [],
   "source": [
    "# create folders to save results\n",
    "if not os.path.exists('results'):\n",
    "    os.mkdir('results')\n",
    "\n",
    "if not os.path.exists('results/causal'):\n",
    "    os.mkdir('results/causal')"
   ],
   "metadata": {
    "collapsed": false,
    "pycharm": {
     "name": "#%%\n"
    }
   }
  },
  {
   "cell_type": "markdown",
   "source": [
    "Parameters specific for evaluation on synthetic data"
   ],
   "metadata": {
    "collapsed": false,
    "pycharm": {
     "name": "#%% md\n"
    }
   }
  },
  {
   "cell_type": "code",
   "execution_count": null,
   "outputs": [],
   "source": [
    "test = 'joint'\n",
    "n_vars = 2\n",
    "prob = 0.5\n",
    "cd_type = 'regression'\n",
    "\n",
    "# historical dependence is easier to detect the higher a is\n",
    "a = 8\n",
    "\n",
    "# regression parameters\n",
    "n_intervals = 12\n",
    "analyse = False\n",
    "\n",
    "# constraint parameters\n",
    "find_lamb = False\n",
    "lambs = 1e-2\n",
    "\n",
    "n_samples = [8]"
   ],
   "metadata": {
    "collapsed": false,
    "pycharm": {
     "name": "#%%\n"
    }
   }
  },
  {
   "cell_type": "code",
   "execution_count": null,
   "metadata": {
    "pycharm": {
     "name": "#%%\n"
    },
    "scrolled": false
   },
   "outputs": [],
   "source": [
    "precisions_dict = {}\n",
    "recalls_dict = {}\n",
    "f1_scores_dict = {}\n",
    "averages_dict = {}\n",
    "DAGs_dict = {}\n",
    "p_values_dict = {}\n",
    "\n",
    "for n_sample in tqdm(n_samples):\n",
    "    print('Sample size:', n_sample)\n",
    "    precisions_dict[n_sample] = {}\n",
    "    recalls_dict[n_sample] = {}\n",
    "    f1_scores_dict[n_sample] = {}\n",
    "    averages_dict[n_sample] = {}\n",
    "    DAGs_dict[n_sample] = {}\n",
    "    p_values_dict[n_sample] = {}\n",
    "\n",
    "    for K in K_list:\n",
    "        print('Kernel:', K)\n",
    "        precisions_dict[n_sample][K] = []\n",
    "        recalls_dict[n_sample][K] = []\n",
    "        f1_scores_dict[n_sample][K] = []\n",
    "        averages_dict[n_sample][K] = []\n",
    "        DAGs_dict[n_sample][K] = []\n",
    "        p_values_dict[n_sample][K] = []\n",
    "\n",
    "        # generate synthetic data\n",
    "        edges_dict, X_dict = generate_data(dep=test, n_samples=n_sample, n_trials=n_trials, n_obs=n_obs, n_preds=n_preds, n_vars=n_vars, a=a, upper_limit=upper_limit, n_basis=n_basis, sd=sd, prob=prob)\n",
    "\n",
    "        # conduct n trials\n",
    "        precisions, recalls, f1_scores, CPDAGs, p_values = causal_eval(cd_type=cd_type, X_dict=X_dict, edges_dict=edges_dict, n_intervals=n_intervals, n_trials=n_trials, n_perms=n_perms, alpha=alpha, K=K, lambs=lambs, find_lamb=find_lamb, analyse=analyse)\n",
    "\n",
    "        precisions_dict[n_sample][K].extend(precisions)\n",
    "        recalls_dict[n_sample][K].extend(recalls)\n",
    "        f1_scores_dict[n_sample][K].extend(f1_scores)\n",
    "\n",
    "        # calculate average precision, recall and F1-score\n",
    "        avg_precision = np.sum(precisions_dict[n_sample][K]) / n_trials\n",
    "        avg_recall = np.sum(recalls_dict[n_sample][K]) / n_trials\n",
    "        avg_f1_score = np.sum(f1_scores_dict[n_sample][K]) / n_trials\n",
    "\n",
    "        averages_dict[n_sample][K].extend([avg_precision, avg_recall, avg_f1_score])\n",
    "\n",
    "        print('Average precision:', avg_precision)\n",
    "        print('Average recall:', avg_recall)\n",
    "        print('Average F1-score:', avg_f1_score)\n",
    "        print('----------')\n",
    "    print('----------')\n",
    "\n",
    "precision_causal = open('results/causal/precision_{}_{}.pkl'.format(cd_type, n_vars), 'wb')\n",
    "pickle.dump(precisions_dict, precision_causal)\n",
    "precision_causal.close()\n",
    "recall_causal = open('results/causal/recall_{}_{}.pkl'.format(cd_type, n_vars), 'wb')\n",
    "pickle.dump(recalls_dict, recall_causal)\n",
    "recall_causal.close()\n",
    "f1_causal = open('results/causal/f1_{}_{}.pkl'.format(cd_type, n_vars), 'wb')\n",
    "pickle.dump(f1_scores_dict, f1_causal)\n",
    "f1_causal.close()\n",
    "averages_causal = open('results/causal/averages_{}_{}.pkl'.format(cd_type, n_vars), 'wb')\n",
    "pickle.dump(averages, averages_causal)\n",
    "averages_causal.close()"
   ]
  },
  {
   "cell_type": "code",
   "execution_count": null,
   "metadata": {
    "pycharm": {
     "name": "#%%\n"
    }
   },
   "outputs": [],
   "source": []
  },
  {
   "cell_type": "code",
   "execution_count": null,
   "metadata": {
    "pycharm": {
     "name": "#%%\n"
    }
   },
   "outputs": [],
   "source": []
  },
  {
   "cell_type": "code",
   "execution_count": null,
   "metadata": {
    "pycharm": {
     "name": "#%%\n"
    }
   },
   "outputs": [],
   "source": []
  }
 ],
 "metadata": {
  "kernelspec": {
   "display_name": "Python 3 (ipykernel)",
   "language": "python",
   "name": "python3"
  },
  "language_info": {
   "codemirror_mode": {
    "name": "ipython",
    "version": 3
   },
   "file_extension": ".py",
   "mimetype": "text/x-python",
   "name": "python",
   "nbconvert_exporter": "python",
   "pygments_lexer": "ipython3",
   "version": "3.9.12"
  }
 },
 "nbformat": 4,
 "nbformat_minor": 1
}