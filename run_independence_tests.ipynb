{
 "cells": [
  {
   "cell_type": "markdown",
   "metadata": {
    "collapsed": true
   },
   "source": [
    "# Test power analysis for independence tests"
   ]
  },
  {
   "cell_type": "code",
   "execution_count": null,
   "metadata": {
    "scrolled": true
   },
   "outputs": [],
   "source": [
    "import sys\n",
    "sys.path.append('..')\n",
    "import numpy as np\n",
    "from tqdm.notebook import tqdm\n",
    "import pickle\n",
    "import os\n",
    "import pandas as pd\n",
    "\n",
    "from synthetic_data import generate_data\n",
    "from independence import opt_lambda, test_power\n",
    "from plots import plot_samples, plot_power, plot_type_I_errors, type_I_boxplot\n",
    "\n",
    "from warnings import filterwarnings\n",
    "filterwarnings('ignore')"
   ]
  },
  {
   "cell_type": "markdown",
   "metadata": {},
   "source": [
    "### Test hyperparameters\n",
    "We start by specifying some hyperparameters for all of our tests."
   ]
  },
  {
   "cell_type": "code",
   "execution_count": null,
   "metadata": {},
   "outputs": [],
   "source": [
    "# number of trials and permutations\n",
    "n_trials = 200\n",
    "n_perms = 1000\n",
    "\n",
    "# number of samples and number of points functional data samples are (randomly) observed and discretised\n",
    "n_obs = 100\n",
    "n_preds = 100\n",
    "\n",
    "# define discretised period\n",
    "upper_limit = 1\n",
    "periods = [0.1] # 1\n",
    "pred_points = np.linspace(0, upper_limit, n_preds)\n",
    "\n",
    "# number of Fourier basis functions and std of normal distribution of sampled coefficients\n",
    "n_basis = 3\n",
    "sd = 1\n",
    "\n",
    "# statistical significance level\n",
    "alpha = 0.05"
   ]
  },
  {
   "cell_type": "code",
   "execution_count": null,
   "metadata": {},
   "outputs": [],
   "source": [
    "# create folders to save results\n",
    "if not os.path.exists('results'):\n",
    "    os.mkdir('results')\n",
    "\n",
    "if not os.path.exists('results/marginal'):\n",
    "    os.mkdir('results/marginal')\n",
    "\n",
    "if not os.path.exists('results/joint'):\n",
    "    os.mkdir('results/joint')\n",
    "\n",
    "if not os.path.exists('results/conditional'):\n",
    "    os.mkdir('results/conditional')"
   ]
  },
  {
   "cell_type": "markdown",
   "metadata": {},
   "source": [
    "## Marginal independence test"
   ]
  },
  {
   "cell_type": "code",
   "execution_count": null,
   "metadata": {},
   "outputs": [],
   "source": [
    "test = 'marginal'\n",
    "\n",
    "# historical dependence is easier to detect the higher a is\n",
    "a_list = [0, 0.2, 0.4, 0.6, 0.8, 1]\n",
    "\n",
    "n_samples = [20, 40, 60]"
   ]
  },
  {
   "cell_type": "markdown",
   "metadata": {},
   "source": [
    "We iterate over various values of $a$ and different kernels."
   ]
  },
  {
   "cell_type": "code",
   "execution_count": null,
   "metadata": {
    "scrolled": true
   },
   "outputs": [],
   "source": [
    "type_II_errors = {}\n",
    "\n",
    "for p in periods:\n",
    "    print('Period T:', p)\n",
    "    type_II_errors[p] = {}\n",
    "    for n_sample in tqdm(n_samples):\n",
    "        print('Sample size:', int(n_sample))\n",
    "        type_II_errors[p][int(n_sample)] = []\n",
    "        for a in a_list:\n",
    "            print('a:', a)\n",
    "            # generate synthetic data\n",
    "            X, Y = generate_data(dep=test, n_samples=int(n_sample), n_trials=n_trials, n_obs=n_obs, n_preds=n_preds, period=p, a=a, upper_limit=upper_limit, n_basis=n_basis, sd=sd)\n",
    "            \n",
    "            # conduct n tests\n",
    "            power = test_power(X=X, Y=Y, n_trials=n_trials, n_perms=n_perms, alpha=alpha, K='K_ID', test=test)\n",
    "            type_II_errors[p][n_sample].append(power)\n",
    "            print('Test power:', power)\n",
    "            print('----------')\n",
    "        print('----------')\n",
    "    \n",
    "power_hist = open('results/{}/test_power_hist_{}.pkl'.format(test, test), 'wb')\n",
    "pickle.dump(type_II_errors, power_hist)\n",
    "power_hist.close()"
   ]
  },
  {
   "cell_type": "code",
   "execution_count": null,
   "metadata": {},
   "outputs": [],
   "source": [
    "# plot n samples\n",
    "n = 10\n",
    "plot_samples(X[:n], pred_points, upper_limit)"
   ]
  },
  {
   "cell_type": "code",
   "execution_count": null,
   "metadata": {},
   "outputs": [],
   "source": [
    "type_II_errors = pickle.load(open('results/{}/test_power_hist_{}.pkl'.format(test, test), 'rb'))"
   ]
  },
  {
   "cell_type": "code",
   "execution_count": null,
   "metadata": {},
   "outputs": [],
   "source": [
    "# power over strength of dependence\n",
    "plot_power(type_II_errors, n_samples, a_list, n_trials, test, periods)"
   ]
  },
  {
   "cell_type": "markdown",
   "metadata": {},
   "source": [
    "## Joint independence test"
   ]
  },
  {
   "cell_type": "code",
   "execution_count": null,
   "metadata": {},
   "outputs": [],
   "source": [
    "test = 'joint'\n",
    "\n",
    "# number of variables in network\n",
    "n_vars = 4\n",
    "\n",
    "# historical dependence is easier to detect the higher a is\n",
    "a_list = [0, 0.2, 0.4, 0.6, 0.8, 1]\n",
    "\n",
    "n_samples = [20, 40, 60]\n",
    "\n",
    "upper_limit = 1\n",
    "pred_points = np.linspace(0, upper_limit, n_preds)"
   ]
  },
  {
   "cell_type": "code",
   "execution_count": null,
   "metadata": {
    "scrolled": true
   },
   "outputs": [],
   "source": [
    "type_II_errors = {}\n",
    "\n",
    "for p in periods:\n",
    "    print('Period T:', p)\n",
    "    type_II_errors[p] = {}\n",
    "    for n_sample in tqdm(n_samples):\n",
    "        print('Sample size:', int(n_sample))\n",
    "        type_II_errors[p][int(n_sample)] = []\n",
    "        for a in a_list:\n",
    "            print('a:', a)\n",
    "            # generate synthetic data\n",
    "            edges_dict, X_dict = generate_data(dep=test, n_samples=int(n_sample), n_trials=n_trials, n_obs=n_obs, n_preds=n_preds, period=p, n_vars=n_vars, a=a, upper_limit=upper_limit, n_basis=n_basis, sd=sd)\n",
    "\n",
    "            # conduct n trials\n",
    "            power = test_power(X=X_dict, edges_dict=edges_dict, n_trials=n_trials, n_perms=n_perms, alpha=alpha, K='K_ID', test=test)\n",
    "            type_II_errors[p][n_sample].append(power)\n",
    "            print('Test power:', power)\n",
    "            print('----------')\n",
    "        print('----------')\n",
    "    \n",
    "power_hist = open('results/{}/test_power_hist_{}.pkl'.format(test, test), 'wb')\n",
    "pickle.dump(type_II_errors, power_hist)\n",
    "power_hist.close()"
   ]
  },
  {
   "cell_type": "code",
   "execution_count": null,
   "metadata": {},
   "outputs": [],
   "source": [
    "# plot n samples\n",
    "n = 10\n",
    "print(edges_dict[0])\n",
    "plot_samples(X_dict[0][3][:n], pred_points, upper_limit)"
   ]
  },
  {
   "cell_type": "code",
   "execution_count": null,
   "metadata": {},
   "outputs": [],
   "source": [
    "type_II_errors = pickle.load(open('results/{}/test_power_hist_{}.pkl'.format(test, test), 'rb'))"
   ]
  },
  {
   "cell_type": "code",
   "execution_count": null,
   "metadata": {},
   "outputs": [],
   "source": [
    "plot_power(type_II_errors, n_samples, a_list, n_trials, test, periods)"
   ]
  },
  {
   "cell_type": "markdown",
   "metadata": {},
   "source": [
    "## Conditional independence test"
   ]
  },
  {
   "cell_type": "code",
   "execution_count": null,
   "metadata": {},
   "outputs": [],
   "source": [
    "test = 'conditional'\n",
    "\n",
    "n_samples = [200] # , 100 300, \n",
    "\n",
    "# number of conditional variables\n",
    "n_vars = [2, 4, 8, 16]  #  16\n",
    "\n",
    "# # historical dependence between X and Y is easier to detect the higher a' is\n",
    "a_prime_list = [0, 4, 8, 10]\n",
    "\n",
    "# range of possible values for lambda\n",
    "lambs = [1e-5, 1e-4, 1e-3]\n",
    "n_pretests = 100\n",
    "n_steps = 50"
   ]
  },
  {
   "cell_type": "code",
   "execution_count": null,
   "metadata": {
    "scrolled": false
   },
   "outputs": [],
   "source": [
    "type_II_errors = {}\n",
    "lamb_opts = {}\n",
    "\n",
    "for p in periods:\n",
    "    print('Period T:', p)\n",
    "    type_II_errors[p] = {}\n",
    "    lamb_opts[p] = {}\n",
    "    for i_n, n_sample in enumerate(n_samples):\n",
    "        print('Sample size:', int(n_sample))\n",
    "        type_II_errors[p][int(n_sample)] = {}\n",
    "        lamb_opts[p][int(n_sample)] = {}\n",
    "        for i_d, d in enumerate(n_vars):\n",
    "            print('Number of conditional variables:', d)\n",
    "            type_II_errors[p][int(n_sample)][d] = []\n",
    "            lamb_opts[p][int(n_sample)][d] = []\n",
    "            for i_a, a_prime in enumerate(a_prime_list):\n",
    "                print(\"a':\", a_prime)\n",
    "                # generate synthetic data\n",
    "                X, Y, Z = generate_data(dep=test, n_samples=int(n_sample), n_trials=n_trials, n_obs=n_obs, n_preds=n_preds, period=p, n_vars=d, a=1, a_prime=a_prime, upper_limit=upper_limit, n_basis=n_basis, sd=sd)\n",
    "\n",
    "                if i_a == 0:\n",
    "                    lamb_opt, rejects_opt = opt_lambda(X[:n_sample], Y[:n_sample], Z[:, :n_sample, :], lambs, n_pretests, n_perms, n_steps, alpha, K='K_ID')\n",
    "                    #lamb_opt = 1e-4\n",
    "                \n",
    "                # conduct n trials\n",
    "                power = test_power(X=X, Y=Y, Z=Z, n_trials=n_trials, n_perms=n_perms, alpha=alpha, K='K_ID', test=test, lamb_opt=lamb_opt)\n",
    "                type_II_errors[p][n_sample][d].append(power)\n",
    "                lamb_opts[p][n_sample][d].append(lamb_opt)\n",
    "                print('Test power:', power)\n",
    "                print('----------')\n",
    "            print('----------')\n",
    "    print('----------')\n",
    "    \n",
    "power_hist = open('results/{}/test_power_hist_{}_200_01.pkl'.format(test, test), 'wb')\n",
    "pickle.dump(type_II_errors, power_hist)\n",
    "power_hist.close()\n",
    "lambs_opt_hist = open('results/{}/lambs_opt_{}_200_01.pkl'.format(test, test), 'wb')\n",
    "pickle.dump(lamb_opts, lambs_opt_hist)\n",
    "lambs_opt_hist.close()"
   ]
  },
  {
   "cell_type": "code",
   "execution_count": null,
   "metadata": {},
   "outputs": [],
   "source": [
    "type_II_errors = pickle.load(open('results/{}/test_power_hist_{}.pkl'.format(test, test), 'rb'))"
   ]
  },
  {
   "cell_type": "code",
   "execution_count": null,
   "metadata": {},
   "outputs": [],
   "source": [
    "type_II_errors"
   ]
  },
  {
   "cell_type": "code",
   "execution_count": null,
   "metadata": {},
   "outputs": [],
   "source": [
    "plot_power(type_II_errors, n_samples, a_prime_list, n_trials, test)"
   ]
  },
  {
   "cell_type": "markdown",
   "metadata": {},
   "source": [
    "#### Make boxplots for the type-I error rates over various values for $\\lambda$ and sample sizes."
   ]
  },
  {
   "cell_type": "code",
   "execution_count": null,
   "metadata": {},
   "outputs": [],
   "source": [
    "df = pd.read_pickle('tests/results/conditional/type_I_boxplots_df2.pkl')"
   ]
  },
  {
   "cell_type": "code",
   "execution_count": null,
   "metadata": {},
   "outputs": [],
   "source": [
    "type_I_boxplot(df)"
   ]
  },
  {
   "cell_type": "code",
   "execution_count": null,
   "metadata": {},
   "outputs": [],
   "source": []
  }
 ],
 "metadata": {
  "kernelspec": {
   "display_name": "Python 3 (ipykernel)",
   "language": "python",
   "name": "python3"
  },
  "language_info": {
   "codemirror_mode": {
    "name": "ipython",
    "version": 3
   },
   "file_extension": ".py",
   "mimetype": "text/x-python",
   "name": "python",
   "nbconvert_exporter": "python",
   "pygments_lexer": "ipython3",
   "version": "3.9.12"
  }
 },
 "nbformat": 4,
 "nbformat_minor": 1
}
