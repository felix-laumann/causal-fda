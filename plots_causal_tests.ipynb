{
 "cells": [
  {
   "cell_type": "code",
   "execution_count": null,
   "outputs": [],
   "source": [
    "import numpy as np\n",
    "import pickle\n",
    "import pandas as pd\n",
    "from plots import plot_SHD, plot_SHD_regression, plot_precision_recall, plot_comparison"
   ],
   "metadata": {
    "collapsed": false,
    "pycharm": {
     "name": "#%%\n"
    }
   }
  },
  {
   "cell_type": "markdown",
   "source": [
    "# Regression with $d = 2$"
   ],
   "metadata": {
    "collapsed": false,
    "pycharm": {
     "name": "#%% md\n"
    }
   }
  },
  {
   "cell_type": "code",
   "execution_count": null,
   "outputs": [],
   "source": [
    "n_nodes = 2\n",
    "n_trials = 200\n",
    "methods = ['Regression', 'CCM', 'Granger']\n",
    "\n",
    "SHD_avg_list = {}\n",
    "for meth in methods:\n",
    "    SHD_avg_list[meth] = []\n",
    "    \n",
    "SHD_std_list = {}\n",
    "for meth in methods:\n",
    "    SHD_std_list[meth] = []"
   ],
   "metadata": {
    "collapsed": false,
    "pycharm": {
     "name": "#%%\n"
    }
   }
  },
  {
   "cell_type": "markdown",
   "source": [
    "### Regression"
   ],
   "metadata": {
    "collapsed": false,
    "pycharm": {
     "name": "#%% md\n"
    }
   }
  },
  {
   "cell_type": "code",
   "execution_count": null,
   "outputs": [],
   "source": [
    "shd_regression = pickle.load(open('results/causal/final/regression/n_vars_2/shd_regression_{}.pkl'.format(n_nodes), 'rb'))[0.1]\n",
    "p_values_regression = pickle.load(open('results/causal/final/regression/n_vars_2/p_values_regression_{}.pkl'.format(n_nodes), 'rb'))[0.1]"
   ],
   "metadata": {
    "collapsed": false,
    "pycharm": {
     "name": "#%%\n"
    }
   }
  },
  {
   "cell_type": "code",
   "execution_count": null,
   "outputs": [],
   "source": [
    "n_samples = list(shd_regression.keys())"
   ],
   "metadata": {
    "collapsed": false,
    "pycharm": {
     "name": "#%%\n"
    }
   }
  },
  {
   "cell_type": "code",
   "execution_count": null,
   "outputs": [],
   "source": [
    "for n_sample in n_samples:\n",
    "    for i_p, p_value in enumerate(list(p_values_regression[n_sample][1][0])):\n",
    "        if p_value == 0.0:\n",
    "            shd_regression[n_sample][1][0][i_p] = 0"
   ],
   "metadata": {
    "collapsed": false,
    "pycharm": {
     "name": "#%%\n"
    }
   }
  },
  {
   "cell_type": "code",
   "execution_count": null,
   "outputs": [],
   "source": [
    "SHD_avg_list['Regression'] = [np.mean(shd_regression[n_sample][1]) for n_sample in n_samples]\n",
    "SHD_std_list['Regression'] = [np.std(shd_regression[n_sample][1]) for n_sample in n_samples]"
   ],
   "metadata": {
    "collapsed": false,
    "pycharm": {
     "name": "#%%\n"
    }
   }
  },
  {
   "cell_type": "markdown",
   "source": [
    "### Granger"
   ],
   "metadata": {
    "collapsed": false,
    "pycharm": {
     "name": "#%% md\n"
    }
   }
  },
  {
   "cell_type": "code",
   "execution_count": null,
   "outputs": [],
   "source": [
    "shd_granger = pickle.load(open('results/causal/final/regression/n_vars_2/shd_Granger_{}.pkl'.format(n_nodes), 'rb'))[0.1]\n",
    "p_values_granger = pickle.load(open('results/causal/final/regression/n_vars_2/p_values_Granger_{}.pkl'.format(n_nodes), 'rb'))[0.1]"
   ],
   "metadata": {
    "collapsed": false,
    "pycharm": {
     "name": "#%%\n"
    }
   }
  },
  {
   "cell_type": "code",
   "execution_count": null,
   "outputs": [],
   "source": [
    "SHD_avg_list['Granger'] = [np.mean(shd_granger[n_sample][1]) for n_sample in n_samples]\n",
    "SHD_std_list['Granger'] = [np.std(shd_granger[n_sample][1]) for n_sample in n_samples]"
   ],
   "metadata": {
    "collapsed": false,
    "pycharm": {
     "name": "#%%\n"
    }
   }
  },
  {
   "cell_type": "markdown",
   "source": [
    "### CCM"
   ],
   "metadata": {
    "collapsed": false,
    "pycharm": {
     "name": "#%% md\n"
    }
   }
  },
  {
   "cell_type": "code",
   "execution_count": null,
   "outputs": [],
   "source": [
    "shd_ccm = pickle.load(open('results/causal/final/regression/n_vars_2/shd_CCM_{}.pkl'.format(n_nodes), 'rb'))[0.1]\n",
    "p_values_ccm = pickle.load(open('results/causal/final/regression/n_vars_2/p_values_CCM_{}.pkl'.format(n_nodes), 'rb'))[0.1]"
   ],
   "metadata": {
    "collapsed": false,
    "pycharm": {
     "name": "#%%\n"
    }
   }
  },
  {
   "cell_type": "code",
   "execution_count": null,
   "outputs": [],
   "source": [
    "SHD_avg_list['CCM'] = [np.mean(shd_ccm[n_sample][1]) for n_sample in n_samples]\n",
    "SHD_std_list['CCM'] = [np.std(shd_ccm[n_sample][1]) for n_sample in n_samples]"
   ],
   "metadata": {
    "collapsed": false,
    "pycharm": {
     "name": "#%%\n"
    }
   }
  },
  {
   "cell_type": "code",
   "execution_count": null,
   "outputs": [],
   "source": [
    "SHD_avg_list"
   ],
   "metadata": {
    "collapsed": false,
    "pycharm": {
     "name": "#%%\n"
    }
   }
  },
  {
   "cell_type": "code",
   "execution_count": null,
   "outputs": [],
   "source": [
    "plot_SHD_regression(SHD_avg_list, SHD_std_list, n_samples, n_nodes, std=True)"
   ],
   "metadata": {
    "collapsed": false,
    "pycharm": {
     "name": "#%%\n"
    }
   }
  },
  {
   "cell_type": "markdown",
   "source": [
    "# Regression with $d = 3$"
   ],
   "metadata": {
    "collapsed": false,
    "pycharm": {
     "name": "#%% md\n"
    }
   }
  },
  {
   "cell_type": "code",
   "execution_count": null,
   "outputs": [],
   "source": [
    "n_nodes = 3\n",
    "n_trials = 200\n",
    "methods = ['Regression', 'PCMCI']\n",
    "\n",
    "SHD_avg_list = {}\n",
    "for meth in methods:\n",
    "    SHD_avg_list[meth] = []\n",
    "    \n",
    "SHD_std_list = {}\n",
    "for meth in methods:\n",
    "    SHD_std_list[meth] = []"
   ],
   "metadata": {
    "collapsed": false,
    "pycharm": {
     "name": "#%%\n"
    }
   }
  },
  {
   "cell_type": "code",
   "execution_count": null,
   "outputs": [],
   "source": [
    "### Regression"
   ],
   "metadata": {
    "collapsed": false,
    "pycharm": {
     "name": "#%%\n"
    }
   }
  },
  {
   "cell_type": "code",
   "execution_count": null,
   "outputs": [],
   "source": [
    "shd_regression = pickle.load(open('results/causal/final/regression/n_vars_3/shd_regression_{}.pkl'.format(n_nodes), 'rb'))[0.1]\n",
    "p_values_regression = pickle.load(open('results/causal/final/regression/n_vars_3/p_values_regression_{}.pkl'.format(n_nodes), 'rb'))[0.1]"
   ],
   "metadata": {
    "collapsed": false,
    "pycharm": {
     "name": "#%%\n"
    }
   }
  },
  {
   "cell_type": "code",
   "execution_count": null,
   "outputs": [],
   "source": [
    "n_samples = list(shd_regression.keys())"
   ],
   "metadata": {
    "collapsed": false,
    "pycharm": {
     "name": "#%%\n"
    }
   }
  },
  {
   "cell_type": "code",
   "execution_count": null,
   "outputs": [],
   "source": [
    "for n_sample in n_samples:\n",
    "    for i_p, p_value in enumerate(list(p_values_regression[n_sample][1][0])):\n",
    "        if p_value == 0.0:\n",
    "            shd_regression[n_sample][1][0][i_p] = 0"
   ],
   "metadata": {
    "collapsed": false,
    "pycharm": {
     "name": "#%%\n"
    }
   }
  },
  {
   "cell_type": "code",
   "execution_count": null,
   "outputs": [],
   "source": [
    "SHD_avg_list['Regression'] = [np.mean(shd_regression[n_sample][1]) for n_sample in n_samples]\n",
    "SHD_std_list['Regression'] = [np.std(shd_regression[n_sample][1]) for n_sample in n_samples]"
   ],
   "metadata": {
    "collapsed": false,
    "pycharm": {
     "name": "#%%\n"
    }
   }
  },
  {
   "cell_type": "code",
   "execution_count": null,
   "outputs": [],
   "source": [
    "SHD_avg_list"
   ],
   "metadata": {
    "collapsed": false,
    "pycharm": {
     "name": "#%%\n"
    }
   }
  },
  {
   "cell_type": "code",
   "execution_count": null,
   "outputs": [],
   "source": [
    "SHD_std_list"
   ],
   "metadata": {
    "collapsed": false,
    "pycharm": {
     "name": "#%%\n"
    }
   }
  },
  {
   "cell_type": "markdown",
   "source": [
    "### PCMCI"
   ],
   "metadata": {
    "collapsed": false,
    "pycharm": {
     "name": "#%% md\n"
    }
   }
  },
  {
   "cell_type": "code",
   "execution_count": null,
   "outputs": [],
   "source": [
    "n_samples = [100, 200, 300]"
   ],
   "metadata": {
    "collapsed": false,
    "pycharm": {
     "name": "#%%\n"
    }
   }
  },
  {
   "cell_type": "code",
   "execution_count": null,
   "outputs": [],
   "source": [
    "shd_pcmci = pickle.load(open('results/causal/final/regression/n_vars_3/shd_PCMCI_{}.pkl'.format(n_nodes), 'rb'))[0.1]\n",
    "p_values_pcmci = pickle.load(open('results/causal/final/regression/n_vars_3/p_values_PCMCI_{}.pkl'.format(n_nodes), 'rb'))[0.1]"
   ],
   "metadata": {
    "collapsed": false,
    "pycharm": {
     "name": "#%%\n"
    }
   }
  },
  {
   "cell_type": "code",
   "execution_count": null,
   "outputs": [],
   "source": [
    "SHD_avg_list['PCMCI'] = [np.mean(shd_pcmci[n_sample][1]) for n_sample in n_samples]\n",
    "SHD_std_list['PCMCI'] = [np.std(shd_pcmci[n_sample][1]) for n_sample in n_samples]"
   ],
   "metadata": {
    "collapsed": false,
    "pycharm": {
     "name": "#%%\n"
    }
   }
  },
  {
   "cell_type": "code",
   "execution_count": null,
   "outputs": [],
   "source": [
    "SHD_avg_list"
   ],
   "metadata": {
    "collapsed": false,
    "pycharm": {
     "name": "#%%\n"
    }
   }
  },
  {
   "cell_type": "code",
   "execution_count": null,
   "outputs": [],
   "source": [
    "SHD_std_list"
   ],
   "metadata": {
    "collapsed": false,
    "pycharm": {
     "name": "#%%\n"
    }
   }
  },
  {
   "cell_type": "code",
   "execution_count": null,
   "outputs": [],
   "source": [
    "plot_SHD_regression(SHD_avg_list, SHD_std_list, n_samples, n_nodes, std=True)"
   ],
   "metadata": {
    "collapsed": false,
    "pycharm": {
     "name": "#%%\n"
    }
   }
  },
  {
   "cell_type": "code",
   "execution_count": null,
   "outputs": [],
   "source": [
    "plot_SHD_regression(SHD_avg_list, SHD_std_list, n_samples, n_nodes, std=True)"
   ],
   "metadata": {
    "collapsed": false,
    "pycharm": {
     "name": "#%%\n"
    }
   }
  },
  {
   "cell_type": "code",
   "execution_count": null,
   "outputs": [],
   "source": [
    "# Constraint-based"
   ],
   "metadata": {
    "collapsed": false,
    "pycharm": {
     "name": "#%%\n"
    }
   }
  },
  {
   "cell_type": "code",
   "execution_count": null,
   "outputs": [],
   "source": [
    "for n_sample in n_samples:\n",
    "    for i_p, p_value in enumerate(list(p_values_regression[n_sample][1][0])):\n",
    "        if p_value == 0.0:\n",
    "            shd_regression[n_sample][1][0][i_p] = 0"
   ],
   "metadata": {
    "collapsed": false,
    "pycharm": {
     "name": "#%%\n"
    }
   }
  },
  {
   "cell_type": "code",
   "execution_count": null,
   "outputs": [],
   "source": [
    "SHD_avg_list['Regression'] = [np.mean(shd_regression[n_sample][1]) for n_sample in n_samples]\n",
    "SHD_std_list['Regression'] = [np.std(shd_regression[n_sample][1]) for n_sample in n_samples]"
   ],
   "metadata": {
    "collapsed": false,
    "pycharm": {
     "name": "#%%\n"
    }
   }
  },
  {
   "cell_type": "markdown",
   "source": [
    "### Granger"
   ],
   "metadata": {
    "collapsed": false,
    "pycharm": {
     "name": "#%% md\n"
    }
   }
  },
  {
   "cell_type": "code",
   "execution_count": null,
   "outputs": [],
   "source": [
    "shd_granger = pickle.load(open('results/causal/shd_Granger_{}.pkl'.format(n_nodes), 'rb'))[0.1]\n",
    "p_values_granger = pickle.load(open('results/causal/p_values_Granger_{}.pkl'.format(n_nodes), 'rb'))[0.1]"
   ],
   "metadata": {
    "collapsed": false,
    "pycharm": {
     "name": "#%%\n"
    }
   }
  },
  {
   "cell_type": "code",
   "execution_count": null,
   "outputs": [],
   "source": [
    "SHD_avg_list['Granger'] = [np.mean(shd_granger[n_sample][1]) for n_sample in n_samples]\n",
    "SHD_std_list['Granger'] = [np.std(shd_granger[n_sample][1]) for n_sample in n_samples]"
   ],
   "metadata": {
    "collapsed": false,
    "pycharm": {
     "name": "#%%\n"
    }
   }
  },
  {
   "cell_type": "markdown",
   "source": [
    "### CCM"
   ],
   "metadata": {
    "collapsed": false,
    "pycharm": {
     "name": "#%% md\n"
    }
   }
  },
  {
   "cell_type": "code",
   "execution_count": null,
   "outputs": [],
   "source": [
    "shd_ccm = pickle.load(open('results/causal/shd_CCM_{}.pkl'.format(n_nodes), 'rb'))[0.1]\n",
    "p_values_ccm = pickle.load(open('results/causal/p_values_CCM_{}.pkl'.format(n_nodes), 'rb'))[0.1]"
   ],
   "metadata": {
    "collapsed": false,
    "pycharm": {
     "name": "#%%\n"
    }
   }
  },
  {
   "cell_type": "code",
   "execution_count": null,
   "outputs": [],
   "source": [
    "SHD_avg_list['CCM'] = [np.mean(shd_ccm[n_sample][1]) for n_sample in n_samples]\n",
    "SHD_std_list['CCM'] = [np.std(shd_ccm[n_sample][1]) for n_sample in n_samples]"
   ],
   "metadata": {
    "collapsed": false,
    "pycharm": {
     "name": "#%%\n"
    }
   }
  },
  {
   "cell_type": "code",
   "execution_count": null,
   "outputs": [],
   "source": [
    "SHD_avg_list"
   ],
   "metadata": {
    "collapsed": false,
    "pycharm": {
     "name": "#%%\n"
    }
   }
  },
  {
   "cell_type": "code",
   "execution_count": null,
   "outputs": [],
   "source": [
    "plot_SHD_regression(SHD_avg_list, SHD_std_list, n_samples, n_nodes, std=True)"
   ],
   "metadata": {
    "collapsed": false,
    "pycharm": {
     "name": "#%%\n"
    }
   }
  },
  {
   "cell_type": "markdown",
   "source": [
    "# Regression with $d = 3$"
   ],
   "metadata": {
    "collapsed": false,
    "pycharm": {
     "name": "#%% md\n"
    }
   }
  },
  {
   "cell_type": "code",
   "execution_count": null,
   "outputs": [],
   "source": [
    "n_nodes = 3\n",
    "n_trials = 200\n",
    "methods = ['Regression', 'PCMCI']\n",
    "\n",
    "SHD_avg_list = {}\n",
    "for meth in methods:\n",
    "    SHD_avg_list[meth] = []\n",
    "    \n",
    "SHD_std_list = {}\n",
    "for meth in methods:\n",
    "    SHD_std_list[meth] = []"
   ],
   "metadata": {
    "collapsed": false,
    "pycharm": {
     "name": "#%%\n"
    }
   }
  },
  {
   "cell_type": "code",
   "execution_count": null,
   "outputs": [],
   "source": [
    "### Regression"
   ],
   "metadata": {
    "collapsed": false,
    "pycharm": {
     "name": "#%%\n"
    }
   }
  },
  {
   "cell_type": "code",
   "execution_count": null,
   "outputs": [],
   "source": [
    "shd_regression = pickle.load(open('results/causal/shd_regression_{}.pkl'.format(n_nodes), 'rb'))[0.1]\n",
    "p_values_regression = pickle.load(open('results/causal/p_values_regression_{}.pkl'.format(n_nodes), 'rb'))[0.1]"
   ],
   "metadata": {
    "collapsed": false,
    "pycharm": {
     "name": "#%%\n"
    }
   }
  },
  {
   "cell_type": "code",
   "execution_count": null,
   "outputs": [],
   "source": [
    "n_samples = list(shd_regression.keys())"
   ],
   "metadata": {
    "collapsed": false,
    "pycharm": {
     "name": "#%%\n"
    }
   }
  },
  {
   "cell_type": "code",
   "execution_count": null,
   "outputs": [],
   "source": [
    "for n_sample in n_samples:\n",
    "    for i_p, p_value in enumerate(list(p_values_regression[n_sample][1][0])):\n",
    "        if p_value == 0.0:\n",
    "            shd_regression[n_sample][1][0][i_p] = 0"
   ],
   "metadata": {
    "collapsed": false,
    "pycharm": {
     "name": "#%%\n"
    }
   }
  },
  {
   "cell_type": "code",
   "execution_count": null,
   "outputs": [],
   "source": [
    "SHD_avg_list['Regression'] = [np.mean(shd_regression[n_sample][1]) for n_sample in n_samples]\n",
    "SHD_std_list['Regression'] = [np.std(shd_regression[n_sample][1]) for n_sample in n_samples]"
   ],
   "metadata": {
    "collapsed": false,
    "pycharm": {
     "name": "#%%\n"
    }
   }
  },
  {
   "cell_type": "code",
   "execution_count": null,
   "outputs": [],
   "source": [
    "SHD_avg_list"
   ],
   "metadata": {
    "collapsed": false,
    "pycharm": {
     "name": "#%%\n"
    }
   }
  },
  {
   "cell_type": "code",
   "execution_count": null,
   "outputs": [],
   "source": [
    "SHD_std_list"
   ],
   "metadata": {
    "collapsed": false,
    "pycharm": {
     "name": "#%%\n"
    }
   }
  },
  {
   "cell_type": "markdown",
   "source": [
    "### PCMCI"
   ],
   "metadata": {
    "collapsed": false,
    "pycharm": {
     "name": "#%% md\n"
    }
   }
  },
  {
   "cell_type": "code",
   "execution_count": null,
   "outputs": [],
   "source": [
    "shd_pcmci = pickle.load(open('results/causal/shd_PCMCI_{}.pkl'.format(n_nodes), 'rb'))[0.1]\n",
    "p_values_pcmci = pickle.load(open('results/causal/p_values_PCMCI_{}.pkl'.format(n_nodes), 'rb'))[0.1]"
   ],
   "metadata": {
    "collapsed": false,
    "pycharm": {
     "name": "#%%\n"
    }
   }
  },
  {
   "cell_type": "code",
   "execution_count": null,
   "outputs": [],
   "source": [
    "SHD_avg_list['PCMCI'] = [np.mean(shd_pcmci[n_sample][1]) for n_sample in n_samples]\n",
    "SHD_std_list['PCMCI'] = [np.std(shd_pcmci[n_sample][1]) for n_sample in n_samples]"
   ],
   "metadata": {
    "collapsed": false,
    "pycharm": {
     "name": "#%%\n"
    }
   }
  },
  {
   "cell_type": "code",
   "execution_count": null,
   "outputs": [],
   "source": [
    "SHD_avg_list"
   ],
   "metadata": {
    "collapsed": false,
    "pycharm": {
     "name": "#%%\n"
    }
   }
  },
  {
   "cell_type": "code",
   "execution_count": null,
   "outputs": [],
   "source": [
    "SHD_std_list"
   ],
   "metadata": {
    "collapsed": false,
    "pycharm": {
     "name": "#%%\n"
    }
   }
  },
  {
   "cell_type": "code",
   "execution_count": null,
   "outputs": [],
   "source": [
    "plot_SHD_regression(SHD_avg_list, SHD_std_list, n_samples, n_nodes, std=True)"
   ],
   "metadata": {
    "collapsed": false,
    "pycharm": {
     "name": "#%%\n"
    }
   }
  },
  {
   "cell_type": "markdown",
   "source": [
    "# Comparison with Granger and CCM\n",
    "\n",
    "We additionally compare our regression-based approach with Granger and CCM in two cases:\n",
    "1. Moving from linearity to non-linearity in the relationship between X and Y (compared with Granger)\n",
    "2. Moving from stationary to non-stationary time-series samples in X and Y (compared with CCM)"
   ],
   "metadata": {
    "collapsed": false,
    "pycharm": {
     "name": "#%% md\n"
    }
   }
  },
  {
   "cell_type": "code",
   "execution_count": null,
   "outputs": [],
   "source": [
    "# case 1\n",
    "\n",
    "n = [100, 200, 300]\n",
    "a_list = [0, 2, 4, 6, 8, 10]\n",
    "results_Granger_1 = {}\n",
    "results_regression_1 = {}\n",
    "for i_n in n:\n",
    "    results_Granger_1[i_n] = []\n",
    "    results_regression_1[i_n] = [] "
   ],
   "metadata": {
    "collapsed": false,
    "pycharm": {
     "name": "#%%\n"
    }
   }
  },
  {
   "cell_type": "code",
   "execution_count": null,
   "outputs": [],
   "source": [
    "# copy data from parallel experiments\n",
    "results_Granger_1[100].extend([0.6386, 0.5406, 0.4171999999999999, 0.38239999999999996, 0.36920000000000003, 0.3550000000000001])\n",
    "results_Granger_1[200].extend([0.6292, 0.535, 0.3992, 0.3914999999999999, 0.36374999999999996, 0.3545])\n",
    "results_Granger_1[300].extend([0.6345000000000001, 0.541, 0.4068333333333333, 0.38916666666666666, 0.364, 0.34833333333333333])"
   ],
   "metadata": {
    "collapsed": false,
    "pycharm": {
     "name": "#%%\n"
    }
   }
  },
  {
   "cell_type": "code",
   "execution_count": null,
   "outputs": [],
   "source": [
    "results_Granger_1"
   ],
   "metadata": {
    "collapsed": false,
    "pycharm": {
     "name": "#%%\n"
    }
   }
  },
  {
   "cell_type": "code",
   "execution_count": null,
   "outputs": [],
   "source": [
    "# copy data from parallel experiments\n",
    "results_regression_1[100].extend([0.34, 0.34, 0.28, 0.36, 0.34, 0.38])\n",
    "results_regression_1[200].extend([0.38, 0.3, 0.38, 0.34, 0.35, 0.35])\n",
    "results_regression_1[300].extend([0.3, 0.3, 0.4, 0.35, 0.3, 0.35])"
   ],
   "metadata": {
    "collapsed": false,
    "pycharm": {
     "name": "#%%\n"
    }
   }
  },
  {
   "cell_type": "code",
   "execution_count": null,
   "outputs": [],
   "source": [
    "results_regression_1"
   ],
   "metadata": {
    "collapsed": false,
    "pycharm": {
     "name": "#%%\n"
    }
   }
  },
  {
   "cell_type": "code",
   "execution_count": null,
   "outputs": [],
   "source": [
    "n_samples = [100, 200, 300]\n",
    "comp_method = 'Granger'\n",
    "\n",
    "plot_comparison(results_Granger_1, results_regression_1, n_samples, a_list, comp_method=comp_method, std=True)"
   ],
   "metadata": {
    "collapsed": false,
    "pycharm": {
     "name": "#%%\n"
    }
   }
  },
  {
   "cell_type": "code",
   "execution_count": null,
   "outputs": [],
   "source": [
    "# case 2\n",
    "\n",
    "results_ccm_2 = {}\n",
    "results_regression_2 = {}\n",
    "for i_n in n:\n",
    "    results_ccm_2[i_n] = []\n",
    "    results_regression_2[i_n] = [] "
   ],
   "metadata": {
    "collapsed": false,
    "pycharm": {
     "name": "#%%\n"
    }
   }
  },
  {
   "cell_type": "code",
   "execution_count": null,
   "outputs": [],
   "source": [
    "# copy data from parallel experiments\n",
    "results_ccm_2[100].extend([0.49350000000000005, 0.3495, 0.26999999999999996, 0.251, 0.24100000000000005, 0.28500000000000003])\n",
    "results_ccm_2[200].extend([0.49675, 0.33625, 0.26275000000000004, 0.23500000000000001, 0.2355, 0.27424999999999994])\n",
    "results_ccm_2[300].extend([0.4996666666666666, 0.3388333333333334, 0.24383333333333335, 0.23199999999999998, 0.24300000000000002, 0.2706666666666666])"
   ],
   "metadata": {
    "collapsed": false,
    "pycharm": {
     "name": "#%%\n"
    }
   }
  },
  {
   "cell_type": "code",
   "execution_count": null,
   "outputs": [],
   "source": [
    "results_ccm_2"
   ],
   "metadata": {
    "collapsed": false,
    "pycharm": {
     "name": "#%%\n"
    }
   }
  },
  {
   "cell_type": "code",
   "execution_count": null,
   "outputs": [],
   "source": [
    "# copy data from parallel experiments\n",
    "results_regression_2[100].extend([0.45, 0.45, 0.4, 0.3, 0.3, 0.4])\n",
    "results_regression_2[200].extend([0.3, 0.35, 0.3, 0.3, 0.5, 0.35])\n",
    "results_regression_2[300].extend([0.35, 0.4, 0.3, 0.35, 0.3, 0.35])"
   ],
   "metadata": {
    "collapsed": false,
    "pycharm": {
     "name": "#%%\n"
    }
   }
  },
  {
   "cell_type": "code",
   "execution_count": null,
   "outputs": [],
   "source": [
    "results_regression_2"
   ],
   "metadata": {
    "collapsed": false,
    "pycharm": {
     "name": "#%%\n"
    }
   }
  },
  {
   "cell_type": "code",
   "execution_count": null,
   "outputs": [],
   "source": [
    "comp_method = 'CCM'\n",
    "\n",
    "plot_comparison(results_ccm_2, results_regression_2, n_samples, a_list, comp_method=comp_method, std=True)"
   ],
   "metadata": {
    "collapsed": false,
    "pycharm": {
     "name": "#%%\n"
    }
   }
  }
 ],
 "metadata": {
  "kernelspec": {
   "display_name": "Python 3 (ipykernel)",
   "language": "python",
   "name": "python3"
  },
  "language_info": {
   "codemirror_mode": {
    "name": "ipython",
    "version": 3
   },
   "file_extension": ".py",
   "mimetype": "text/x-python",
   "name": "python",
   "nbconvert_exporter": "python",
   "pygments_lexer": "ipython3",
   "version": "3.9.18"
  }
 },
 "nbformat": 4,
 "nbformat_minor": 1
}