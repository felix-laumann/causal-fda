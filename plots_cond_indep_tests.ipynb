{
 "cells": [
  {
   "cell_type": "code",
   "execution_count": 1,
   "metadata": {
    "ExecuteTime": {
     "end_time": "2023-06-24T07:16:39.529005052Z",
     "start_time": "2023-06-24T07:16:38.306414316Z"
    },
    "pycharm": {
     "name": "#%%\n"
    }
   },
   "outputs": [],
   "source": [
    "import numpy as np\n",
    "import pickle\n",
    "import pandas as pd\n",
    "from plots import type_I_boxplot, plot_power, plot_lambda_opts"
   ]
  },
  {
   "cell_type": "markdown",
   "source": [
    "# Curve plots for $\\lambda^*$"
   ],
   "metadata": {
    "collapsed": false,
    "pycharm": {
     "name": "#%% md\n"
    }
   }
  },
  {
   "cell_type": "code",
   "execution_count": null,
   "outputs": [],
   "source": [
    "test = 'conditional'\n",
    "\n",
    "lambs_all = [0.0001, 0.0002, 0.0004, 0.0006, 0.0008, 0.001, 0.002, 0.004, 0.007, 0.01, 0.012, 0.02, 0.03, 0.04, 0.05, 0.06, 0.08, 0.1]\n",
    "\n",
    "lamb_opts = pickle.load(open('results/{}/lambs_opt_{}.pkl'.format(test, test), 'rb'))"
   ],
   "metadata": {
    "collapsed": false,
    "pycharm": {
     "name": "#%%\n"
    }
   }
  },
  {
   "cell_type": "code",
   "execution_count": null,
   "outputs": [],
   "source": [
    "lamb_opts"
   ],
   "metadata": {
    "collapsed": false,
    "pycharm": {
     "name": "#%%\n"
    }
   }
  },
  {
   "cell_type": "code",
   "execution_count": null,
   "outputs": [],
   "source": [
    "lamb_opts = dict(sorted(lamb_opts.items()))"
   ],
   "metadata": {
    "collapsed": false,
    "pycharm": {
     "name": "#%%\n"
    }
   }
  },
  {
   "cell_type": "code",
   "execution_count": null,
   "outputs": [],
   "source": [
    "del lamb_opts[0]"
   ],
   "metadata": {
    "collapsed": false,
    "pycharm": {
     "name": "#%%\n"
    }
   }
  },
  {
   "cell_type": "code",
   "execution_count": null,
   "outputs": [],
   "source": [
    "plot_lambda_opts(lamb_opts)"
   ],
   "metadata": {
    "collapsed": false,
    "pycharm": {
     "name": "#%%\n"
    }
   }
  },
  {
   "cell_type": "markdown",
   "source": [
    "### Conditional independence tests"
   ],
   "metadata": {
    "collapsed": false,
    "pycharm": {
     "name": "#%% md\n"
    }
   }
  },
  {
   "cell_type": "code",
   "execution_count": null,
   "outputs": [],
   "source": [
    "n_samples = [100, 200, 300]\n",
    "a_prime_list = [0, 0.2, 0.4, 0.6, 0.8, 1]\n",
    "n_trials = 200\n",
    "test = 'conditional'\n",
    "periods = [0.1]"
   ],
   "metadata": {
    "collapsed": false,
    "pycharm": {
     "name": "#%%\n"
    }
   }
  },
  {
   "cell_type": "code",
   "execution_count": null,
   "outputs": [],
   "source": [
    "# 1 conditional variable\n",
    "type_II_errors_1 = {}\n",
    "opt_lambdas_1 = {}\n",
    "\n",
    "cond_100_01 = pickle.load(open('results/conditional/test_power_hist_conditional_1_100.pkl', 'rb'))[0.1][100][1]\n",
    "opt_lamb_100_01 = lamb_opts[1][100]\n",
    "\n",
    "cond_200_01 = pickle.load(open('results/conditional/test_power_hist_conditional_1_200.pkl', 'rb'))[0.1][200][1]\n",
    "opt_lamb_200_01 = lamb_opts[1][200]\n",
    "\n",
    "cond_300_01 = pickle.load(open('results/conditional/test_power_hist_conditional_1_300.pkl', 'rb'))[0.1][300][1]\n",
    "opt_lamb_300_01 = lamb_opts[1][300]"
   ],
   "metadata": {
    "collapsed": false,
    "pycharm": {
     "name": "#%%\n"
    }
   }
  },
  {
   "cell_type": "code",
   "execution_count": null,
   "outputs": [],
   "source": [
    "type_II_errors_1[0.1] = {}\n",
    "type_II_errors_1[0.1][100] = cond_100_01\n",
    "type_II_errors_1[0.1][200] = cond_200_01\n",
    "type_II_errors_1[0.1][300] = cond_300_01\n",
    "\n",
    "opt_lambdas_1[0.1] = {}\n",
    "opt_lambdas_1[0.1][100] = opt_lamb_100_01\n",
    "opt_lambdas_1[0.1][200] = opt_lamb_200_01\n",
    "opt_lambdas_1[0.1][300] = opt_lamb_300_01"
   ],
   "metadata": {
    "collapsed": false,
    "pycharm": {
     "name": "#%%\n"
    }
   }
  },
  {
   "cell_type": "code",
   "execution_count": null,
   "outputs": [],
   "source": [
    "plot_power(type_II_errors_1, n_samples, a_prime_list, n_trials, test, periods, 1, opt_lambdas_1)"
   ],
   "metadata": {
    "collapsed": false,
    "pycharm": {
     "name": "#%%\n"
    }
   }
  },
  {
   "cell_type": "code",
   "execution_count": null,
   "outputs": [],
   "source": [
    "# 2 conditional variables\n",
    "type_II_errors_2 = {}\n",
    "opt_lambdas_2 = {}\n",
    "\n",
    "cond_100_01 = pickle.load(open('results/conditional/test_power_hist_conditional_2_100.pkl', 'rb'))[0.1][100][2]\n",
    "opt_lamb_100_01 = lamb_opts[2][100]\n",
    "\n",
    "cond_200_01 = pickle.load(open('results/conditional/test_power_hist_conditional_2_200.pkl', 'rb'))[0.1][200][2]\n",
    "opt_lamb_200_01 = lamb_opts[2][200]\n",
    "\n",
    "cond_300_01 = pickle.load(open('results/conditional/test_power_hist_conditional_2_300.pkl', 'rb'))[0.1][300][2]\n",
    "opt_lamb_300_01 = lamb_opts[2][300]"
   ],
   "metadata": {
    "collapsed": false,
    "pycharm": {
     "name": "#%%\n"
    }
   }
  },
  {
   "cell_type": "code",
   "execution_count": null,
   "outputs": [],
   "source": [
    "type_II_errors_2[0.1] = {}\n",
    "type_II_errors_2[0.1][100] = cond_100_01\n",
    "type_II_errors_2[0.1][200] = cond_200_01\n",
    "type_II_errors_2[0.1][300] = cond_300_01\n",
    "\n",
    "opt_lambdas_2[0.1] = {}\n",
    "opt_lambdas_2[0.1][100] = opt_lamb_100_01\n",
    "opt_lambdas_2[0.1][200] = opt_lamb_200_01\n",
    "opt_lambdas_2[0.1][300] = opt_lamb_300_01"
   ],
   "metadata": {
    "collapsed": false,
    "pycharm": {
     "name": "#%%\n"
    }
   }
  },
  {
   "cell_type": "code",
   "execution_count": null,
   "outputs": [],
   "source": [
    "plot_power(type_II_errors_2, n_samples, a_prime_list, n_trials, test, periods, 2, opt_lambdas_2)"
   ],
   "metadata": {
    "collapsed": false,
    "pycharm": {
     "name": "#%%\n"
    }
   }
  },
  {
   "cell_type": "code",
   "execution_count": null,
   "outputs": [],
   "source": [
    "# 3 conditional variables\n",
    "type_II_errors_3 = {}\n",
    "opt_lambdas_3 = {}\n",
    "\n",
    "cond_100_01 = pickle.load(open('results/conditional/test_power_hist_conditional_3_100.pkl', 'rb'))[0.1][100][3]\n",
    "opt_lamb_100_01 = lamb_opts[3][100]\n",
    "\n",
    "cond_200_01 = pickle.load(open('results/conditional/test_power_hist_conditional_3_200.pkl', 'rb'))[0.1][200][3]\n",
    "opt_lamb_200_01 = lamb_opts[3][200]\n",
    "\n",
    "cond_300_01 = pickle.load(open('results/conditional/test_power_hist_conditional_3_300.pkl', 'rb'))[0.1][300][3]\n",
    "opt_lamb_300_01 = lamb_opts[3][300]"
   ],
   "metadata": {
    "collapsed": false,
    "pycharm": {
     "name": "#%%\n"
    }
   }
  },
  {
   "cell_type": "code",
   "execution_count": null,
   "outputs": [],
   "source": [
    "type_II_errors_3[0.1] = {}\n",
    "type_II_errors_3[0.1][100] = cond_100_01\n",
    "type_II_errors_3[0.1][200] = cond_200_01\n",
    "type_II_errors_3[0.1][300] = cond_300_01\n",
    "\n",
    "opt_lambdas_3[0.1] = {}\n",
    "opt_lambdas_3[0.1][100] = opt_lamb_100_01\n",
    "opt_lambdas_3[0.1][200] = opt_lamb_200_01\n",
    "opt_lambdas_3[0.1][300] = opt_lamb_300_01"
   ],
   "metadata": {
    "collapsed": false,
    "pycharm": {
     "name": "#%%\n"
    }
   }
  },
  {
   "cell_type": "code",
   "execution_count": null,
   "outputs": [],
   "source": [
    "plot_power(type_II_errors_3, n_samples, a_prime_list, n_trials, test, periods, 3, opt_lambdas_3)"
   ],
   "metadata": {
    "collapsed": false,
    "pycharm": {
     "name": "#%%\n"
    }
   }
  },
  {
   "cell_type": "code",
   "execution_count": null,
   "outputs": [],
   "source": [
    "# 4 conditional variables\n",
    "type_II_errors_4 = {}\n",
    "opt_lambdas_4 = {}\n",
    "\n",
    "cond_100_01 = pickle.load(open('results/conditional/test_power_hist_conditional_4_100.pkl', 'rb'))[0.1][100][4]\n",
    "opt_lamb_100_01 = lamb_opts[4][100]\n",
    "\n",
    "cond_200_01 = pickle.load(open('results/conditional/test_power_hist_conditional_4_200.pkl', 'rb'))[0.1][200][4]\n",
    "opt_lamb_200_01 = lamb_opts[4][200]\n",
    "\n",
    "cond_300_01 = pickle.load(open('results/conditional/test_power_hist_conditional_4_300.pkl', 'rb'))[0.1][300][4]\n",
    "opt_lamb_300_01 = lamb_opts[4][300]"
   ],
   "metadata": {
    "collapsed": false,
    "pycharm": {
     "name": "#%%\n"
    }
   }
  },
  {
   "cell_type": "code",
   "execution_count": null,
   "outputs": [],
   "source": [
    "type_II_errors_4[0.1] = {}\n",
    "type_II_errors_4[0.1][100] = cond_100_01\n",
    "type_II_errors_4[0.1][200] = cond_200_01\n",
    "type_II_errors_4[0.1][300] = cond_300_01\n",
    "\n",
    "opt_lambdas_4[0.1] = {}\n",
    "opt_lambdas_4[0.1][100] = opt_lamb_100_01\n",
    "opt_lambdas_4[0.1][200] = opt_lamb_200_01\n",
    "opt_lambdas_4[0.1][300] = opt_lamb_300_01"
   ],
   "metadata": {
    "collapsed": false,
    "pycharm": {
     "name": "#%%\n"
    }
   }
  },
  {
   "cell_type": "code",
   "execution_count": null,
   "outputs": [],
   "source": [
    "plot_power(type_II_errors_4, n_samples, a_prime_list, n_trials, test, periods, 4, opt_lambdas_4)"
   ],
   "metadata": {
    "collapsed": false,
    "pycharm": {
     "name": "#%%\n"
    }
   }
  },
  {
   "cell_type": "code",
   "execution_count": null,
   "outputs": [],
   "source": [],
   "metadata": {
    "collapsed": false,
    "pycharm": {
     "name": "#%%\n"
    }
   }
  }
 ],
 "metadata": {
  "kernelspec": {
   "display_name": "Python 3 (ipykernel)",
   "language": "python",
   "name": "python3"
  },
  "language_info": {
   "codemirror_mode": {
    "name": "ipython",
    "version": 3
   },
   "file_extension": ".py",
   "mimetype": "text/x-python",
   "name": "python",
   "nbconvert_exporter": "python",
   "pygments_lexer": "ipython3",
   "version": "3.9.12"
  }
 },
 "nbformat": 4,
 "nbformat_minor": 1
}