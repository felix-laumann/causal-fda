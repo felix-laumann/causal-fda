{
 "cells": [
  {
   "cell_type": "markdown",
   "metadata": {
    "collapsed": true,
    "pycharm": {
     "name": "#%% md\n"
    }
   },
   "source": [
    "# Preparation of [WGI dataset](http://info.worldbank.org/governance/wgi/)"
   ]
  },
  {
   "cell_type": "code",
   "execution_count": null,
   "metadata": {
    "ExecuteTime": {
     "end_time": "2023-09-28T08:27:47.472143800Z",
     "start_time": "2023-09-28T08:27:47.353625410Z"
    },
    "pycharm": {
     "name": "#%%\n"
    }
   },
   "outputs": [],
   "source": [
    "import numpy as np\n",
    "import pandas as pd\n",
    "from causal import ccm_bivariate, granger, eval_candidate_DAGs, causal_discovery\n",
    "from kernels import K_ID\n",
    "from synthetic_data import spline_multi_sample\n",
    "import networkx as nx\n",
    "import matplotlib.pyplot as plt"
   ]
  },
  {
   "cell_type": "markdown",
   "metadata": {
    "pycharm": {
     "name": "#%% md\n"
    }
   },
   "source": [
    "Create a separate dataframe for each variable"
   ]
  },
  {
   "cell_type": "code",
   "execution_count": null,
   "metadata": {
    "ExecuteTime": {
     "end_time": "2023-09-28T08:27:53.597046577Z",
     "start_time": "2023-09-28T08:27:49.735163759Z"
    },
    "pycharm": {
     "is_executing": true,
     "name": "#%%\n"
    }
   },
   "outputs": [],
   "source": [
    "df_VA = pd.read_excel(r'/home/felix/Dropbox/Research/projects/causal-fda/data/wgidataset.xlsx', sheet_name='VoiceandAccountability', header=13).rename(columns={'Unnamed: 0': 'Country'})\n",
    "df_PS = pd.read_excel(r'/home/felix/Dropbox/Research/projects/causal-fda/data/wgidataset.xlsx', sheet_name='Political StabilityNoViolence', header=13).rename(columns={'Unnamed: 0': 'Country'})\n",
    "df_GE = pd.read_excel(r'/home/felix/Dropbox/Research/projects/causal-fda/data/wgidataset.xlsx', sheet_name='GovernmentEffectiveness', header=13).rename(columns={'Unnamed: 0': 'Country'})\n",
    "df_RQ = pd.read_excel(r'/home/felix/Dropbox/Research/projects/causal-fda/data/wgidataset.xlsx', sheet_name='RegulatoryQuality', header=13).rename(columns={'Unnamed: 0': 'Country'})\n",
    "df_RL = pd.read_excel(r'/home/felix/Dropbox/Research/projects/causal-fda/data/wgidataset.xlsx', sheet_name='RuleofLaw', header=13).rename(columns={'Unnamed: 0': 'Country'})\n",
    "df_CC = pd.read_excel(r'/home/felix/Dropbox/Research/projects/causal-fda/data/wgidataset.xlsx', sheet_name='ControlofCorruption', header=13).rename(columns={'Unnamed: 0': 'Country'})"
   ]
  },
  {
   "cell_type": "code",
   "execution_count": null,
   "metadata": {
    "ExecuteTime": {
     "end_time": "2023-09-28T08:27:55.100547176Z",
     "start_time": "2023-09-28T08:27:55.031196079Z"
    },
    "pycharm": {
     "name": "#%%\n"
    }
   },
   "outputs": [],
   "source": [
    "dfs = [df_VA, df_PS, df_GE, df_RQ, df_RL, df_CC]"
   ]
  },
  {
   "cell_type": "code",
   "execution_count": null,
   "metadata": {
    "ExecuteTime": {
     "end_time": "2023-09-28T08:27:55.581182266Z",
     "start_time": "2023-09-28T08:27:55.416235121Z"
    },
    "pycharm": {
     "name": "#%%\n"
    },
    "scrolled": false
   },
   "outputs": [],
   "source": [
    "# check\n",
    "df_GE"
   ]
  },
  {
   "cell_type": "markdown",
   "metadata": {
    "pycharm": {
     "name": "#%% md\n"
    }
   },
   "source": [
    "Only work with Estimate and delete each Country that has NaNs in time-series:"
   ]
  },
  {
   "cell_type": "code",
   "execution_count": null,
   "metadata": {
    "ExecuteTime": {
     "end_time": "2023-09-28T08:27:57.834028946Z",
     "start_time": "2023-09-28T08:27:57.637810010Z"
    },
    "pycharm": {
     "name": "#%%\n"
    }
   },
   "outputs": [],
   "source": [
    "for df in dfs:\n",
    "    df.drop(columns=[c for c in df if c!='Country' and c not in list(np.arange(1996, 2021, 1))],inplace=True)\n",
    "    df.drop(index=0, inplace=True)\n",
    "    df.dropna(inplace=True)"
   ]
  },
  {
   "cell_type": "markdown",
   "metadata": {
    "pycharm": {
     "name": "#%% md\n"
    }
   },
   "source": [
    "Linearly interpolate missing years: 1997, 1999, 2001"
   ]
  },
  {
   "cell_type": "code",
   "execution_count": null,
   "metadata": {
    "ExecuteTime": {
     "end_time": "2023-09-28T08:27:59.145460614Z",
     "start_time": "2023-09-28T08:27:59.048415688Z"
    },
    "pycharm": {
     "name": "#%%\n"
    }
   },
   "outputs": [],
   "source": [
    "columns = ['Country', 1996, 1997, 1998, 1999, 2000, 2001, 2002, 2003, 2004, 2005, 2006, 2007, 2008, 2009, 2010, 2011, 2012, 2013, 2014, 2015, 2016, 2017, 2018, 2019, 2020]"
   ]
  },
  {
   "cell_type": "code",
   "execution_count": null,
   "metadata": {
    "ExecuteTime": {
     "end_time": "2023-09-28T08:27:59.744462520Z",
     "start_time": "2023-09-28T08:27:59.519910923Z"
    },
    "pycharm": {
     "name": "#%%\n"
    }
   },
   "outputs": [],
   "source": [
    "for df in dfs:\n",
    "    for y in np.arange(1996, 2021, 1):\n",
    "        if y not in df.columns:\n",
    "            df[y] = np.nan\n",
    "    \n",
    "    df[np.arange(1996, 2021, 1)] = df[np.arange(1996, 2021, 1)].astype(float).interpolate(axis=1)"
   ]
  },
  {
   "cell_type": "markdown",
   "metadata": {
    "pycharm": {
     "name": "#%% md\n"
    }
   },
   "source": [
    "Reorder the columns:"
   ]
  },
  {
   "cell_type": "code",
   "execution_count": null,
   "metadata": {
    "ExecuteTime": {
     "end_time": "2023-09-28T08:28:00.488068993Z",
     "start_time": "2023-09-28T08:28:00.369927974Z"
    },
    "pycharm": {
     "name": "#%%\n"
    }
   },
   "outputs": [],
   "source": [
    "df_VA = df_VA[columns]\n",
    "df_PS = df_PS[columns]\n",
    "df_GE = df_GE[columns]\n",
    "df_RQ = df_RQ[columns]\n",
    "df_RL = df_RL[columns]\n",
    "df_CC = df_CC[columns]"
   ]
  },
  {
   "cell_type": "markdown",
   "metadata": {
    "pycharm": {
     "name": "#%% md\n"
    }
   },
   "source": [
    "Only work with countries where data are available for all six variables:"
   ]
  },
  {
   "cell_type": "code",
   "execution_count": null,
   "metadata": {
    "ExecuteTime": {
     "end_time": "2023-09-28T08:28:01.538521241Z",
     "start_time": "2023-09-28T08:28:01.484140051Z"
    },
    "pycharm": {
     "name": "#%%\n"
    }
   },
   "outputs": [],
   "source": [
    "countries = set(df_VA['Country']) & set(df_PS['Country']) & set(df_GE['Country']) & set(df_RQ['Country']) & set(df_RL['Country']) & set(df_CC['Country'])"
   ]
  },
  {
   "cell_type": "code",
   "execution_count": null,
   "metadata": {
    "ExecuteTime": {
     "end_time": "2023-09-28T08:28:02.064164231Z",
     "start_time": "2023-09-28T08:28:01.982820230Z"
    },
    "pycharm": {
     "name": "#%%\n"
    }
   },
   "outputs": [],
   "source": [
    "df_VA = df_VA.loc[df_VA['Country'].isin(countries)]\n",
    "df_PS = df_PS.loc[df_PS['Country'].isin(countries)]\n",
    "df_GE = df_GE.loc[df_GE['Country'].isin(countries)]\n",
    "df_RQ = df_RQ.loc[df_RQ['Country'].isin(countries)]\n",
    "df_RL = df_RL.loc[df_RL['Country'].isin(countries)]\n",
    "df_CC = df_CC.loc[df_CC['Country'].isin(countries)]"
   ]
  },
  {
   "cell_type": "code",
   "execution_count": null,
   "metadata": {
    "ExecuteTime": {
     "end_time": "2023-09-28T08:28:02.734693611Z",
     "start_time": "2023-09-28T08:28:02.571522781Z"
    },
    "pycharm": {
     "name": "#%%\n"
    },
    "scrolled": true
   },
   "outputs": [],
   "source": [
    "# check\n",
    "df_RQ"
   ]
  },
  {
   "cell_type": "markdown",
   "metadata": {
    "pycharm": {
     "name": "#%% md\n"
    }
   },
   "source": [
    "### Causal discovery on corruption and income inequality in Africa"
   ]
  },
  {
   "cell_type": "code",
   "execution_count": null,
   "metadata": {
    "ExecuteTime": {
     "end_time": "2023-09-28T08:28:05.677092156Z",
     "start_time": "2023-09-28T08:28:05.668620302Z"
    },
    "pycharm": {
     "name": "#%%\n"
    }
   },
   "outputs": [],
   "source": [
    "Africa_countries = ['Algeria', 'Egypt, Arab Rep.', 'Morocco', 'Tunisia', 'Burundi', 'Comoros', 'Djibouti', 'Eritrea', 'Ethiopia', 'Kenya', \n",
    "'Madagascar', 'Malawi', 'Mauritius', 'Mozambique', 'Rwanda', 'Seychelles', 'Somalia', 'Uganda',\n",
    "'Tanzania', 'Zambia', 'Zimbabwe', 'Angola', 'Cameroon', 'Central African Republic', 'Chad', 'Congo, Rep.',\n",
    "'Congo, Dem. Rep.', 'Equatorial Guinea', 'Gabon', 'Botswana', 'Lesotho', 'Namibia',\n",
    "'South Africa', 'Benin', 'Burkina Faso', \"Côte d'Ivoire\", 'Gambia, The', 'Ghana', 'Guinea-Bissau', 'Liberia',\n",
    "'Mali', 'Mauritania', 'Niger', 'Nigeria', 'Senegal', 'Sierra Leone', 'Togo']"
   ]
  },
  {
   "cell_type": "code",
   "execution_count": null,
   "metadata": {
    "ExecuteTime": {
     "end_time": "2023-09-28T08:28:06.551723395Z",
     "start_time": "2023-09-28T08:28:06.524001522Z"
    },
    "pycharm": {
     "name": "#%%\n"
    },
    "scrolled": true
   },
   "outputs": [],
   "source": [
    "# corruption data\n",
    "df_CC_Africa = df_CC[df_CC['Country'].isin(Africa_countries)].iloc[:, 0:22]"
   ]
  },
  {
   "cell_type": "code",
   "execution_count": null,
   "metadata": {
    "ExecuteTime": {
     "end_time": "2023-09-28T08:28:07.434520430Z",
     "start_time": "2023-09-28T08:28:07.347644446Z"
    },
    "pycharm": {
     "name": "#%%\n"
    },
    "scrolled": true
   },
   "outputs": [],
   "source": [
    "df_CC_Africa"
   ]
  },
  {
   "cell_type": "code",
   "execution_count": null,
   "metadata": {
    "ExecuteTime": {
     "end_time": "2023-09-28T08:28:08.607592489Z",
     "start_time": "2023-09-28T08:28:08.555935190Z"
    },
    "pycharm": {
     "name": "#%%\n"
    }
   },
   "outputs": [],
   "source": [
    "# income inequality data\n",
    "df_IE = pd.read_csv(r'/home/felix/Dropbox/Research/projects/causal-fda/data/gini.csv')\n",
    "df_IE.replace(\"Cote d'Ivoire\", \"Côte d'Ivoire\", inplace=True)\n",
    "\n",
    "df_IE_Africa = df_IE[df_IE['Country'].isin(Africa_countries)]\n",
    "df_IE_Africa_time = df_IE_Africa.loc[:, df_IE_Africa.columns != 'Country']\n",
    "df_IE_Africa_time_1 = df_IE_Africa_time.replace('..', np.nan).astype(float).interpolate(axis=1)\n",
    "df_IE_Africa_time_2 = df_IE_Africa_time_1.fillna(df_IE_Africa_time_1.mean(axis=0))\n",
    "\n",
    "df_IE_Africa_int = pd.concat([df_IE_Africa.loc[:, df_IE_Africa.columns=='Country'], df_IE_Africa_time_2], axis=1)"
   ]
  },
  {
   "cell_type": "code",
   "execution_count": null,
   "metadata": {
    "ExecuteTime": {
     "end_time": "2023-09-28T08:28:09.860290211Z",
     "start_time": "2023-09-28T08:28:09.807344425Z"
    },
    "pycharm": {
     "name": "#%%\n"
    },
    "scrolled": true
   },
   "outputs": [],
   "source": [
    "df_IE_Africa_int"
   ]
  },
  {
   "cell_type": "markdown",
   "metadata": {
    "pycharm": {
     "name": "#%% md\n"
    }
   },
   "source": [
    "#### CCM analysis"
   ]
  },
  {
   "cell_type": "code",
   "execution_count": null,
   "metadata": {
    "ExecuteTime": {
     "end_time": "2023-09-28T08:28:13.140877716Z",
     "start_time": "2023-09-28T08:28:12.153381172Z"
    },
    "pycharm": {
     "name": "#%%\n"
    }
   },
   "outputs": [],
   "source": [
    "%%time\n",
    "\n",
    "DAGs = {}\n",
    "DAGs_01 = {}\n",
    "DAGs_10 = {}\n",
    "p_values = {}\n",
    "p_values_01 = {}\n",
    "p_values_10 = {}\n",
    "for i, country in enumerate(df_CC_Africa['Country']):\n",
    "    arr1 = df_CC_Africa.loc[df_CC_Africa['Country']==country].loc[:, df_CC_Africa.columns != 'Country'].to_numpy()\n",
    "    arr2 = df_IE_Africa_int.loc[df_IE_Africa_int['Country']==country].loc[:, df_IE_Africa_int.columns != 'Country'].to_numpy()\n",
    "    arr = np.asarray([arr1, arr2]).squeeze()\n",
    "\n",
    "    DAG, _, p_value, _ = ccm_bivariate(arr, alpha=0.05)\n",
    "    DAGs[country] = DAG\n",
    "    p_values[country] = p_value\n",
    "    \n",
    "    if DAG == {0: [], 1: 0}:\n",
    "        DAGs_01[i] = DAG\n",
    "        p_values_01[i] = p_value\n",
    "        \n",
    "    if DAG == {0: 1, 1: []}:\n",
    "        DAGs_10[i] = DAG\n",
    "        p_values_10[i] = p_value"
   ]
  },
  {
   "cell_type": "code",
   "execution_count": null,
   "metadata": {
    "ExecuteTime": {
     "end_time": "2023-09-28T08:28:14.191342765Z",
     "start_time": "2023-09-28T08:28:14.130337920Z"
    },
    "pycharm": {
     "name": "#%%\n"
    }
   },
   "outputs": [],
   "source": [
    "len(DAGs_01)/len(DAGs)"
   ]
  },
  {
   "cell_type": "code",
   "execution_count": null,
   "metadata": {
    "ExecuteTime": {
     "end_time": "2023-09-28T08:28:14.900826124Z",
     "start_time": "2023-09-28T08:28:14.799360750Z"
    },
    "pycharm": {
     "name": "#%%\n"
    }
   },
   "outputs": [],
   "source": [
    "len(DAGs_10)/len(DAGs)"
   ]
  },
  {
   "cell_type": "markdown",
   "metadata": {},
   "source": [
    "#### Granger analysis"
   ]
  },
  {
   "cell_type": "code",
   "execution_count": null,
   "metadata": {},
   "outputs": [],
   "source": [
    "%%time\n",
    "\n",
    "DAGs = {}\n",
    "DAGs_01 = {}\n",
    "DAGs_10 = {}\n",
    "p_values = {}\n",
    "p_values_01 = {}\n",
    "p_values_10 = {}\n",
    "for i, country in enumerate(df_CC_Africa['Country']):\n",
    "    arr1 = df_CC_Africa.loc[df_CC_Africa['Country']==country].loc[:, df_CC_Africa.columns != 'Country'].to_numpy()\n",
    "    arr2 = df_IE_Africa_int.loc[df_IE_Africa_int['Country']==country].loc[:, df_IE_Africa_int.columns != 'Country'].to_numpy()\n",
    "    arr = np.asarray([arr1, arr2]).squeeze()\n",
    "\n",
    "    DAG, _, p_value, _ = granger(arr, alpha=0.05)\n",
    "    DAGs[country] = DAG\n",
    "    p_values[country] = p_value\n",
    "    \n",
    "    if DAG == {0: [], 1: 0}:\n",
    "        DAGs_01[i] = DAG\n",
    "        p_values_01[i] = p_value\n",
    "        \n",
    "    if DAG == {0: 1, 1: []}:\n",
    "        DAGs_10[i] = DAG\n",
    "        p_values_10[i] = p_value"
   ]
  },
  {
   "cell_type": "code",
   "execution_count": null,
   "metadata": {},
   "outputs": [],
   "source": [
    "len(DAGs_01)/len(DAGs)"
   ]
  },
  {
   "cell_type": "code",
   "execution_count": null,
   "metadata": {},
   "outputs": [],
   "source": [
    "len(DAGs_10)/len(DAGs)"
   ]
  },
  {
   "cell_type": "markdown",
   "metadata": {
    "pycharm": {
     "name": "#%% md\n"
    }
   },
   "source": [
    "#### Regression-based analysis"
   ]
  },
  {
   "cell_type": "code",
   "execution_count": null,
   "metadata": {
    "pycharm": {
     "name": "#%%\n"
    }
   },
   "outputs": [],
   "source": [
    "np_CC_Africa = np.zeros(df_CC_Africa.iloc[:, 1:].shape)\n",
    "np_IE_Africa = np.zeros(df_CC_Africa.iloc[:, 1:].shape)\n",
    "\n",
    "for i, country in enumerate(df_CC_Africa['Country']):\n",
    "    np_CC_Africa[i] = df_CC_Africa.loc[df_CC_Africa['Country']==country].loc[:, df_CC_Africa.columns != 'Country'].to_numpy()\n",
    "    np_IE_Africa[i] = df_IE_Africa_int.loc[df_IE_Africa_int['Country']==country].loc[:, df_IE_Africa_int.columns != 'Country'].to_numpy()"
   ]
  },
  {
   "cell_type": "code",
   "execution_count": null,
   "metadata": {
    "pycharm": {
     "name": "#%%\n"
    },
    "scrolled": true
   },
   "outputs": [],
   "source": [
    "%%time\n",
    "\n",
    "arr = np.asarray([np_CC_Africa, np_IE_Africa]).squeeze()\n",
    "n_intervals = 12\n",
    "analyse = True\n",
    "pred_points = np.linspace(0, 1, 21)\n",
    "n_neighbours = 5\n",
    "n_perms = 1000\n",
    "alpha = 0.05\n",
    "make_K = K_ID\n",
    "regressor = 'hist'\n",
    "\n",
    "print(eval_candidate_DAGs(arr, pred_points, n_intervals, n_neighbours, n_perms, alpha, \n",
    "                          make_K, analyse, regressor, pd_graph=None))"
   ]
  },
  {
   "cell_type": "markdown",
   "metadata": {
    "pycharm": {
     "name": "#%% md\n"
    }
   },
   "source": [
    "### Causal discovery on the WGI dataset\n",
    "\n",
    "Countries are seen as independent samples, data are taken from 1996 to 2020. Each country has one score for each variable in every year."
   ]
  },
  {
   "cell_type": "code",
   "execution_count": null,
   "metadata": {
    "pycharm": {
     "name": "#%%\n"
    }
   },
   "outputs": [],
   "source": [
    "np_VA = df_VA.loc[:, df_VA.columns != 'Country'].to_numpy()\n",
    "np_PS = df_PS.loc[:, df_PS.columns != 'Country'].to_numpy()\n",
    "np_GE = df_GE.loc[:, df_GE.columns != 'Country'].to_numpy()\n",
    "np_RQ = df_RQ.loc[:, df_RQ.columns != 'Country'].to_numpy()\n",
    "np_RL = df_RL.loc[:, df_RL.columns != 'Country'].to_numpy()\n",
    "np_CC = df_CC.loc[:, df_CC.columns != 'Country'].to_numpy()"
   ]
  },
  {
   "cell_type": "code",
   "execution_count": null,
   "metadata": {
    "pycharm": {
     "name": "#%%\n"
    }
   },
   "outputs": [],
   "source": [
    "n_vars = 6\n",
    "n_samples, n_years = np_VA.shape\n",
    "nps = np.zeros((n_vars, n_samples, n_years))\n",
    "nps[0] = np_VA\n",
    "nps[1] = np_PS\n",
    "nps[2] = np_GE\n",
    "nps[3] = np_RQ\n",
    "nps[4] = np_RL\n",
    "nps[5] = np_CC"
   ]
  },
  {
   "cell_type": "code",
   "execution_count": null,
   "metadata": {
    "pycharm": {
     "name": "#%%\n"
    }
   },
   "outputs": [],
   "source": [
    "# experiment parameters\n",
    "cd_type = 'combined'\n",
    "obs_points = np.tile(np.linspace(0, 1, nps.shape[2]), (n_samples, 1))\n",
    "pred_points = np.linspace(0, 1, 100)\n",
    "n_intervals = 12\n",
    "n_neighbours = 3\n",
    "n_perms = 1000\n",
    "alpha = 0.05\n",
    "make_K = K_ID\n",
    "lambs = 1e-1\n",
    "n_pretests = 100\n",
    "n_steps = 50\n",
    "analyse = True\n",
    "regressor = 'hist'\n",
    "init = 'cond_set'\n",
    "find_lambda = False\n",
    "\n",
    "l_cond = np.zeros(n_vars - 2)\n",
    "r_opts = np.zeros(n_vars - 2)"
   ]
  },
  {
   "cell_type": "code",
   "execution_count": null,
   "metadata": {
    "pycharm": {
     "name": "#%%\n"
    }
   },
   "outputs": [],
   "source": [
    "# data preparation\n",
    "nps_int = np.zeros((nps.shape[0], nps.shape[1], len(pred_points)))\n",
    "for d in range(nps.shape[0]):\n",
    "    nps_int[d] = spline_multi_sample(nps[d], obs_points, pred_points).evaluate(pred_points).squeeze()"
   ]
  },
  {
   "cell_type": "code",
   "execution_count": null,
   "metadata": {
    "pycharm": {
     "name": "#%%\n"
    },
    "scrolled": true
   },
   "outputs": [],
   "source": [
    "%%time\n",
    "sparse_g, _DAGs, p_values, lamb_cond, rejects_opts, lags, corr_values = causal_discovery(cd_type, nps_int, pred_points, n_intervals, n_neighbours, n_perms, alpha, make_K, lambs, n_pretests, \n",
    "                                                                                         n_steps, analyse, regressor, l_cond, r_opts, init, find_lambda, pd_graph=None)"
   ]
  },
  {
   "cell_type": "code",
   "execution_count": null,
   "metadata": {
    "pycharm": {
     "name": "#%%\n"
    }
   },
   "outputs": [],
   "source": [
    "print(sparse_g, _DAGs, p_values, lamb_cond, rejects_opts, lags, corr_values)"
   ]
  },
  {
   "cell_type": "markdown",
   "metadata": {
    "pycharm": {
     "name": "#%% md\n"
    }
   },
   "source": [
    "### Draw networks\n",
    "\n",
    "#### Undirected network"
   ]
  },
  {
   "cell_type": "code",
   "execution_count": null,
   "metadata": {
    "pycharm": {
     "name": "#%%\n"
    }
   },
   "outputs": [],
   "source": [
    "for i in range(nps.shape[0]):\n",
    "    if i not in list(_DAGs.keys()):\n",
    "        _DAGs[i] = []"
   ]
  },
  {
   "cell_type": "code",
   "execution_count": null,
   "metadata": {
    "pycharm": {
     "name": "#%%\n"
    }
   },
   "outputs": [],
   "source": [
    "pg_graph = nx.Graph()\n",
    "\n",
    "for d, p_list in _DAGs.items():\n",
    "    pg_graph.add_node(d)\n",
    "    for p in p_list:\n",
    "        pg_graph.add_edge(p, d)\n",
    "\n",
    "pg = nx.Graph()\n",
    "pg.add_nodes_from(sorted(pg_graph.nodes(data=True)))\n",
    "pg.add_edges_from(pg_graph.edges(data=True))"
   ]
  },
  {
   "cell_type": "code",
   "execution_count": null,
   "metadata": {
    "pycharm": {
     "name": "#%%\n"
    }
   },
   "outputs": [],
   "source": [
    "# label variables according to official WGI names\n",
    "mapping = {0: \"VA\", 1: \"PS\", 2: \"GE\", 3: \"RQ\", 4: \"RL\", 5: \"CC\"}\n",
    "pg_ = nx.relabel_nodes(pg, mapping)"
   ]
  },
  {
   "cell_type": "code",
   "execution_count": null,
   "metadata": {
    "pycharm": {
     "name": "#%%\n"
    }
   },
   "outputs": [],
   "source": [
    "plt.figure(figsize=(10,6))\n",
    "plt.tight_layout()\n",
    "nx.draw_networkx(pg_, pos=nx.circular_layout(pg_), node_color='grey', node_size=1000, font_color='white', font_size=16)\n",
    "plt.axis('off')\n",
    "plt.box(False)\n",
    "plt.show()"
   ]
  },
  {
   "cell_type": "markdown",
   "metadata": {
    "pycharm": {
     "name": "#%% md\n"
    }
   },
   "source": [
    "#### Directed network"
   ]
  },
  {
   "cell_type": "code",
   "execution_count": null,
   "metadata": {
    "pycharm": {
     "name": "#%%\n"
    }
   },
   "outputs": [],
   "source": [
    "g_graph = nx.DiGraph()\n",
    "\n",
    "for d, p_list in _DAGs.items():\n",
    "    g_graph.add_node(d)\n",
    "    for p in p_list:\n",
    "        g_graph.add_edge(p, d)\n",
    "        \n",
    "g = nx.DiGraph()\n",
    "g.add_nodes_from(sorted(g_graph.nodes(data=True)))\n",
    "g.add_edges_from(g_graph.edges(data=True))"
   ]
  },
  {
   "cell_type": "code",
   "execution_count": null,
   "metadata": {
    "pycharm": {
     "name": "#%%\n"
    }
   },
   "outputs": [],
   "source": [
    "mapping = {0: \"VA\", 1: \"PS\", 2: \"GE\", 3: \"RQ\", 4: \"RL\", 5: \"CC\"}\n",
    "g_ = nx.relabel_nodes(g, mapping)"
   ]
  },
  {
   "cell_type": "code",
   "execution_count": null,
   "metadata": {
    "pycharm": {
     "name": "#%%\n"
    }
   },
   "outputs": [],
   "source": [
    "plt.figure(figsize=(10,6))\n",
    "plt.tight_layout()\n",
    "nx.draw_networkx(g_, pos=nx.circular_layout(g_), arrowsize=24, node_color='grey', node_size=1000, font_color='white', font_size=16)\n",
    "plt.axis('off')\n",
    "plt.box(False)\n",
    "plt.show()"
   ]
  },
  {
   "cell_type": "code",
   "execution_count": null,
   "metadata": {
    "pycharm": {
     "name": "#%%\n"
    }
   },
   "outputs": [],
   "source": []
  },
  {
   "cell_type": "code",
   "execution_count": null,
   "metadata": {
    "pycharm": {
     "name": "#%%\n"
    }
   },
   "outputs": [],
   "source": []
  },
  {
   "cell_type": "code",
   "execution_count": null,
   "metadata": {
    "pycharm": {
     "name": "#%%\n"
    }
   },
   "outputs": [],
   "source": []
  },
  {
   "cell_type": "code",
   "execution_count": null,
   "metadata": {
    "pycharm": {
     "name": "#%%\n"
    }
   },
   "outputs": [],
   "source": []
  }
 ],
 "metadata": {
  "kernelspec": {
   "display_name": "Python 3 (ipykernel)",
   "language": "python",
   "name": "python3"
  },
  "language_info": {
   "codemirror_mode": {
    "name": "ipython",
    "version": 3
   },
   "file_extension": ".py",
   "mimetype": "text/x-python",
   "name": "python",
   "nbconvert_exporter": "python",
   "pygments_lexer": "ipython3",
   "version": "3.9.18"
  }
 },
 "nbformat": 4,
 "nbformat_minor": 1
}
