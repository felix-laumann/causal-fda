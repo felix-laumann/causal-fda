{
 "cells": [
  {
   "cell_type": "markdown",
   "metadata": {
    "collapsed": true
   },
   "source": [
    "# Preparation of [WGI dataset](http://info.worldbank.org/governance/wgi/)"
   ]
  },
  {
   "cell_type": "code",
   "execution_count": null,
   "metadata": {
    "ExecuteTime": {
     "end_time": "2023-07-06T06:43:58.819652901Z",
     "start_time": "2023-07-06T06:43:51.609603601Z"
    }
   },
   "outputs": [],
   "source": [
    "import numpy as np\n",
    "import pandas as pd\n",
    "from causal import ccm_bivariate, eval_candidate_DAGs, causal_discovery\n",
    "from kernels import K_ID\n",
    "from synthetic_data import spline_multi_sample\n",
    "import pickle\n",
    "import os\n",
    "from tqdm.notebook import tqdm\n",
    "import networkx as nx\n",
    "import matplotlib.pyplot as plt"
   ]
  },
  {
   "cell_type": "markdown",
   "metadata": {},
   "source": [
    "Create a separate dataframe for each variable"
   ]
  },
  {
   "cell_type": "code",
   "execution_count": null,
   "metadata": {
    "pycharm": {
     "is_executing": true
    }
   },
   "outputs": [],
   "source": [
    "df_VA = pd.read_excel(r'/home/felix/Dropbox/Research/projects/causal-fda/data/wgidataset.xlsx', sheet_name='VoiceandAccountability', header=13).rename(columns={'Unnamed: 0': 'Country'})\n",
    "df_PS = pd.read_excel(r'/home/felix/Dropbox/Research/projects/causal-fda/data/wgidataset.xlsx', sheet_name='Political StabilityNoViolence', header=13).rename(columns={'Unnamed: 0': 'Country'})\n",
    "df_GE = pd.read_excel(r'/home/felix/Dropbox/Research/projects/causal-fda/data/wgidataset.xlsx', sheet_name='GovernmentEffectiveness', header=13).rename(columns={'Unnamed: 0': 'Country'})\n",
    "df_RQ = pd.read_excel(r'/home/felix/Dropbox/Research/projects/causal-fda/data/wgidataset.xlsx', sheet_name='RegulatoryQuality', header=13).rename(columns={'Unnamed: 0': 'Country'})\n",
    "df_RL = pd.read_excel(r'/home/felix/Dropbox/Research/projects/causal-fda/data/wgidataset.xlsx', sheet_name='RuleofLaw', header=13).rename(columns={'Unnamed: 0': 'Country'})\n",
    "df_CC = pd.read_excel(r'/home/felix/Dropbox/Research/projects/causal-fda/data/wgidataset.xlsx', sheet_name='ControlofCorruption', header=13).rename(columns={'Unnamed: 0': 'Country'})"
   ]
  },
  {
   "cell_type": "code",
   "execution_count": null,
   "metadata": {},
   "outputs": [],
   "source": [
    "dfs = [df_VA, df_PS, df_GE, df_RQ, df_RL, df_CC]"
   ]
  },
  {
   "cell_type": "code",
   "execution_count": null,
   "metadata": {
    "scrolled": false
   },
   "outputs": [],
   "source": [
    "# check\n",
    "df_GE"
   ]
  },
  {
   "cell_type": "markdown",
   "metadata": {},
   "source": [
    "Only work with Estimate and delete each Country that has NaNs in time-series:"
   ]
  },
  {
   "cell_type": "code",
   "execution_count": null,
   "metadata": {},
   "outputs": [],
   "source": [
    "for df in dfs:\n",
    "    df.drop(columns=[c for c in df if c!='Country' and c not in list(np.arange(1996, 2021, 1))],inplace=True)\n",
    "    df.drop(index=0, inplace=True)\n",
    "    df.dropna(inplace=True)"
   ]
  },
  {
   "cell_type": "markdown",
   "metadata": {},
   "source": [
    "Linearly interpolate missing years: 1997, 1999, 2001"
   ]
  },
  {
   "cell_type": "code",
   "execution_count": null,
   "metadata": {},
   "outputs": [],
   "source": [
    "columns = ['Country', 1996, 1997, 1998, 1999, 2000, 2001, 2002, 2003, 2004, 2005, 2006, 2007, 2008, 2009, 2010, 2011, 2012, 2013, 2014, 2015, 2016, 2017, 2018, 2019, 2020]"
   ]
  },
  {
   "cell_type": "code",
   "execution_count": null,
   "metadata": {},
   "outputs": [],
   "source": [
    "for df in dfs:\n",
    "    for y in np.arange(1996, 2021, 1):\n",
    "        if y not in df.columns:\n",
    "            df[y] = np.nan\n",
    "    \n",
    "    df[np.arange(1996, 2021, 1)] = df[np.arange(1996, 2021, 1)].astype(float).interpolate(axis=1)"
   ]
  },
  {
   "cell_type": "markdown",
   "metadata": {},
   "source": [
    "Reorder the columns:"
   ]
  },
  {
   "cell_type": "code",
   "execution_count": null,
   "metadata": {},
   "outputs": [],
   "source": [
    "df_VA = df_VA[columns]\n",
    "df_PS = df_PS[columns]\n",
    "df_GE = df_GE[columns]\n",
    "df_RQ = df_RQ[columns]\n",
    "df_RL = df_RL[columns]\n",
    "df_CC = df_CC[columns]"
   ]
  },
  {
   "cell_type": "markdown",
   "metadata": {},
   "source": [
    "Only work with countries where data are available for all six variables:"
   ]
  },
  {
   "cell_type": "code",
   "execution_count": null,
   "metadata": {},
   "outputs": [],
   "source": [
    "countries = set(df_VA['Country']) & set(df_PS['Country']) & set(df_GE['Country']) & set(df_RQ['Country']) & set(df_RL['Country']) & set(df_CC['Country'])"
   ]
  },
  {
   "cell_type": "code",
   "execution_count": null,
   "metadata": {},
   "outputs": [],
   "source": [
    "df_VA = df_VA.loc[df_VA['Country'].isin(countries)]\n",
    "df_PS = df_PS.loc[df_PS['Country'].isin(countries)]\n",
    "df_GE = df_GE.loc[df_GE['Country'].isin(countries)]\n",
    "df_RQ = df_RQ.loc[df_RQ['Country'].isin(countries)]\n",
    "df_RL = df_RL.loc[df_RL['Country'].isin(countries)]\n",
    "df_CC = df_CC.loc[df_CC['Country'].isin(countries)]"
   ]
  },
  {
   "cell_type": "code",
   "execution_count": null,
   "metadata": {
    "scrolled": true
   },
   "outputs": [],
   "source": [
    "# check\n",
    "df_RQ"
   ]
  },
  {
   "cell_type": "markdown",
   "metadata": {},
   "source": [
    "### Causal discovery on corruption and income inequality in Africa"
   ]
  },
  {
   "cell_type": "code",
   "execution_count": null,
   "metadata": {},
   "outputs": [],
   "source": [
    "Africa_countries = ['Algeria', 'Egypt, Arab Rep.', 'Morocco', 'Tunisia', 'Burundi', 'Comoros', 'Djibouti', 'Eritrea', 'Ethiopia', 'Kenya', \n",
    "'Madagascar', 'Malawi', 'Mauritius', 'Mozambique', 'Rwanda', 'Seychelles', 'Somalia', 'Uganda',\n",
    "'Tanzania', 'Zambia', 'Zimbabwe', 'Angola', 'Cameroon', 'Central African Republic', 'Chad', 'Congo, Rep.',\n",
    "'Congo, Dem. Rep.', 'Equatorial Guinea', 'Gabon', 'Botswana', 'Lesotho', 'Namibia',\n",
    "'South Africa', 'Benin', 'Burkina Faso', \"Côte d'Ivoire\", 'Gambia, The', 'Ghana', 'Guinea-Bissau', 'Liberia',\n",
    "'Mali', 'Mauritania', 'Niger', 'Nigeria', 'Senegal', 'Sierra Leone', 'Togo']"
   ]
  },
  {
   "cell_type": "code",
   "execution_count": null,
   "metadata": {
    "scrolled": true
   },
   "outputs": [],
   "source": [
    "# corruption data\n",
    "df_CC_Africa = df_CC[df_CC['Country'].isin(Africa_countries)].iloc[:, 0:22]"
   ]
  },
  {
   "cell_type": "code",
   "execution_count": null,
   "metadata": {
    "scrolled": true
   },
   "outputs": [],
   "source": [
    "df_CC_Africa"
   ]
  },
  {
   "cell_type": "code",
   "execution_count": null,
   "metadata": {},
   "outputs": [],
   "source": [
    "# income inequality data\n",
    "df_IE = pd.read_csv(r'/home/felix/Dropbox/Research/projects/causal-fda/data/gini.csv')\n",
    "df_IE.replace(\"Cote d'Ivoire\", \"Côte d'Ivoire\", inplace=True)\n",
    "\n",
    "df_IE_Africa = df_IE[df_IE['Country'].isin(Africa_countries)]\n",
    "df_IE_Africa_time = df_IE_Africa.loc[:, df_IE_Africa.columns != 'Country']\n",
    "df_IE_Africa_time_1 = df_IE_Africa_time.replace('..', np.nan).astype(float).interpolate(axis=1)\n",
    "df_IE_Africa_time_2 = df_IE_Africa_time_1.fillna(df_IE_Africa_time_1.mean(axis=0))\n",
    "\n",
    "df_IE_Africa_int = pd.concat([df_IE_Africa.loc[:, df_IE_Africa.columns=='Country'], df_IE_Africa_time_2], axis=1)"
   ]
  },
  {
   "cell_type": "code",
   "execution_count": null,
   "metadata": {
    "scrolled": true
   },
   "outputs": [],
   "source": [
    "df_IE_Africa_int"
   ]
  },
  {
   "cell_type": "markdown",
   "metadata": {},
   "source": [
    "#### CCM analysis"
   ]
  },
  {
   "cell_type": "code",
   "execution_count": null,
   "metadata": {},
   "outputs": [],
   "source": [
    "DAGs = {}\n",
    "DAGs_01 = {}\n",
    "DAGs_10 = {}\n",
    "p_values = {}\n",
    "p_values_01 = {}\n",
    "p_values_10 = {}\n",
    "for i, country in enumerate(df_CC_Africa['Country']):\n",
    "    arr1 = df_CC_Africa.loc[df_CC_Africa['Country']==country].loc[:, df_CC_Africa.columns != 'Country'].to_numpy()\n",
    "    arr2 = df_IE_Africa_int.loc[df_IE_Africa_int['Country']==country].loc[:, df_IE_Africa_int.columns != 'Country'].to_numpy()\n",
    "    arr = np.asarray([arr1, arr2]).squeeze()\n",
    "\n",
    "    DAG, _, p_value, _ = ccm_bivariate(arr, alpha=0.05)\n",
    "    DAGs[country] = DAG\n",
    "    p_values[country] = p_value\n",
    "    \n",
    "    if DAG == {0: [], 1: 0}:\n",
    "        DAGs_01[i] = DAG\n",
    "        p_values_01[i] = p_value\n",
    "        \n",
    "    if DAG == {0: 1, 1: []}:\n",
    "        DAGs_10[i] = DAG\n",
    "        p_values_10[i] = p_value"
   ]
  },
  {
   "cell_type": "code",
   "execution_count": null,
   "metadata": {},
   "outputs": [],
   "source": [
    "len(DAGs_01)/len(DAGs)"
   ]
  },
  {
   "cell_type": "markdown",
   "metadata": {},
   "source": [
    "#### Regression-based analysis"
   ]
  },
  {
   "cell_type": "code",
   "execution_count": null,
   "metadata": {},
   "outputs": [],
   "source": [
    "np_CC_Africa = np.zeros(df_CC_Africa.iloc[:, 1:].shape)\n",
    "np_IE_Africa = np.zeros(df_CC_Africa.iloc[:, 1:].shape)\n",
    "\n",
    "for i, country in enumerate(df_CC_Africa['Country']):\n",
    "    np_CC_Africa[i] = df_CC_Africa.loc[df_CC_Africa['Country']==country].loc[:, df_CC_Africa.columns != 'Country'].to_numpy()\n",
    "    np_IE_Africa[i] = df_IE_Africa_int.loc[df_IE_Africa_int['Country']==country].loc[:, df_IE_Africa_int.columns != 'Country'].to_numpy()"
   ]
  },
  {
   "cell_type": "code",
   "execution_count": null,
   "metadata": {},
   "outputs": [],
   "source": [
    "arr = np.asarray([np_CC_Africa, np_IE_Africa]).squeeze()\n",
    "n_intervals = 12\n",
    "analyse = False\n",
    "pred_points = np.linspace(0, 1, 21)\n",
    "n_neighbours = 5\n",
    "n_perms = 1000\n",
    "alpha = 0.05\n",
    "make_K = K_ID\n",
    "regressor = 'hist'\n",
    "\n",
    "print(eval_candidate_DAGs(arr, pred_points, n_intervals, n_neighbours, n_perms, alpha, \n",
    "                          make_K, analyse, regressor, pd_graph=None))"
   ]
  },
  {
   "cell_type": "markdown",
   "metadata": {},
   "source": [
    "### Causal discovery on the WGI dataset\n",
    "\n",
    "Countries are seen as independent samples, data are taken from 1996 to 2020. Each country has one score for each variable in every year."
   ]
  },
  {
   "cell_type": "code",
   "execution_count": null,
   "metadata": {},
   "outputs": [],
   "source": [
    "np_VA = df_VA.loc[:, df_VA.columns != 'Country'].to_numpy()\n",
    "np_PS = df_PS.loc[:, df_PS.columns != 'Country'].to_numpy()\n",
    "np_GE = df_GE.loc[:, df_GE.columns != 'Country'].to_numpy()\n",
    "np_RQ = df_RQ.loc[:, df_RQ.columns != 'Country'].to_numpy()\n",
    "np_RL = df_RL.loc[:, df_RL.columns != 'Country'].to_numpy()\n",
    "np_CC = df_CC.loc[:, df_CC.columns != 'Country'].to_numpy()"
   ]
  },
  {
   "cell_type": "code",
   "execution_count": null,
   "metadata": {},
   "outputs": [],
   "source": [
    "n_vars = 6\n",
    "n_samples, n_years = np_VA.shape\n",
    "nps = np.zeros((n_vars, n_samples, n_years))\n",
    "nps[0] = np_VA\n",
    "nps[1] = np_PS\n",
    "nps[2] = np_GE\n",
    "nps[3] = np_RQ\n",
    "nps[4] = np_RL\n",
    "nps[5] = np_CC"
   ]
  },
  {
   "cell_type": "code",
   "execution_count": null,
   "metadata": {},
   "outputs": [],
   "source": [
    "# experiment parameters\n",
    "cd_type = 'combined'\n",
    "obs_points = np.tile(np.linspace(0, 1, nps.shape[2]), (n_samples, 1))\n",
    "pred_points = np.linspace(0, 1, 100)\n",
    "n_intervals = 12\n",
    "n_neighbours = 3\n",
    "n_perms = 1000\n",
    "alpha = 0.05\n",
    "make_K = K_ID\n",
    "lambs = 1e-1\n",
    "n_pretests = 100\n",
    "n_steps = 50\n",
    "analyse = True\n",
    "regressor = 'hist'\n",
    "init = 'cond_set'\n",
    "find_lambda = False\n",
    "\n",
    "l_cond = np.zeros(n_vars - 2)\n",
    "r_opts = np.zeros(n_vars - 2)"
   ]
  },
  {
   "cell_type": "code",
   "execution_count": null,
   "metadata": {},
   "outputs": [],
   "source": [
    "# data preparation\n",
    "nps_int = np.zeros((nps.shape[0], nps.shape[1], len(pred_points)))\n",
    "for d in range(nps.shape[0]):\n",
    "    nps_int[d] = spline_multi_sample(nps[d], obs_points, pred_points).evaluate(pred_points).squeeze()"
   ]
  },
  {
   "cell_type": "code",
   "execution_count": null,
   "metadata": {
    "scrolled": true
   },
   "outputs": [],
   "source": [
    "%%time\n",
    "sparse_g, _DAGs, p_values, lamb_cond, rejects_opts, lags, corr_values = causal_discovery(cd_type, nps_int, pred_points, n_intervals, n_neighbours, n_perms, alpha, make_K, lambs, n_pretests, \n",
    "                                                                                         n_steps, analyse, regressor, l_cond, r_opts, init, find_lambda, pd_graph)"
   ]
  },
  {
   "cell_type": "code",
   "execution_count": null,
   "metadata": {},
   "outputs": [],
   "source": [
    "print(sparse_g, _DAGs, p_values, lamb_cond, rejects_opts, lags, corr_values)"
   ]
  },
  {
   "cell_type": "markdown",
   "metadata": {},
   "source": [
    "### Draw networks\n",
    "\n",
    "#### Undirected network"
   ]
  },
  {
   "cell_type": "code",
   "execution_count": null,
   "metadata": {},
   "outputs": [],
   "source": [
    "for i in range(nps.shape[0]):\n",
    "    if i not in list(_DAGs.keys()):\n",
    "        _DAGs[i] = []"
   ]
  },
  {
   "cell_type": "code",
   "execution_count": null,
   "metadata": {},
   "outputs": [],
   "source": [
    "pg_graph = nx.Graph()\n",
    "\n",
    "for d, p_list in _DAGs.items():\n",
    "    pg_graph.add_node(d)\n",
    "    for p in p_list:\n",
    "        pg_graph.add_edge(p, d)\n",
    "\n",
    "pg = nx.Graph()\n",
    "pg.add_nodes_from(sorted(pg_graph.nodes(data=True)))\n",
    "pg.add_edges_from(pg_graph.edges(data=True))"
   ]
  },
  {
   "cell_type": "code",
   "execution_count": null,
   "metadata": {},
   "outputs": [],
   "source": [
    "# label variables according to official WGI names\n",
    "mapping = {0: \"VA\", 1: \"PS\", 2: \"GE\", 3: \"RQ\", 4: \"RL\", 5: \"CC\"}\n",
    "pg_ = nx.relabel_nodes(pg, mapping)"
   ]
  },
  {
   "cell_type": "code",
   "execution_count": null,
   "metadata": {},
   "outputs": [],
   "source": [
    "plt.figure(figsize=(10,6))\n",
    "plt.tight_layout()\n",
    "nx.draw_networkx(pg_, pos=nx.circular_layout(pg_), node_color='grey', node_size=1000, font_color='white', font_size=16)\n",
    "plt.axis('off')\n",
    "plt.box(False)\n",
    "plt.show()"
   ]
  },
  {
   "cell_type": "markdown",
   "metadata": {},
   "source": [
    "#### Directed network"
   ]
  },
  {
   "cell_type": "code",
   "execution_count": null,
   "metadata": {},
   "outputs": [],
   "source": [
    "g_graph = nx.DiGraph()\n",
    "\n",
    "for d, p_list in _DAGs.items():\n",
    "    g_graph.add_node(d)\n",
    "    for p in p_list:\n",
    "        g_graph.add_edge(p, d)\n",
    "        \n",
    "g = nx.DiGraph()\n",
    "g.add_nodes_from(sorted(g_graph.nodes(data=True)))\n",
    "g.add_edges_from(g_graph.edges(data=True))"
   ]
  },
  {
   "cell_type": "code",
   "execution_count": null,
   "metadata": {},
   "outputs": [],
   "source": [
    "mapping = {0: \"VA\", 1: \"PS\", 2: \"GE\", 3: \"RQ\", 4: \"RL\", 5: \"CC\"}\n",
    "g_ = nx.relabel_nodes(g, mapping)"
   ]
  },
  {
   "cell_type": "code",
   "execution_count": null,
   "metadata": {},
   "outputs": [],
   "source": [
    "plt.figure(figsize=(10,6))\n",
    "plt.tight_layout()\n",
    "nx.draw_networkx(g_, pos=nx.circular_layout(g_), arrowsize=24, node_color='grey', node_size=1000, font_color='white', font_size=16)\n",
    "plt.axis('off')\n",
    "plt.box(False)\n",
    "plt.show()"
   ]
  },
  {
   "cell_type": "markdown",
   "metadata": {},
   "source": [
    "# Preparation of [SDG Index dataset](https://dashboards.sdgindex.org/downloads)"
   ]
  },
  {
   "cell_type": "code",
   "execution_count": null,
   "metadata": {},
   "outputs": [],
   "source": [
    "df_SDG = pd.read_excel(r'/home/felix/Dropbox/Research/projects/causal-fda/data/sdgindexdataset.xlsx', sheet_name='Raw Data - Trend Indicators').drop(columns=['id', 'indexreg', 'Population'])"
   ]
  },
  {
   "cell_type": "code",
   "execution_count": null,
   "metadata": {},
   "outputs": [],
   "source": [
    "indicators = df_SDG.drop(columns=['Country', 'Year']).columns.tolist()\n",
    "no_countries = ['Upper-middle-income Countries', 'Western Balkans', \n",
    "                'Small Island Developing States', 'OECD members', 'Oceania',\n",
    "                'Middle East and North Africa', 'Low-income Countries', \n",
    "                'Lower-middle-income Countries', 'Latin America and the Caribbean',\n",
    "                'High-income Countries', 'East and South Asia', \n",
    "                'Eastern Europe and Central Asia', 'Sub-Saharan Africa']\n",
    "\n",
    "countries = []\n",
    "for country in list(pd.unique(df_SDG['Country'])):\n",
    "    if country not in no_countries:\n",
    "        countries.append(country)\n",
    "\n",
    "years = pd.unique(df_SDG['Year']).tolist()"
   ]
  },
  {
   "cell_type": "code",
   "execution_count": null,
   "metadata": {},
   "outputs": [],
   "source": [
    "# interpolate and save data in array\n",
    "np_SDG_ind = np.zeros((len(indicators), len(countries), len(years)))\n",
    "\n",
    "for i_ind, ind in tqdm(enumerate(indicators), total=len(indicators)):\n",
    "    for i_c, country in enumerate(countries):\n",
    "        \n",
    "        if 1 < sum(df_SDG[df_SDG['Country']==country][ind].isna() == False) <= 2:\n",
    "            m = 'spline'\n",
    "            o = 1\n",
    "        elif sum(df_SDG[df_SDG['Country']==country][ind].isna() == False) <= 1:\n",
    "            m = 'linear'\n",
    "            o = 2\n",
    "        else:\n",
    "            m = 'spline'\n",
    "            o = 2\n",
    "        \n",
    "        s = df_SDG[df_SDG['Country']==country][ind].interpolate(method=m, order=o, limit_direction='both', limit=len(df_SDG[df_SDG['Country']==country][ind])).tolist()\n",
    "        np_SDG_ind[i_ind, i_c] = s"
   ]
  },
  {
   "cell_type": "code",
   "execution_count": null,
   "metadata": {
    "scrolled": true
   },
   "outputs": [],
   "source": [
    "# compare\n",
    "df_SDG[df_SDG['Country']=='Albania']['sdg1_wpc']"
   ]
  },
  {
   "cell_type": "code",
   "execution_count": null,
   "metadata": {},
   "outputs": [],
   "source": [
    "# compare\n",
    "np_SDG_ind[0][1]"
   ]
  },
  {
   "cell_type": "code",
   "execution_count": null,
   "metadata": {},
   "outputs": [],
   "source": [
    "# define the indicators that belong to the same SDG\n",
    "dict_indicators = {}\n",
    "\n",
    "for goal in np.arange(1, 18):\n",
    "    dict_indicators[goal] = []\n",
    "    for ind in indicators:\n",
    "        if ind.startswith(('sdg' + str(goal) + '_')):\n",
    "            dict_indicators[goal].append(ind)"
   ]
  },
  {
   "cell_type": "code",
   "execution_count": null,
   "metadata": {
    "scrolled": true
   },
   "outputs": [],
   "source": [
    "dict_indicators"
   ]
  },
  {
   "cell_type": "code",
   "execution_count": null,
   "metadata": {},
   "outputs": [],
   "source": [
    "# concatenate indicator data that belong to the same SDG, resulting in shape (17, n_countries, n_years*n_indicators), \n",
    "# deleting indicators that do not have any data available\n",
    "dict_goals = {}\n",
    "\n",
    "for goal in np.arange(1, 18):\n",
    "    dict_goals[goal] = {}\n",
    "    for i_c, country in enumerate(countries):\n",
    "        dict_goals[goal][country] = []\n",
    "        for i_ind, ind in enumerate(dict_indicators[goal]):\n",
    "            if np.isnan(np_SDG_ind[i_ind, i_c]).all():\n",
    "                pass\n",
    "            else:\n",
    "                dict_goals[goal][country].extend(list(np_SDG_ind[i_ind, i_c]))   "
   ]
  },
  {
   "cell_type": "code",
   "execution_count": null,
   "metadata": {},
   "outputs": [],
   "source": [
    "# finding countries that do not have any data for one of the indicators\n",
    "countries_to_del = []\n",
    "for i_c, country in enumerate(countries):\n",
    "    for goal in np.arange(1, 18):\n",
    "        if len(dict_goals[goal][country]) == 0:\n",
    "            countries_to_del.append(country)\n",
    "\n",
    "countries_to_del = list(np.unique(countries_to_del))"
   ]
  },
  {
   "cell_type": "code",
   "execution_count": null,
   "metadata": {},
   "outputs": [],
   "source": [
    "# deleting those countries that do not have any data for one of the indicators\n",
    "for country in countries_to_del:\n",
    "    for goal in np.arange(1, 18):\n",
    "        dict_goals[goal].pop(country)"
   ]
  },
  {
   "cell_type": "code",
   "execution_count": null,
   "metadata": {
    "scrolled": true
   },
   "outputs": [],
   "source": [
    "# checking the number of countries for each goal\n",
    "for goal in np.arange(1, 18):\n",
    "    print(len(dict_goals[goal].keys()))\n",
    "    \n",
    "countries_left = list(dict_goals[goal].keys())"
   ]
  },
  {
   "cell_type": "code",
   "execution_count": null,
   "metadata": {},
   "outputs": [],
   "source": []
  },
  {
   "cell_type": "code",
   "execution_count": null,
   "metadata": {},
   "outputs": [],
   "source": []
  },
  {
   "cell_type": "code",
   "execution_count": null,
   "metadata": {},
   "outputs": [],
   "source": [
    "lengths = {}\n",
    "for goal in np.arange(1, 18):\n",
    "    for i_c, country in enumerate(countries_left):\n",
    "        if i_c == 0:\n",
    "            lengths[goal] = len(dict_goals[goal][country])\n",
    "            print('----------')\n",
    "            print('Length of SDG {} in {}:'.format(goal, country), lengths[goal])\n",
    "        \n",
    "        if len(dict_goals[goal][country]) != lengths[goal]:\n",
    "            print(country, len(dict_goals[goal][country]))"
   ]
  },
  {
   "cell_type": "code",
   "execution_count": null,
   "metadata": {},
   "outputs": [],
   "source": [
    "# experiment parameters\n",
    "cd_type = 'constraint'\n",
    "pred_points = np.linspace(0, 1, 100)\n",
    "n_intervals = 12\n",
    "n_neighbours = 3\n",
    "n_perms = 1000\n",
    "alpha = 0.05\n",
    "make_K = K_ID\n",
    "lambs = 1e-1\n",
    "n_pretests = 100\n",
    "n_steps = 50\n",
    "analyse = True\n",
    "regressor = 'hist'\n",
    "\n",
    "l_cond = np.zeros(n_vars - 2)\n",
    "r_opts = np.zeros(n_vars - 2)"
   ]
  },
  {
   "cell_type": "code",
   "execution_count": null,
   "metadata": {},
   "outputs": [],
   "source": [
    "causal_discovery(cd_type, nps, pred_points, n_intervals, n_neighbours, n_perms, alpha, make_K, lambs, n_pretests, \n",
    "                 n_steps, analyse, regressor, l_cond, r_opts)"
   ]
  },
  {
   "cell_type": "code",
   "execution_count": null,
   "metadata": {},
   "outputs": [],
   "source": []
  },
  {
   "cell_type": "code",
   "execution_count": null,
   "metadata": {},
   "outputs": [],
   "source": []
  },
  {
   "cell_type": "code",
   "execution_count": null,
   "metadata": {},
   "outputs": [],
   "source": []
  },
  {
   "cell_type": "code",
   "execution_count": null,
   "metadata": {},
   "outputs": [],
   "source": []
  },
  {
   "cell_type": "code",
   "execution_count": null,
   "metadata": {},
   "outputs": [],
   "source": []
  },
  {
   "cell_type": "code",
   "execution_count": null,
   "metadata": {},
   "outputs": [],
   "source": []
  }
 ],
 "metadata": {
  "kernelspec": {
   "display_name": "Python 3 (ipykernel)",
   "language": "python",
   "name": "python3"
  },
  "language_info": {
   "codemirror_mode": {
    "name": "ipython",
    "version": 3
   },
   "file_extension": ".py",
   "mimetype": "text/x-python",
   "name": "python",
   "nbconvert_exporter": "python",
   "pygments_lexer": "ipython3",
   "version": "3.9.12"
  }
 },
 "nbformat": 4,
 "nbformat_minor": 1
}
