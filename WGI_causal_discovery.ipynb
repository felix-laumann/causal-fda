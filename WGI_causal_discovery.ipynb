{
 "cells": [
  {
   "cell_type": "markdown",
   "metadata": {
    "collapsed": true,
    "pycharm": {
     "name": "#%% md\n"
    }
   },
   "source": [
    "# Preparation of [WGI dataset](http://info.worldbank.org/governance/wgi/)"
   ]
  },
  {
   "cell_type": "code",
   "execution_count": 3,
   "metadata": {
    "pycharm": {
     "name": "#%%\n"
    },
    "ExecuteTime": {
     "end_time": "2023-09-28T08:27:47.472143800Z",
     "start_time": "2023-09-28T08:27:47.353625410Z"
    }
   },
   "outputs": [],
   "source": [
    "import numpy as np\n",
    "import pandas as pd\n",
    "from causal import ccm_bivariate, eval_candidate_DAGs, causal_discovery\n",
    "from kernels import K_ID\n",
    "from synthetic_data import spline_multi_sample\n",
    "import networkx as nx\n",
    "import matplotlib.pyplot as plt"
   ]
  },
  {
   "cell_type": "markdown",
   "metadata": {
    "pycharm": {
     "name": "#%% md\n"
    }
   },
   "source": [
    "Create a separate dataframe for each variable"
   ]
  },
  {
   "cell_type": "code",
   "execution_count": 4,
   "metadata": {
    "pycharm": {
     "is_executing": true,
     "name": "#%%\n"
    },
    "ExecuteTime": {
     "end_time": "2023-09-28T08:27:53.597046577Z",
     "start_time": "2023-09-28T08:27:49.735163759Z"
    }
   },
   "outputs": [],
   "source": [
    "df_VA = pd.read_excel(r'/home/felix/Dropbox/Research/projects/causal-fda/data/wgidataset.xlsx', sheet_name='VoiceandAccountability', header=13).rename(columns={'Unnamed: 0': 'Country'})\n",
    "df_PS = pd.read_excel(r'/home/felix/Dropbox/Research/projects/causal-fda/data/wgidataset.xlsx', sheet_name='Political StabilityNoViolence', header=13).rename(columns={'Unnamed: 0': 'Country'})\n",
    "df_GE = pd.read_excel(r'/home/felix/Dropbox/Research/projects/causal-fda/data/wgidataset.xlsx', sheet_name='GovernmentEffectiveness', header=13).rename(columns={'Unnamed: 0': 'Country'})\n",
    "df_RQ = pd.read_excel(r'/home/felix/Dropbox/Research/projects/causal-fda/data/wgidataset.xlsx', sheet_name='RegulatoryQuality', header=13).rename(columns={'Unnamed: 0': 'Country'})\n",
    "df_RL = pd.read_excel(r'/home/felix/Dropbox/Research/projects/causal-fda/data/wgidataset.xlsx', sheet_name='RuleofLaw', header=13).rename(columns={'Unnamed: 0': 'Country'})\n",
    "df_CC = pd.read_excel(r'/home/felix/Dropbox/Research/projects/causal-fda/data/wgidataset.xlsx', sheet_name='ControlofCorruption', header=13).rename(columns={'Unnamed: 0': 'Country'})"
   ]
  },
  {
   "cell_type": "code",
   "execution_count": 5,
   "metadata": {
    "pycharm": {
     "name": "#%%\n"
    },
    "ExecuteTime": {
     "end_time": "2023-09-28T08:27:55.100547176Z",
     "start_time": "2023-09-28T08:27:55.031196079Z"
    }
   },
   "outputs": [],
   "source": [
    "dfs = [df_VA, df_PS, df_GE, df_RQ, df_RL, df_CC]"
   ]
  },
  {
   "cell_type": "code",
   "execution_count": 6,
   "metadata": {
    "pycharm": {
     "name": "#%%\n"
    },
    "scrolled": false,
    "ExecuteTime": {
     "end_time": "2023-09-28T08:27:55.581182266Z",
     "start_time": "2023-09-28T08:27:55.416235121Z"
    }
   },
   "outputs": [
    {
     "data": {
      "text/plain": "               Country Unnamed: 1      1996    1996.1  1996.2     1996.3  \\\n0    Country/Territory       Code  Estimate    StdErr  NumSrc       Rank   \n1                Aruba        ABW       NaN       NaN     NaN        NaN   \n2              Andorra        ADO  1.414038  0.187618       1   88.52459   \n3          Afghanistan        AFG -2.175167  0.187618       1          0   \n4               Angola        AGO  -0.85994  0.173904       3  21.311476   \n..                 ...        ...       ...       ...     ...        ...   \n210             Serbia        SRB  -1.06468  0.173904       3   14.20765   \n211       South Africa        ZAF  1.020496  0.168259       5  83.060112   \n212   Congo, Dem. Rep.        ZAR -1.649998  0.181661       2   3.825137   \n213             Zambia        ZMB -1.128376  0.173904       3  12.568306   \n214           Zimbabwe        ZWE -0.318771  0.171663       4  44.262295   \n\n        1996.4     1996.5      1998    1998.1  ...  2019.2     2019.3  \\\n0        Lower      Upper  Estimate    StdErr  ...  NumSrc       Rank   \n1          NaN        NaN       NaN       NaN  ...       2   80.28846   \n2     83.60656  91.256828   1.46205  0.310279  ...       1   98.07692   \n3            0   1.639344 -2.135942  0.310279  ...       8   7.211538   \n4    12.021858  33.333332 -1.341783  0.203155  ...      10  12.980769   \n..         ...        ...       ...       ...  ...     ...        ...   \n210   6.010929  21.857924 -0.884606  0.228348  ...       8  54.326923   \n211  75.409836  86.338799  0.657637  0.190554  ...      13   66.82692   \n212   1.092896   6.010929 -1.878147  0.229129  ...      10   4.807693   \n213   3.825137  21.311476 -0.869251  0.203155  ...      11  27.403847   \n214  32.240437  56.284153 -0.334312  0.196593  ...      12  10.576923   \n\n        2019.4     2019.5      2020    2020.1  2020.2     2020.3     2020.4  \\\n0        Lower      Upper  Estimate    StdErr  NumSrc       Rank      Lower   \n1     69.71154   92.78846  1.129532   0.35827       2  85.096153  71.153847   \n2    83.653847        100  1.825594  0.491762       1  96.634613  80.769234   \n3     1.923077  13.461538 -1.523115  0.264619       7   5.288462   1.923077   \n4     7.211538  19.711538 -1.181797  0.202149       9  11.057693   5.288462   \n..         ...        ...       ...       ...     ...        ...        ...   \n210  39.423077   66.82692  0.032405  0.236001       7  54.326923  38.942307   \n211   55.76923   74.03846  0.299396   0.18989      12   62.98077  53.365383   \n212   1.442308  10.096154 -1.692743  0.202149       9   3.365385   1.442308   \n213  15.384615  38.942307 -0.767911  0.198649      11  22.115385       12.5   \n214       6.25  16.346153 -1.250607  0.208774      10  10.576923   4.807693   \n\n        2020.5  \n0        Upper  \n1    95.192307  \n2          100  \n3         12.5  \n4     18.26923  \n..         ...  \n210   67.78846  \n211  72.115387  \n212   9.134615  \n213   36.53846  \n214  17.307692  \n\n[215 rows x 134 columns]",
      "text/html": "<div>\n<style scoped>\n    .dataframe tbody tr th:only-of-type {\n        vertical-align: middle;\n    }\n\n    .dataframe tbody tr th {\n        vertical-align: top;\n    }\n\n    .dataframe thead th {\n        text-align: right;\n    }\n</style>\n<table border=\"1\" class=\"dataframe\">\n  <thead>\n    <tr style=\"text-align: right;\">\n      <th></th>\n      <th>Country</th>\n      <th>Unnamed: 1</th>\n      <th>1996</th>\n      <th>1996.1</th>\n      <th>1996.2</th>\n      <th>1996.3</th>\n      <th>1996.4</th>\n      <th>1996.5</th>\n      <th>1998</th>\n      <th>1998.1</th>\n      <th>...</th>\n      <th>2019.2</th>\n      <th>2019.3</th>\n      <th>2019.4</th>\n      <th>2019.5</th>\n      <th>2020</th>\n      <th>2020.1</th>\n      <th>2020.2</th>\n      <th>2020.3</th>\n      <th>2020.4</th>\n      <th>2020.5</th>\n    </tr>\n  </thead>\n  <tbody>\n    <tr>\n      <th>0</th>\n      <td>Country/Territory</td>\n      <td>Code</td>\n      <td>Estimate</td>\n      <td>StdErr</td>\n      <td>NumSrc</td>\n      <td>Rank</td>\n      <td>Lower</td>\n      <td>Upper</td>\n      <td>Estimate</td>\n      <td>StdErr</td>\n      <td>...</td>\n      <td>NumSrc</td>\n      <td>Rank</td>\n      <td>Lower</td>\n      <td>Upper</td>\n      <td>Estimate</td>\n      <td>StdErr</td>\n      <td>NumSrc</td>\n      <td>Rank</td>\n      <td>Lower</td>\n      <td>Upper</td>\n    </tr>\n    <tr>\n      <th>1</th>\n      <td>Aruba</td>\n      <td>ABW</td>\n      <td>NaN</td>\n      <td>NaN</td>\n      <td>NaN</td>\n      <td>NaN</td>\n      <td>NaN</td>\n      <td>NaN</td>\n      <td>NaN</td>\n      <td>NaN</td>\n      <td>...</td>\n      <td>2</td>\n      <td>80.28846</td>\n      <td>69.71154</td>\n      <td>92.78846</td>\n      <td>1.129532</td>\n      <td>0.35827</td>\n      <td>2</td>\n      <td>85.096153</td>\n      <td>71.153847</td>\n      <td>95.192307</td>\n    </tr>\n    <tr>\n      <th>2</th>\n      <td>Andorra</td>\n      <td>ADO</td>\n      <td>1.414038</td>\n      <td>0.187618</td>\n      <td>1</td>\n      <td>88.52459</td>\n      <td>83.60656</td>\n      <td>91.256828</td>\n      <td>1.46205</td>\n      <td>0.310279</td>\n      <td>...</td>\n      <td>1</td>\n      <td>98.07692</td>\n      <td>83.653847</td>\n      <td>100</td>\n      <td>1.825594</td>\n      <td>0.491762</td>\n      <td>1</td>\n      <td>96.634613</td>\n      <td>80.769234</td>\n      <td>100</td>\n    </tr>\n    <tr>\n      <th>3</th>\n      <td>Afghanistan</td>\n      <td>AFG</td>\n      <td>-2.175167</td>\n      <td>0.187618</td>\n      <td>1</td>\n      <td>0</td>\n      <td>0</td>\n      <td>1.639344</td>\n      <td>-2.135942</td>\n      <td>0.310279</td>\n      <td>...</td>\n      <td>8</td>\n      <td>7.211538</td>\n      <td>1.923077</td>\n      <td>13.461538</td>\n      <td>-1.523115</td>\n      <td>0.264619</td>\n      <td>7</td>\n      <td>5.288462</td>\n      <td>1.923077</td>\n      <td>12.5</td>\n    </tr>\n    <tr>\n      <th>4</th>\n      <td>Angola</td>\n      <td>AGO</td>\n      <td>-0.85994</td>\n      <td>0.173904</td>\n      <td>3</td>\n      <td>21.311476</td>\n      <td>12.021858</td>\n      <td>33.333332</td>\n      <td>-1.341783</td>\n      <td>0.203155</td>\n      <td>...</td>\n      <td>10</td>\n      <td>12.980769</td>\n      <td>7.211538</td>\n      <td>19.711538</td>\n      <td>-1.181797</td>\n      <td>0.202149</td>\n      <td>9</td>\n      <td>11.057693</td>\n      <td>5.288462</td>\n      <td>18.26923</td>\n    </tr>\n    <tr>\n      <th>...</th>\n      <td>...</td>\n      <td>...</td>\n      <td>...</td>\n      <td>...</td>\n      <td>...</td>\n      <td>...</td>\n      <td>...</td>\n      <td>...</td>\n      <td>...</td>\n      <td>...</td>\n      <td>...</td>\n      <td>...</td>\n      <td>...</td>\n      <td>...</td>\n      <td>...</td>\n      <td>...</td>\n      <td>...</td>\n      <td>...</td>\n      <td>...</td>\n      <td>...</td>\n      <td>...</td>\n    </tr>\n    <tr>\n      <th>210</th>\n      <td>Serbia</td>\n      <td>SRB</td>\n      <td>-1.06468</td>\n      <td>0.173904</td>\n      <td>3</td>\n      <td>14.20765</td>\n      <td>6.010929</td>\n      <td>21.857924</td>\n      <td>-0.884606</td>\n      <td>0.228348</td>\n      <td>...</td>\n      <td>8</td>\n      <td>54.326923</td>\n      <td>39.423077</td>\n      <td>66.82692</td>\n      <td>0.032405</td>\n      <td>0.236001</td>\n      <td>7</td>\n      <td>54.326923</td>\n      <td>38.942307</td>\n      <td>67.78846</td>\n    </tr>\n    <tr>\n      <th>211</th>\n      <td>South Africa</td>\n      <td>ZAF</td>\n      <td>1.020496</td>\n      <td>0.168259</td>\n      <td>5</td>\n      <td>83.060112</td>\n      <td>75.409836</td>\n      <td>86.338799</td>\n      <td>0.657637</td>\n      <td>0.190554</td>\n      <td>...</td>\n      <td>13</td>\n      <td>66.82692</td>\n      <td>55.76923</td>\n      <td>74.03846</td>\n      <td>0.299396</td>\n      <td>0.18989</td>\n      <td>12</td>\n      <td>62.98077</td>\n      <td>53.365383</td>\n      <td>72.115387</td>\n    </tr>\n    <tr>\n      <th>212</th>\n      <td>Congo, Dem. Rep.</td>\n      <td>ZAR</td>\n      <td>-1.649998</td>\n      <td>0.181661</td>\n      <td>2</td>\n      <td>3.825137</td>\n      <td>1.092896</td>\n      <td>6.010929</td>\n      <td>-1.878147</td>\n      <td>0.229129</td>\n      <td>...</td>\n      <td>10</td>\n      <td>4.807693</td>\n      <td>1.442308</td>\n      <td>10.096154</td>\n      <td>-1.692743</td>\n      <td>0.202149</td>\n      <td>9</td>\n      <td>3.365385</td>\n      <td>1.442308</td>\n      <td>9.134615</td>\n    </tr>\n    <tr>\n      <th>213</th>\n      <td>Zambia</td>\n      <td>ZMB</td>\n      <td>-1.128376</td>\n      <td>0.173904</td>\n      <td>3</td>\n      <td>12.568306</td>\n      <td>3.825137</td>\n      <td>21.311476</td>\n      <td>-0.869251</td>\n      <td>0.203155</td>\n      <td>...</td>\n      <td>11</td>\n      <td>27.403847</td>\n      <td>15.384615</td>\n      <td>38.942307</td>\n      <td>-0.767911</td>\n      <td>0.198649</td>\n      <td>11</td>\n      <td>22.115385</td>\n      <td>12.5</td>\n      <td>36.53846</td>\n    </tr>\n    <tr>\n      <th>214</th>\n      <td>Zimbabwe</td>\n      <td>ZWE</td>\n      <td>-0.318771</td>\n      <td>0.171663</td>\n      <td>4</td>\n      <td>44.262295</td>\n      <td>32.240437</td>\n      <td>56.284153</td>\n      <td>-0.334312</td>\n      <td>0.196593</td>\n      <td>...</td>\n      <td>12</td>\n      <td>10.576923</td>\n      <td>6.25</td>\n      <td>16.346153</td>\n      <td>-1.250607</td>\n      <td>0.208774</td>\n      <td>10</td>\n      <td>10.576923</td>\n      <td>4.807693</td>\n      <td>17.307692</td>\n    </tr>\n  </tbody>\n</table>\n<p>215 rows × 134 columns</p>\n</div>"
     },
     "execution_count": 6,
     "metadata": {},
     "output_type": "execute_result"
    }
   ],
   "source": [
    "# check\n",
    "df_GE"
   ]
  },
  {
   "cell_type": "markdown",
   "metadata": {
    "pycharm": {
     "name": "#%% md\n"
    }
   },
   "source": [
    "Only work with Estimate and delete each Country that has NaNs in time-series:"
   ]
  },
  {
   "cell_type": "code",
   "execution_count": 7,
   "metadata": {
    "pycharm": {
     "name": "#%%\n"
    },
    "ExecuteTime": {
     "end_time": "2023-09-28T08:27:57.834028946Z",
     "start_time": "2023-09-28T08:27:57.637810010Z"
    }
   },
   "outputs": [],
   "source": [
    "for df in dfs:\n",
    "    df.drop(columns=[c for c in df if c!='Country' and c not in list(np.arange(1996, 2021, 1))],inplace=True)\n",
    "    df.drop(index=0, inplace=True)\n",
    "    df.dropna(inplace=True)"
   ]
  },
  {
   "cell_type": "markdown",
   "metadata": {
    "pycharm": {
     "name": "#%% md\n"
    }
   },
   "source": [
    "Linearly interpolate missing years: 1997, 1999, 2001"
   ]
  },
  {
   "cell_type": "code",
   "execution_count": 8,
   "metadata": {
    "pycharm": {
     "name": "#%%\n"
    },
    "ExecuteTime": {
     "end_time": "2023-09-28T08:27:59.145460614Z",
     "start_time": "2023-09-28T08:27:59.048415688Z"
    }
   },
   "outputs": [],
   "source": [
    "columns = ['Country', 1996, 1997, 1998, 1999, 2000, 2001, 2002, 2003, 2004, 2005, 2006, 2007, 2008, 2009, 2010, 2011, 2012, 2013, 2014, 2015, 2016, 2017, 2018, 2019, 2020]"
   ]
  },
  {
   "cell_type": "code",
   "execution_count": 9,
   "metadata": {
    "pycharm": {
     "name": "#%%\n"
    },
    "ExecuteTime": {
     "end_time": "2023-09-28T08:27:59.744462520Z",
     "start_time": "2023-09-28T08:27:59.519910923Z"
    }
   },
   "outputs": [],
   "source": [
    "for df in dfs:\n",
    "    for y in np.arange(1996, 2021, 1):\n",
    "        if y not in df.columns:\n",
    "            df[y] = np.nan\n",
    "    \n",
    "    df[np.arange(1996, 2021, 1)] = df[np.arange(1996, 2021, 1)].astype(float).interpolate(axis=1)"
   ]
  },
  {
   "cell_type": "markdown",
   "metadata": {
    "pycharm": {
     "name": "#%% md\n"
    }
   },
   "source": [
    "Reorder the columns:"
   ]
  },
  {
   "cell_type": "code",
   "execution_count": 10,
   "metadata": {
    "pycharm": {
     "name": "#%%\n"
    },
    "ExecuteTime": {
     "end_time": "2023-09-28T08:28:00.488068993Z",
     "start_time": "2023-09-28T08:28:00.369927974Z"
    }
   },
   "outputs": [],
   "source": [
    "df_VA = df_VA[columns]\n",
    "df_PS = df_PS[columns]\n",
    "df_GE = df_GE[columns]\n",
    "df_RQ = df_RQ[columns]\n",
    "df_RL = df_RL[columns]\n",
    "df_CC = df_CC[columns]"
   ]
  },
  {
   "cell_type": "markdown",
   "metadata": {
    "pycharm": {
     "name": "#%% md\n"
    }
   },
   "source": [
    "Only work with countries where data are available for all six variables:"
   ]
  },
  {
   "cell_type": "code",
   "execution_count": 11,
   "metadata": {
    "pycharm": {
     "name": "#%%\n"
    },
    "ExecuteTime": {
     "end_time": "2023-09-28T08:28:01.538521241Z",
     "start_time": "2023-09-28T08:28:01.484140051Z"
    }
   },
   "outputs": [],
   "source": [
    "countries = set(df_VA['Country']) & set(df_PS['Country']) & set(df_GE['Country']) & set(df_RQ['Country']) & set(df_RL['Country']) & set(df_CC['Country'])"
   ]
  },
  {
   "cell_type": "code",
   "execution_count": 12,
   "metadata": {
    "pycharm": {
     "name": "#%%\n"
    },
    "ExecuteTime": {
     "end_time": "2023-09-28T08:28:02.064164231Z",
     "start_time": "2023-09-28T08:28:01.982820230Z"
    }
   },
   "outputs": [],
   "source": [
    "df_VA = df_VA.loc[df_VA['Country'].isin(countries)]\n",
    "df_PS = df_PS.loc[df_PS['Country'].isin(countries)]\n",
    "df_GE = df_GE.loc[df_GE['Country'].isin(countries)]\n",
    "df_RQ = df_RQ.loc[df_RQ['Country'].isin(countries)]\n",
    "df_RL = df_RL.loc[df_RL['Country'].isin(countries)]\n",
    "df_CC = df_CC.loc[df_CC['Country'].isin(countries)]"
   ]
  },
  {
   "cell_type": "code",
   "execution_count": 13,
   "metadata": {
    "pycharm": {
     "name": "#%%\n"
    },
    "scrolled": true,
    "ExecuteTime": {
     "end_time": "2023-09-28T08:28:02.734693611Z",
     "start_time": "2023-09-28T08:28:02.571522781Z"
    }
   },
   "outputs": [
    {
     "data": {
      "text/plain": "                  Country      1996      1997      1998      1999      2000  \\\n2                 Andorra  1.266440  1.283571  1.300701  1.288353  1.276005   \n3             Afghanistan -2.090330 -2.088793 -2.087256 -2.098441 -2.109626   \n4                  Angola -1.415345 -1.552502 -1.689659 -1.744495 -1.799331   \n6                 Albania -0.474402 -0.323725 -0.173049 -0.213704 -0.254359   \n8    United Arab Emirates  0.694305  0.658391  0.622476  0.675535  0.728593   \n..                    ...       ...       ...       ...       ...       ...   \n210                Serbia -0.717160 -0.767131 -0.817102 -0.836724 -0.856347   \n211          South Africa  0.515014  0.421920  0.328826  0.382604  0.436383   \n212      Congo, Dem. Rep. -1.756227 -2.026881 -2.297536 -2.162491 -2.027446   \n213                Zambia -0.482704 -0.295602 -0.108499 -0.183873 -0.259247   \n214              Zimbabwe -0.765806 -0.734115 -0.702424 -1.059515 -1.416606   \n\n         2001      2002      2003      2004  ...      2011      2012  \\\n2    1.372423  1.468842  1.447286  1.424216  ...  1.617491  1.568978   \n3   -1.957038 -1.804449 -1.430002 -1.505863  ... -1.540586 -1.193118   \n4   -1.631245 -1.463160 -1.212144 -1.251539  ... -1.097776 -0.969778   \n6   -0.239527 -0.224694 -0.447581 -0.165745  ...  0.232936  0.199169   \n8    0.924571  1.120548  0.671617  0.801586  ...  0.449241  0.676252   \n..        ...       ...       ...       ...  ...       ...       ...   \n210 -0.736899 -0.617452 -0.585421 -0.446547  ...  0.025294 -0.063378   \n211  0.546000  0.655617  0.804242  0.658264  ...  0.406775  0.381753   \n212 -1.748212 -1.468978 -1.475788 -1.607705  ... -1.521802 -1.489312   \n213 -0.429054 -0.598860 -0.551812 -0.543299  ... -0.438866 -0.426699   \n214 -1.674876 -1.933147 -1.975507 -2.063846  ... -1.934900 -1.888528   \n\n         2013      2014      2015      2016      2017      2018      2019  \\\n2    1.567499  0.885067  0.912940  0.871443  1.209727  1.193258  1.228282   \n3   -1.193137 -1.118182 -0.997371 -1.327688 -1.336691 -1.133277 -1.120690   \n4   -1.054224 -0.988459 -0.909186 -1.001380 -1.042228 -0.877683 -0.894037   \n6    0.209719  0.221990  0.186668  0.189022  0.223364  0.254197  0.273868   \n8    0.780733  0.992054  1.111059  0.972596  1.015221  0.930290  0.979414   \n..        ...       ...       ...       ...       ...       ...       ...   \n210 -0.061157  0.141216  0.155342  0.056300  0.009559  0.129221  0.132152   \n211  0.419975  0.287686  0.279379  0.211844  0.233725  0.129722  0.156193   \n212 -1.233635 -1.362629 -1.345490 -1.323978 -1.463433 -1.471100 -1.508590   \n213 -0.474008 -0.503428 -0.436516 -0.483593 -0.465022 -0.483341 -0.553813   \n214 -1.843716 -1.903126 -1.653554 -1.720110 -1.561047 -1.504843 -1.462590   \n\n         2020  \n2    1.339709  \n3   -1.378587  \n4   -0.908502  \n6    0.237131  \n8    1.083404  \n..        ...  \n210  0.120264  \n211  0.203909  \n212 -1.540846  \n213 -0.619891  \n214 -1.422032  \n\n[182 rows x 26 columns]",
      "text/html": "<div>\n<style scoped>\n    .dataframe tbody tr th:only-of-type {\n        vertical-align: middle;\n    }\n\n    .dataframe tbody tr th {\n        vertical-align: top;\n    }\n\n    .dataframe thead th {\n        text-align: right;\n    }\n</style>\n<table border=\"1\" class=\"dataframe\">\n  <thead>\n    <tr style=\"text-align: right;\">\n      <th></th>\n      <th>Country</th>\n      <th>1996</th>\n      <th>1997</th>\n      <th>1998</th>\n      <th>1999</th>\n      <th>2000</th>\n      <th>2001</th>\n      <th>2002</th>\n      <th>2003</th>\n      <th>2004</th>\n      <th>...</th>\n      <th>2011</th>\n      <th>2012</th>\n      <th>2013</th>\n      <th>2014</th>\n      <th>2015</th>\n      <th>2016</th>\n      <th>2017</th>\n      <th>2018</th>\n      <th>2019</th>\n      <th>2020</th>\n    </tr>\n  </thead>\n  <tbody>\n    <tr>\n      <th>2</th>\n      <td>Andorra</td>\n      <td>1.266440</td>\n      <td>1.283571</td>\n      <td>1.300701</td>\n      <td>1.288353</td>\n      <td>1.276005</td>\n      <td>1.372423</td>\n      <td>1.468842</td>\n      <td>1.447286</td>\n      <td>1.424216</td>\n      <td>...</td>\n      <td>1.617491</td>\n      <td>1.568978</td>\n      <td>1.567499</td>\n      <td>0.885067</td>\n      <td>0.912940</td>\n      <td>0.871443</td>\n      <td>1.209727</td>\n      <td>1.193258</td>\n      <td>1.228282</td>\n      <td>1.339709</td>\n    </tr>\n    <tr>\n      <th>3</th>\n      <td>Afghanistan</td>\n      <td>-2.090330</td>\n      <td>-2.088793</td>\n      <td>-2.087256</td>\n      <td>-2.098441</td>\n      <td>-2.109626</td>\n      <td>-1.957038</td>\n      <td>-1.804449</td>\n      <td>-1.430002</td>\n      <td>-1.505863</td>\n      <td>...</td>\n      <td>-1.540586</td>\n      <td>-1.193118</td>\n      <td>-1.193137</td>\n      <td>-1.118182</td>\n      <td>-0.997371</td>\n      <td>-1.327688</td>\n      <td>-1.336691</td>\n      <td>-1.133277</td>\n      <td>-1.120690</td>\n      <td>-1.378587</td>\n    </tr>\n    <tr>\n      <th>4</th>\n      <td>Angola</td>\n      <td>-1.415345</td>\n      <td>-1.552502</td>\n      <td>-1.689659</td>\n      <td>-1.744495</td>\n      <td>-1.799331</td>\n      <td>-1.631245</td>\n      <td>-1.463160</td>\n      <td>-1.212144</td>\n      <td>-1.251539</td>\n      <td>...</td>\n      <td>-1.097776</td>\n      <td>-0.969778</td>\n      <td>-1.054224</td>\n      <td>-0.988459</td>\n      <td>-0.909186</td>\n      <td>-1.001380</td>\n      <td>-1.042228</td>\n      <td>-0.877683</td>\n      <td>-0.894037</td>\n      <td>-0.908502</td>\n    </tr>\n    <tr>\n      <th>6</th>\n      <td>Albania</td>\n      <td>-0.474402</td>\n      <td>-0.323725</td>\n      <td>-0.173049</td>\n      <td>-0.213704</td>\n      <td>-0.254359</td>\n      <td>-0.239527</td>\n      <td>-0.224694</td>\n      <td>-0.447581</td>\n      <td>-0.165745</td>\n      <td>...</td>\n      <td>0.232936</td>\n      <td>0.199169</td>\n      <td>0.209719</td>\n      <td>0.221990</td>\n      <td>0.186668</td>\n      <td>0.189022</td>\n      <td>0.223364</td>\n      <td>0.254197</td>\n      <td>0.273868</td>\n      <td>0.237131</td>\n    </tr>\n    <tr>\n      <th>8</th>\n      <td>United Arab Emirates</td>\n      <td>0.694305</td>\n      <td>0.658391</td>\n      <td>0.622476</td>\n      <td>0.675535</td>\n      <td>0.728593</td>\n      <td>0.924571</td>\n      <td>1.120548</td>\n      <td>0.671617</td>\n      <td>0.801586</td>\n      <td>...</td>\n      <td>0.449241</td>\n      <td>0.676252</td>\n      <td>0.780733</td>\n      <td>0.992054</td>\n      <td>1.111059</td>\n      <td>0.972596</td>\n      <td>1.015221</td>\n      <td>0.930290</td>\n      <td>0.979414</td>\n      <td>1.083404</td>\n    </tr>\n    <tr>\n      <th>...</th>\n      <td>...</td>\n      <td>...</td>\n      <td>...</td>\n      <td>...</td>\n      <td>...</td>\n      <td>...</td>\n      <td>...</td>\n      <td>...</td>\n      <td>...</td>\n      <td>...</td>\n      <td>...</td>\n      <td>...</td>\n      <td>...</td>\n      <td>...</td>\n      <td>...</td>\n      <td>...</td>\n      <td>...</td>\n      <td>...</td>\n      <td>...</td>\n      <td>...</td>\n      <td>...</td>\n    </tr>\n    <tr>\n      <th>210</th>\n      <td>Serbia</td>\n      <td>-0.717160</td>\n      <td>-0.767131</td>\n      <td>-0.817102</td>\n      <td>-0.836724</td>\n      <td>-0.856347</td>\n      <td>-0.736899</td>\n      <td>-0.617452</td>\n      <td>-0.585421</td>\n      <td>-0.446547</td>\n      <td>...</td>\n      <td>0.025294</td>\n      <td>-0.063378</td>\n      <td>-0.061157</td>\n      <td>0.141216</td>\n      <td>0.155342</td>\n      <td>0.056300</td>\n      <td>0.009559</td>\n      <td>0.129221</td>\n      <td>0.132152</td>\n      <td>0.120264</td>\n    </tr>\n    <tr>\n      <th>211</th>\n      <td>South Africa</td>\n      <td>0.515014</td>\n      <td>0.421920</td>\n      <td>0.328826</td>\n      <td>0.382604</td>\n      <td>0.436383</td>\n      <td>0.546000</td>\n      <td>0.655617</td>\n      <td>0.804242</td>\n      <td>0.658264</td>\n      <td>...</td>\n      <td>0.406775</td>\n      <td>0.381753</td>\n      <td>0.419975</td>\n      <td>0.287686</td>\n      <td>0.279379</td>\n      <td>0.211844</td>\n      <td>0.233725</td>\n      <td>0.129722</td>\n      <td>0.156193</td>\n      <td>0.203909</td>\n    </tr>\n    <tr>\n      <th>212</th>\n      <td>Congo, Dem. Rep.</td>\n      <td>-1.756227</td>\n      <td>-2.026881</td>\n      <td>-2.297536</td>\n      <td>-2.162491</td>\n      <td>-2.027446</td>\n      <td>-1.748212</td>\n      <td>-1.468978</td>\n      <td>-1.475788</td>\n      <td>-1.607705</td>\n      <td>...</td>\n      <td>-1.521802</td>\n      <td>-1.489312</td>\n      <td>-1.233635</td>\n      <td>-1.362629</td>\n      <td>-1.345490</td>\n      <td>-1.323978</td>\n      <td>-1.463433</td>\n      <td>-1.471100</td>\n      <td>-1.508590</td>\n      <td>-1.540846</td>\n    </tr>\n    <tr>\n      <th>213</th>\n      <td>Zambia</td>\n      <td>-0.482704</td>\n      <td>-0.295602</td>\n      <td>-0.108499</td>\n      <td>-0.183873</td>\n      <td>-0.259247</td>\n      <td>-0.429054</td>\n      <td>-0.598860</td>\n      <td>-0.551812</td>\n      <td>-0.543299</td>\n      <td>...</td>\n      <td>-0.438866</td>\n      <td>-0.426699</td>\n      <td>-0.474008</td>\n      <td>-0.503428</td>\n      <td>-0.436516</td>\n      <td>-0.483593</td>\n      <td>-0.465022</td>\n      <td>-0.483341</td>\n      <td>-0.553813</td>\n      <td>-0.619891</td>\n    </tr>\n    <tr>\n      <th>214</th>\n      <td>Zimbabwe</td>\n      <td>-0.765806</td>\n      <td>-0.734115</td>\n      <td>-0.702424</td>\n      <td>-1.059515</td>\n      <td>-1.416606</td>\n      <td>-1.674876</td>\n      <td>-1.933147</td>\n      <td>-1.975507</td>\n      <td>-2.063846</td>\n      <td>...</td>\n      <td>-1.934900</td>\n      <td>-1.888528</td>\n      <td>-1.843716</td>\n      <td>-1.903126</td>\n      <td>-1.653554</td>\n      <td>-1.720110</td>\n      <td>-1.561047</td>\n      <td>-1.504843</td>\n      <td>-1.462590</td>\n      <td>-1.422032</td>\n    </tr>\n  </tbody>\n</table>\n<p>182 rows × 26 columns</p>\n</div>"
     },
     "execution_count": 13,
     "metadata": {},
     "output_type": "execute_result"
    }
   ],
   "source": [
    "# check\n",
    "df_RQ"
   ]
  },
  {
   "cell_type": "markdown",
   "metadata": {
    "pycharm": {
     "name": "#%% md\n"
    }
   },
   "source": [
    "### Causal discovery on corruption and income inequality in Africa"
   ]
  },
  {
   "cell_type": "code",
   "execution_count": 14,
   "metadata": {
    "pycharm": {
     "name": "#%%\n"
    },
    "ExecuteTime": {
     "end_time": "2023-09-28T08:28:05.677092156Z",
     "start_time": "2023-09-28T08:28:05.668620302Z"
    }
   },
   "outputs": [],
   "source": [
    "Africa_countries = ['Algeria', 'Egypt, Arab Rep.', 'Morocco', 'Tunisia', 'Burundi', 'Comoros', 'Djibouti', 'Eritrea', 'Ethiopia', 'Kenya', \n",
    "'Madagascar', 'Malawi', 'Mauritius', 'Mozambique', 'Rwanda', 'Seychelles', 'Somalia', 'Uganda',\n",
    "'Tanzania', 'Zambia', 'Zimbabwe', 'Angola', 'Cameroon', 'Central African Republic', 'Chad', 'Congo, Rep.',\n",
    "'Congo, Dem. Rep.', 'Equatorial Guinea', 'Gabon', 'Botswana', 'Lesotho', 'Namibia',\n",
    "'South Africa', 'Benin', 'Burkina Faso', \"Côte d'Ivoire\", 'Gambia, The', 'Ghana', 'Guinea-Bissau', 'Liberia',\n",
    "'Mali', 'Mauritania', 'Niger', 'Nigeria', 'Senegal', 'Sierra Leone', 'Togo']"
   ]
  },
  {
   "cell_type": "code",
   "execution_count": 15,
   "metadata": {
    "pycharm": {
     "name": "#%%\n"
    },
    "scrolled": true,
    "ExecuteTime": {
     "end_time": "2023-09-28T08:28:06.551723395Z",
     "start_time": "2023-09-28T08:28:06.524001522Z"
    }
   },
   "outputs": [],
   "source": [
    "# corruption data\n",
    "df_CC_Africa = df_CC[df_CC['Country'].isin(Africa_countries)].iloc[:, 0:22]"
   ]
  },
  {
   "cell_type": "code",
   "execution_count": 16,
   "metadata": {
    "pycharm": {
     "name": "#%%\n"
    },
    "scrolled": true,
    "ExecuteTime": {
     "end_time": "2023-09-28T08:28:07.434520430Z",
     "start_time": "2023-09-28T08:28:07.347644446Z"
    }
   },
   "outputs": [
    {
     "data": {
      "text/plain": "                      Country      1996      1997      1998      1999  \\\n4                      Angola -1.167702 -1.286769 -1.405836 -1.464261   \n16                    Burundi -0.680635 -0.729977 -0.779319 -0.791767   \n18                      Benin -0.548115 -0.545390 -0.542665 -0.508141   \n19               Burkina Faso  0.111519  0.004395 -0.102730 -0.086957   \n34                   Botswana  0.817961  0.853693  0.889424  0.860306   \n35   Central African Republic -1.140931 -1.073672 -1.006412 -1.091519   \n40              Côte d'Ivoire -0.260567 -0.364913 -0.469259 -0.577060   \n41                   Cameroon -1.334985 -1.277612 -1.220239 -1.206318   \n42                Congo, Rep. -0.860740 -1.065736 -1.270732 -1.196290   \n45                    Comoros -0.998565 -1.112410 -1.226254 -1.166205   \n53                   Djibouti -0.719981 -0.749862 -0.779743 -0.863065   \n57                    Algeria -0.566741 -0.724260 -0.881779 -0.909845   \n59           Egypt, Arab Rep. -0.472254 -0.464297 -0.456339 -0.504954   \n60                    Eritrea  0.505685  0.656127  0.806569  0.747824   \n63                   Ethiopia -0.930546 -0.750951 -0.571356 -0.511065   \n68                      Gabon -1.102377 -1.032300 -0.962223 -0.836870   \n71                      Ghana -0.339950 -0.299332 -0.258714 -0.179855   \n73                Gambia, The -0.374195 -0.410626 -0.447057 -0.417151   \n74              Guinea-Bissau -1.194655 -1.204012 -1.213370 -1.158626   \n75          Equatorial Guinea -1.264369 -1.285958 -1.307548 -1.427023   \n100                     Kenya -1.158849 -1.153849 -1.148849 -1.102510   \n109                   Liberia -1.500141 -1.600846 -1.701552 -1.598202   \n114                   Lesotho  0.086545  0.063530  0.040516  0.018389   \n120                   Morocco -0.106927  0.001961  0.110848  0.000558   \n123                Madagascar -0.371094 -0.582359 -0.793624 -0.622149   \n128                      Mali -0.782562 -0.814556 -0.846549 -0.843245   \n133                Mozambique -0.424003 -0.428355 -0.432706 -0.431886   \n134                Mauritania -0.555694 -0.511940 -0.468185 -0.460961   \n136                 Mauritius  0.034662  0.187866  0.341070  0.362422   \n137                    Malawi -0.316063 -0.284988 -0.253912 -0.262898   \n139                   Namibia  0.808773  0.750168  0.691563  0.634427   \n140                     Niger -0.865590 -0.921160 -0.976730 -0.929449   \n141                   Nigeria -1.189009 -1.173380 -1.157752 -1.188217   \n165                    Rwanda -0.745140 -0.732348 -0.719555 -0.661195   \n169                   Senegal -0.142715 -0.146252 -0.149790 -0.112915   \n172              Sierra Leone -0.756474 -0.780965 -0.805456 -0.847005   \n175                   Somalia -1.273832 -1.338585 -1.403338 -1.486024   \n182                Seychelles  0.545952  0.435513  0.325074  0.389546   \n184                      Chad -1.380424 -1.318975 -1.257526 -1.182002   \n185                      Togo -0.842621 -0.819270 -0.795920 -0.778112   \n192                   Tunisia -0.533678 -0.385844 -0.238009 -0.234615   \n196                  Tanzania -0.702762 -0.744054 -0.785345 -0.795252   \n197                    Uganda -0.723757 -0.806825 -0.889892 -0.881866   \n211              South Africa  0.732927  0.703686  0.674444  0.649890   \n212          Congo, Dem. Rep. -1.647852 -1.685389 -1.722926 -1.635962   \n213                    Zambia -0.840641 -0.806893 -0.773145 -0.744462   \n214                  Zimbabwe -0.278847 -0.379548 -0.480248 -0.731195   \n\n         2000      2001      2002      2003      2004  ...      2007  \\\n4   -1.522685 -1.353157 -1.183629 -1.320665 -1.313559  ... -1.289693   \n16  -0.804215 -0.813604 -0.822993 -0.895339 -0.892258  ... -1.160764   \n18  -0.473618 -0.600040 -0.726462 -0.478256 -0.464951  ... -0.463171   \n19  -0.071184 -0.031969  0.007246 -0.011932 -0.135678  ... -0.331875   \n34   0.831187  0.743183  0.655179  1.216737  0.898180  ...  1.003517   \n35  -1.176626 -1.134056 -1.091485 -1.160548 -1.385589  ... -1.189861   \n40  -0.684861 -0.727029 -0.769197 -0.979914 -1.206059  ... -1.091263   \n41  -1.192397 -1.179798 -1.167200 -0.978817 -1.108283  ... -1.020625   \n42  -1.121848 -1.058211 -0.994574 -1.010288 -0.927982  ... -1.146641   \n45  -1.106156 -1.001820 -0.897485 -0.855613 -0.899970  ... -0.706745   \n53  -0.946386 -0.842868 -0.739350 -0.824784 -0.583543  ... -0.543849   \n57  -0.937911 -0.906796 -0.875681 -0.692261 -0.679478  ... -0.559929   \n59  -0.553568 -0.481458 -0.409349 -0.552832 -0.647139  ... -0.762018   \n60   0.689078  0.329201 -0.030676 -0.133529 -0.224918  ... -0.438919   \n63  -0.450774 -0.515904 -0.581034 -0.658990 -0.728139  ... -0.628745   \n68  -0.711517 -0.651129 -0.590741 -0.631991 -0.846558  ... -1.063236   \n71  -0.100997 -0.214951 -0.328904 -0.254481 -0.253165  ...  0.039047   \n73  -0.387246 -0.414081 -0.440916 -0.287430 -0.611305  ... -0.728481   \n74  -1.103883 -1.057463 -1.011044 -1.148657 -1.215099  ... -1.190990   \n75  -1.546498 -1.486598 -1.426698 -1.515184 -1.662699  ... -1.502982   \n100 -1.056170 -1.026237 -0.996304 -0.880343 -0.856193  ... -0.970948   \n109 -1.494852 -1.391456 -1.288059 -1.262588 -1.315888  ... -0.457796   \n114 -0.003739 -0.048459 -0.093180 -0.170642 -0.098918  ... -0.068847   \n120 -0.109731 -0.148661 -0.187592 -0.260044 -0.143284  ... -0.344908   \n123 -0.450673 -0.317712 -0.184750 -0.196303 -0.280112  ... -0.190226   \n128 -0.839941 -0.762460 -0.684980 -0.673848 -0.591962  ... -0.425326   \n133 -0.431065 -0.470874 -0.510683 -0.597182 -0.602969  ... -0.515408   \n134 -0.453737 -0.239517 -0.025296 -0.031115 -0.526517  ... -0.578711   \n136  0.383774  0.421196  0.458618  0.300812  0.254528  ...  0.438277   \n137 -0.271884 -0.615032 -0.958181 -0.731258 -0.768121  ... -0.514421   \n139  0.577291  0.345678  0.114066  0.237493  0.158624  ...  0.319512   \n140 -0.882167 -0.938380 -0.994594 -0.926455 -0.824222  ... -0.751895   \n141 -1.218683 -1.324957 -1.431231 -1.362079 -1.341822  ... -1.053003   \n165 -0.602835 -0.510693 -0.418551 -0.466384 -0.440629  ... -0.001274   \n169 -0.076041  0.050219  0.176479 -0.157335 -0.050152  ... -0.507815   \n172 -0.888554 -0.861488 -0.834423 -0.907941 -0.907723  ... -0.911957   \n175 -1.568710 -1.304746 -1.040783 -1.565278 -1.787207  ... -1.759850   \n182  0.454018  0.397352  0.340686  0.406846  0.273562  ...  0.189379   \n184 -1.106478 -1.127033 -1.147589 -1.374360 -1.380428  ... -1.383073   \n185 -0.760304 -0.786482 -0.812661 -0.915349 -0.959249  ... -0.990044   \n192 -0.231220  0.069361  0.369942  0.159738  0.082865  ... -0.249607   \n196 -0.805159 -0.805013 -0.804867 -0.678292 -0.560504  ... -0.337416   \n197 -0.873840 -0.891118 -0.908395 -0.813956 -0.779436  ... -0.821338   \n211  0.625336  0.489926  0.354517  0.354515  0.464510  ...  0.248784   \n212 -1.548999 -1.420677 -1.292354 -1.404200 -1.454288  ... -1.357004   \n213 -0.715778 -0.723276 -0.730775 -0.596900 -0.591629  ... -0.405011   \n214 -0.982141 -1.105291 -1.228440 -1.245055 -1.333829  ... -1.401328   \n\n         2008      2009      2010      2011      2012      2013      2014  \\\n4   -1.284621 -1.404655 -1.326095 -1.344277 -1.268470 -1.309463 -1.443944   \n16  -1.090768 -1.129477 -1.165776 -1.187119 -1.452790 -1.409437 -1.258688   \n18  -0.503310 -0.615627 -0.660993 -0.593505 -0.856498 -0.743930 -0.666047   \n19  -0.304823 -0.335337 -0.350699 -0.367833 -0.478925 -0.522940 -0.464794   \n34   1.039068  0.959989  1.027206  0.995591  0.933343  0.923622  0.854549   \n35  -1.115491 -0.976690 -0.929904 -0.946692 -0.992719 -1.090543 -1.160188   \n40  -1.107821 -1.104134 -1.158213 -1.012885 -0.830353 -0.735374 -0.419105   \n41  -1.022167 -1.003626 -1.061337 -1.145436 -1.261209 -1.205025 -1.164030   \n42  -1.175675 -1.195680 -1.146949 -1.119156 -1.211168 -1.153706 -1.178814   \n45  -0.790295 -0.828634 -0.807133 -0.790605 -0.783355 -0.739784 -0.612173   \n53  -0.327980 -0.368076 -0.404568 -0.410001 -0.462410 -0.541927 -0.599348   \n57  -0.594569 -0.577883 -0.524987 -0.544560 -0.503252 -0.473337 -0.599999   \n59  -0.779132 -0.515469 -0.631534 -0.695483 -0.598103 -0.631141 -0.624787   \n60  -0.393049 -0.494217 -0.559533 -0.629178 -0.775420 -0.901599 -0.891284   \n63  -0.664217 -0.701390 -0.690810 -0.657918 -0.602605 -0.494797 -0.444210   \n68  -1.078963 -1.003024 -0.867401 -0.888627 -0.699807 -0.657590 -0.691603   \n71  -0.070542 -0.007213  0.011539 -0.025677 -0.126676 -0.096517 -0.192119   \n73  -0.738227 -0.573622 -0.594706 -0.509016 -0.644625 -0.696257 -0.693809   \n74  -1.180871 -1.195958 -1.155731 -1.156229 -1.278821 -1.325349 -1.538527   \n75  -1.465785 -1.466522 -1.469485 -1.463087 -1.523688 -1.593453 -1.772847   \n100 -1.055104 -1.059961 -0.910279 -0.950184 -1.093432 -1.031065 -0.933304   \n109 -0.737543 -0.589856 -0.561909 -0.671166 -0.598508 -0.710398 -0.771445   \n114  0.049708  0.155916  0.168630  0.151359  0.121272  0.275663  0.190628   \n120 -0.382436 -0.325605 -0.204956 -0.400792 -0.436805 -0.370977 -0.265618   \n123 -0.266192 -0.339067 -0.428796 -0.479314 -0.665142 -0.753784 -0.840402   \n128 -0.529069 -0.673908 -0.678084 -0.638577 -0.825347 -0.785934 -0.745376   \n133 -0.492021 -0.437340 -0.446858 -0.491051 -0.568374 -0.603355 -0.672245   \n134 -0.787821 -0.613362 -0.715553 -0.628108 -0.782541 -0.833449 -0.927552   \n136  0.515310  0.539207  0.559693  0.536906  0.303348  0.292693  0.351498   \n137 -0.445656 -0.404617 -0.487303 -0.416911 -0.471657 -0.607234 -0.751119   \n139  0.607508  0.295011  0.337603  0.306369  0.340832  0.326551  0.288648   \n140 -0.720100 -0.610281 -0.661272 -0.639699 -0.641733 -0.610908 -0.686833   \n141 -0.891883 -1.031731 -1.049202 -1.172961 -1.169031 -1.221034 -1.274742   \n165  0.096269  0.089928  0.353755  0.357639  0.557709  0.627993  0.762648   \n169 -0.497831 -0.486339 -0.638164 -0.496298 -0.256706 -0.186745  0.055751   \n172 -0.968692 -0.931149 -0.774881 -0.842972 -0.951076 -0.905651 -0.940661   \n175 -1.868714 -1.715286 -1.739729 -1.706140 -1.591467 -1.580440 -1.659837   \n182  0.386921  0.427948  0.448977  0.422859  0.417705  0.442021  0.438142   \n184 -1.522943 -1.402205 -1.381435 -1.328809 -1.313592 -1.351030 -1.315730   \n185 -0.973131 -1.018094 -0.959922 -1.009948 -1.000161 -1.026671 -0.893284   \n192 -0.303903 -0.220963 -0.258856 -0.056725 -0.059842 -0.066936 -0.036799   \n196 -0.417031 -0.445453 -0.535370 -0.591716 -0.756925 -0.773974 -0.754442   \n197 -0.832622 -0.901867 -0.917804 -0.920531 -0.988394 -1.042449 -1.085059   \n211  0.211264  0.182197  0.131517  0.061768 -0.115690 -0.069945 -0.061452   \n212 -1.244319 -1.389180 -1.438318 -1.427505 -1.312143 -1.317955 -1.301038   \n213 -0.391012 -0.461074 -0.506211 -0.396295 -0.284372 -0.306661 -0.342187   \n214 -1.355687 -1.355277 -1.369261 -1.401741 -1.368007 -1.404648 -1.391339   \n\n         2015      2016  \n4   -1.395014 -1.439528  \n16  -1.257721 -1.245538  \n18  -0.550842 -0.513315  \n19  -0.277289 -0.147976  \n34   0.852458  0.929928  \n35  -1.308274 -1.279835  \n40  -0.434921 -0.529941  \n41  -1.074647 -1.154283  \n42  -1.196223 -1.186817  \n45  -0.719177 -0.665736  \n53  -0.657674 -0.653349  \n57  -0.645611 -0.677760  \n59  -0.638105 -0.644594  \n60  -1.301354 -1.306542  \n63  -0.450171 -0.416919  \n68  -0.714227 -0.753175  \n71  -0.188747 -0.148912  \n73  -0.770301 -0.811905  \n74  -1.482850 -1.552118  \n75  -1.766220 -1.805687  \n100 -1.013617 -0.892645  \n109 -0.645483 -0.721480  \n114  0.062672 -0.022431  \n120 -0.220277 -0.129613  \n123 -0.851395 -0.907157  \n128 -0.682902 -0.654667  \n133 -0.748930 -0.874863  \n134 -0.923429 -0.739099  \n136  0.294224  0.203452  \n137 -0.766652 -0.756548  \n139  0.319539  0.332901  \n140 -0.654293 -0.644074  \n141 -1.079542 -1.024854  \n165  0.635994  0.644180  \n169  0.059148  0.000091  \n172 -0.799788 -0.818991  \n175 -1.615454 -1.701097  \n182  0.883954  0.776205  \n184 -1.364195 -1.487701  \n185 -0.723914 -0.677262  \n192 -0.068709 -0.134743  \n196 -0.687875 -0.506779  \n197 -1.051799 -1.056590  \n211  0.025271  0.118479  \n212 -1.285472 -1.337154  \n213 -0.341229 -0.401749  \n214 -1.310675 -1.259222  \n\n[47 rows x 22 columns]",
      "text/html": "<div>\n<style scoped>\n    .dataframe tbody tr th:only-of-type {\n        vertical-align: middle;\n    }\n\n    .dataframe tbody tr th {\n        vertical-align: top;\n    }\n\n    .dataframe thead th {\n        text-align: right;\n    }\n</style>\n<table border=\"1\" class=\"dataframe\">\n  <thead>\n    <tr style=\"text-align: right;\">\n      <th></th>\n      <th>Country</th>\n      <th>1996</th>\n      <th>1997</th>\n      <th>1998</th>\n      <th>1999</th>\n      <th>2000</th>\n      <th>2001</th>\n      <th>2002</th>\n      <th>2003</th>\n      <th>2004</th>\n      <th>...</th>\n      <th>2007</th>\n      <th>2008</th>\n      <th>2009</th>\n      <th>2010</th>\n      <th>2011</th>\n      <th>2012</th>\n      <th>2013</th>\n      <th>2014</th>\n      <th>2015</th>\n      <th>2016</th>\n    </tr>\n  </thead>\n  <tbody>\n    <tr>\n      <th>4</th>\n      <td>Angola</td>\n      <td>-1.167702</td>\n      <td>-1.286769</td>\n      <td>-1.405836</td>\n      <td>-1.464261</td>\n      <td>-1.522685</td>\n      <td>-1.353157</td>\n      <td>-1.183629</td>\n      <td>-1.320665</td>\n      <td>-1.313559</td>\n      <td>...</td>\n      <td>-1.289693</td>\n      <td>-1.284621</td>\n      <td>-1.404655</td>\n      <td>-1.326095</td>\n      <td>-1.344277</td>\n      <td>-1.268470</td>\n      <td>-1.309463</td>\n      <td>-1.443944</td>\n      <td>-1.395014</td>\n      <td>-1.439528</td>\n    </tr>\n    <tr>\n      <th>16</th>\n      <td>Burundi</td>\n      <td>-0.680635</td>\n      <td>-0.729977</td>\n      <td>-0.779319</td>\n      <td>-0.791767</td>\n      <td>-0.804215</td>\n      <td>-0.813604</td>\n      <td>-0.822993</td>\n      <td>-0.895339</td>\n      <td>-0.892258</td>\n      <td>...</td>\n      <td>-1.160764</td>\n      <td>-1.090768</td>\n      <td>-1.129477</td>\n      <td>-1.165776</td>\n      <td>-1.187119</td>\n      <td>-1.452790</td>\n      <td>-1.409437</td>\n      <td>-1.258688</td>\n      <td>-1.257721</td>\n      <td>-1.245538</td>\n    </tr>\n    <tr>\n      <th>18</th>\n      <td>Benin</td>\n      <td>-0.548115</td>\n      <td>-0.545390</td>\n      <td>-0.542665</td>\n      <td>-0.508141</td>\n      <td>-0.473618</td>\n      <td>-0.600040</td>\n      <td>-0.726462</td>\n      <td>-0.478256</td>\n      <td>-0.464951</td>\n      <td>...</td>\n      <td>-0.463171</td>\n      <td>-0.503310</td>\n      <td>-0.615627</td>\n      <td>-0.660993</td>\n      <td>-0.593505</td>\n      <td>-0.856498</td>\n      <td>-0.743930</td>\n      <td>-0.666047</td>\n      <td>-0.550842</td>\n      <td>-0.513315</td>\n    </tr>\n    <tr>\n      <th>19</th>\n      <td>Burkina Faso</td>\n      <td>0.111519</td>\n      <td>0.004395</td>\n      <td>-0.102730</td>\n      <td>-0.086957</td>\n      <td>-0.071184</td>\n      <td>-0.031969</td>\n      <td>0.007246</td>\n      <td>-0.011932</td>\n      <td>-0.135678</td>\n      <td>...</td>\n      <td>-0.331875</td>\n      <td>-0.304823</td>\n      <td>-0.335337</td>\n      <td>-0.350699</td>\n      <td>-0.367833</td>\n      <td>-0.478925</td>\n      <td>-0.522940</td>\n      <td>-0.464794</td>\n      <td>-0.277289</td>\n      <td>-0.147976</td>\n    </tr>\n    <tr>\n      <th>34</th>\n      <td>Botswana</td>\n      <td>0.817961</td>\n      <td>0.853693</td>\n      <td>0.889424</td>\n      <td>0.860306</td>\n      <td>0.831187</td>\n      <td>0.743183</td>\n      <td>0.655179</td>\n      <td>1.216737</td>\n      <td>0.898180</td>\n      <td>...</td>\n      <td>1.003517</td>\n      <td>1.039068</td>\n      <td>0.959989</td>\n      <td>1.027206</td>\n      <td>0.995591</td>\n      <td>0.933343</td>\n      <td>0.923622</td>\n      <td>0.854549</td>\n      <td>0.852458</td>\n      <td>0.929928</td>\n    </tr>\n    <tr>\n      <th>35</th>\n      <td>Central African Republic</td>\n      <td>-1.140931</td>\n      <td>-1.073672</td>\n      <td>-1.006412</td>\n      <td>-1.091519</td>\n      <td>-1.176626</td>\n      <td>-1.134056</td>\n      <td>-1.091485</td>\n      <td>-1.160548</td>\n      <td>-1.385589</td>\n      <td>...</td>\n      <td>-1.189861</td>\n      <td>-1.115491</td>\n      <td>-0.976690</td>\n      <td>-0.929904</td>\n      <td>-0.946692</td>\n      <td>-0.992719</td>\n      <td>-1.090543</td>\n      <td>-1.160188</td>\n      <td>-1.308274</td>\n      <td>-1.279835</td>\n    </tr>\n    <tr>\n      <th>40</th>\n      <td>Côte d'Ivoire</td>\n      <td>-0.260567</td>\n      <td>-0.364913</td>\n      <td>-0.469259</td>\n      <td>-0.577060</td>\n      <td>-0.684861</td>\n      <td>-0.727029</td>\n      <td>-0.769197</td>\n      <td>-0.979914</td>\n      <td>-1.206059</td>\n      <td>...</td>\n      <td>-1.091263</td>\n      <td>-1.107821</td>\n      <td>-1.104134</td>\n      <td>-1.158213</td>\n      <td>-1.012885</td>\n      <td>-0.830353</td>\n      <td>-0.735374</td>\n      <td>-0.419105</td>\n      <td>-0.434921</td>\n      <td>-0.529941</td>\n    </tr>\n    <tr>\n      <th>41</th>\n      <td>Cameroon</td>\n      <td>-1.334985</td>\n      <td>-1.277612</td>\n      <td>-1.220239</td>\n      <td>-1.206318</td>\n      <td>-1.192397</td>\n      <td>-1.179798</td>\n      <td>-1.167200</td>\n      <td>-0.978817</td>\n      <td>-1.108283</td>\n      <td>...</td>\n      <td>-1.020625</td>\n      <td>-1.022167</td>\n      <td>-1.003626</td>\n      <td>-1.061337</td>\n      <td>-1.145436</td>\n      <td>-1.261209</td>\n      <td>-1.205025</td>\n      <td>-1.164030</td>\n      <td>-1.074647</td>\n      <td>-1.154283</td>\n    </tr>\n    <tr>\n      <th>42</th>\n      <td>Congo, Rep.</td>\n      <td>-0.860740</td>\n      <td>-1.065736</td>\n      <td>-1.270732</td>\n      <td>-1.196290</td>\n      <td>-1.121848</td>\n      <td>-1.058211</td>\n      <td>-0.994574</td>\n      <td>-1.010288</td>\n      <td>-0.927982</td>\n      <td>...</td>\n      <td>-1.146641</td>\n      <td>-1.175675</td>\n      <td>-1.195680</td>\n      <td>-1.146949</td>\n      <td>-1.119156</td>\n      <td>-1.211168</td>\n      <td>-1.153706</td>\n      <td>-1.178814</td>\n      <td>-1.196223</td>\n      <td>-1.186817</td>\n    </tr>\n    <tr>\n      <th>45</th>\n      <td>Comoros</td>\n      <td>-0.998565</td>\n      <td>-1.112410</td>\n      <td>-1.226254</td>\n      <td>-1.166205</td>\n      <td>-1.106156</td>\n      <td>-1.001820</td>\n      <td>-0.897485</td>\n      <td>-0.855613</td>\n      <td>-0.899970</td>\n      <td>...</td>\n      <td>-0.706745</td>\n      <td>-0.790295</td>\n      <td>-0.828634</td>\n      <td>-0.807133</td>\n      <td>-0.790605</td>\n      <td>-0.783355</td>\n      <td>-0.739784</td>\n      <td>-0.612173</td>\n      <td>-0.719177</td>\n      <td>-0.665736</td>\n    </tr>\n    <tr>\n      <th>53</th>\n      <td>Djibouti</td>\n      <td>-0.719981</td>\n      <td>-0.749862</td>\n      <td>-0.779743</td>\n      <td>-0.863065</td>\n      <td>-0.946386</td>\n      <td>-0.842868</td>\n      <td>-0.739350</td>\n      <td>-0.824784</td>\n      <td>-0.583543</td>\n      <td>...</td>\n      <td>-0.543849</td>\n      <td>-0.327980</td>\n      <td>-0.368076</td>\n      <td>-0.404568</td>\n      <td>-0.410001</td>\n      <td>-0.462410</td>\n      <td>-0.541927</td>\n      <td>-0.599348</td>\n      <td>-0.657674</td>\n      <td>-0.653349</td>\n    </tr>\n    <tr>\n      <th>57</th>\n      <td>Algeria</td>\n      <td>-0.566741</td>\n      <td>-0.724260</td>\n      <td>-0.881779</td>\n      <td>-0.909845</td>\n      <td>-0.937911</td>\n      <td>-0.906796</td>\n      <td>-0.875681</td>\n      <td>-0.692261</td>\n      <td>-0.679478</td>\n      <td>...</td>\n      <td>-0.559929</td>\n      <td>-0.594569</td>\n      <td>-0.577883</td>\n      <td>-0.524987</td>\n      <td>-0.544560</td>\n      <td>-0.503252</td>\n      <td>-0.473337</td>\n      <td>-0.599999</td>\n      <td>-0.645611</td>\n      <td>-0.677760</td>\n    </tr>\n    <tr>\n      <th>59</th>\n      <td>Egypt, Arab Rep.</td>\n      <td>-0.472254</td>\n      <td>-0.464297</td>\n      <td>-0.456339</td>\n      <td>-0.504954</td>\n      <td>-0.553568</td>\n      <td>-0.481458</td>\n      <td>-0.409349</td>\n      <td>-0.552832</td>\n      <td>-0.647139</td>\n      <td>...</td>\n      <td>-0.762018</td>\n      <td>-0.779132</td>\n      <td>-0.515469</td>\n      <td>-0.631534</td>\n      <td>-0.695483</td>\n      <td>-0.598103</td>\n      <td>-0.631141</td>\n      <td>-0.624787</td>\n      <td>-0.638105</td>\n      <td>-0.644594</td>\n    </tr>\n    <tr>\n      <th>60</th>\n      <td>Eritrea</td>\n      <td>0.505685</td>\n      <td>0.656127</td>\n      <td>0.806569</td>\n      <td>0.747824</td>\n      <td>0.689078</td>\n      <td>0.329201</td>\n      <td>-0.030676</td>\n      <td>-0.133529</td>\n      <td>-0.224918</td>\n      <td>...</td>\n      <td>-0.438919</td>\n      <td>-0.393049</td>\n      <td>-0.494217</td>\n      <td>-0.559533</td>\n      <td>-0.629178</td>\n      <td>-0.775420</td>\n      <td>-0.901599</td>\n      <td>-0.891284</td>\n      <td>-1.301354</td>\n      <td>-1.306542</td>\n    </tr>\n    <tr>\n      <th>63</th>\n      <td>Ethiopia</td>\n      <td>-0.930546</td>\n      <td>-0.750951</td>\n      <td>-0.571356</td>\n      <td>-0.511065</td>\n      <td>-0.450774</td>\n      <td>-0.515904</td>\n      <td>-0.581034</td>\n      <td>-0.658990</td>\n      <td>-0.728139</td>\n      <td>...</td>\n      <td>-0.628745</td>\n      <td>-0.664217</td>\n      <td>-0.701390</td>\n      <td>-0.690810</td>\n      <td>-0.657918</td>\n      <td>-0.602605</td>\n      <td>-0.494797</td>\n      <td>-0.444210</td>\n      <td>-0.450171</td>\n      <td>-0.416919</td>\n    </tr>\n    <tr>\n      <th>68</th>\n      <td>Gabon</td>\n      <td>-1.102377</td>\n      <td>-1.032300</td>\n      <td>-0.962223</td>\n      <td>-0.836870</td>\n      <td>-0.711517</td>\n      <td>-0.651129</td>\n      <td>-0.590741</td>\n      <td>-0.631991</td>\n      <td>-0.846558</td>\n      <td>...</td>\n      <td>-1.063236</td>\n      <td>-1.078963</td>\n      <td>-1.003024</td>\n      <td>-0.867401</td>\n      <td>-0.888627</td>\n      <td>-0.699807</td>\n      <td>-0.657590</td>\n      <td>-0.691603</td>\n      <td>-0.714227</td>\n      <td>-0.753175</td>\n    </tr>\n    <tr>\n      <th>71</th>\n      <td>Ghana</td>\n      <td>-0.339950</td>\n      <td>-0.299332</td>\n      <td>-0.258714</td>\n      <td>-0.179855</td>\n      <td>-0.100997</td>\n      <td>-0.214951</td>\n      <td>-0.328904</td>\n      <td>-0.254481</td>\n      <td>-0.253165</td>\n      <td>...</td>\n      <td>0.039047</td>\n      <td>-0.070542</td>\n      <td>-0.007213</td>\n      <td>0.011539</td>\n      <td>-0.025677</td>\n      <td>-0.126676</td>\n      <td>-0.096517</td>\n      <td>-0.192119</td>\n      <td>-0.188747</td>\n      <td>-0.148912</td>\n    </tr>\n    <tr>\n      <th>73</th>\n      <td>Gambia, The</td>\n      <td>-0.374195</td>\n      <td>-0.410626</td>\n      <td>-0.447057</td>\n      <td>-0.417151</td>\n      <td>-0.387246</td>\n      <td>-0.414081</td>\n      <td>-0.440916</td>\n      <td>-0.287430</td>\n      <td>-0.611305</td>\n      <td>...</td>\n      <td>-0.728481</td>\n      <td>-0.738227</td>\n      <td>-0.573622</td>\n      <td>-0.594706</td>\n      <td>-0.509016</td>\n      <td>-0.644625</td>\n      <td>-0.696257</td>\n      <td>-0.693809</td>\n      <td>-0.770301</td>\n      <td>-0.811905</td>\n    </tr>\n    <tr>\n      <th>74</th>\n      <td>Guinea-Bissau</td>\n      <td>-1.194655</td>\n      <td>-1.204012</td>\n      <td>-1.213370</td>\n      <td>-1.158626</td>\n      <td>-1.103883</td>\n      <td>-1.057463</td>\n      <td>-1.011044</td>\n      <td>-1.148657</td>\n      <td>-1.215099</td>\n      <td>...</td>\n      <td>-1.190990</td>\n      <td>-1.180871</td>\n      <td>-1.195958</td>\n      <td>-1.155731</td>\n      <td>-1.156229</td>\n      <td>-1.278821</td>\n      <td>-1.325349</td>\n      <td>-1.538527</td>\n      <td>-1.482850</td>\n      <td>-1.552118</td>\n    </tr>\n    <tr>\n      <th>75</th>\n      <td>Equatorial Guinea</td>\n      <td>-1.264369</td>\n      <td>-1.285958</td>\n      <td>-1.307548</td>\n      <td>-1.427023</td>\n      <td>-1.546498</td>\n      <td>-1.486598</td>\n      <td>-1.426698</td>\n      <td>-1.515184</td>\n      <td>-1.662699</td>\n      <td>...</td>\n      <td>-1.502982</td>\n      <td>-1.465785</td>\n      <td>-1.466522</td>\n      <td>-1.469485</td>\n      <td>-1.463087</td>\n      <td>-1.523688</td>\n      <td>-1.593453</td>\n      <td>-1.772847</td>\n      <td>-1.766220</td>\n      <td>-1.805687</td>\n    </tr>\n    <tr>\n      <th>100</th>\n      <td>Kenya</td>\n      <td>-1.158849</td>\n      <td>-1.153849</td>\n      <td>-1.148849</td>\n      <td>-1.102510</td>\n      <td>-1.056170</td>\n      <td>-1.026237</td>\n      <td>-0.996304</td>\n      <td>-0.880343</td>\n      <td>-0.856193</td>\n      <td>...</td>\n      <td>-0.970948</td>\n      <td>-1.055104</td>\n      <td>-1.059961</td>\n      <td>-0.910279</td>\n      <td>-0.950184</td>\n      <td>-1.093432</td>\n      <td>-1.031065</td>\n      <td>-0.933304</td>\n      <td>-1.013617</td>\n      <td>-0.892645</td>\n    </tr>\n    <tr>\n      <th>109</th>\n      <td>Liberia</td>\n      <td>-1.500141</td>\n      <td>-1.600846</td>\n      <td>-1.701552</td>\n      <td>-1.598202</td>\n      <td>-1.494852</td>\n      <td>-1.391456</td>\n      <td>-1.288059</td>\n      <td>-1.262588</td>\n      <td>-1.315888</td>\n      <td>...</td>\n      <td>-0.457796</td>\n      <td>-0.737543</td>\n      <td>-0.589856</td>\n      <td>-0.561909</td>\n      <td>-0.671166</td>\n      <td>-0.598508</td>\n      <td>-0.710398</td>\n      <td>-0.771445</td>\n      <td>-0.645483</td>\n      <td>-0.721480</td>\n    </tr>\n    <tr>\n      <th>114</th>\n      <td>Lesotho</td>\n      <td>0.086545</td>\n      <td>0.063530</td>\n      <td>0.040516</td>\n      <td>0.018389</td>\n      <td>-0.003739</td>\n      <td>-0.048459</td>\n      <td>-0.093180</td>\n      <td>-0.170642</td>\n      <td>-0.098918</td>\n      <td>...</td>\n      <td>-0.068847</td>\n      <td>0.049708</td>\n      <td>0.155916</td>\n      <td>0.168630</td>\n      <td>0.151359</td>\n      <td>0.121272</td>\n      <td>0.275663</td>\n      <td>0.190628</td>\n      <td>0.062672</td>\n      <td>-0.022431</td>\n    </tr>\n    <tr>\n      <th>120</th>\n      <td>Morocco</td>\n      <td>-0.106927</td>\n      <td>0.001961</td>\n      <td>0.110848</td>\n      <td>0.000558</td>\n      <td>-0.109731</td>\n      <td>-0.148661</td>\n      <td>-0.187592</td>\n      <td>-0.260044</td>\n      <td>-0.143284</td>\n      <td>...</td>\n      <td>-0.344908</td>\n      <td>-0.382436</td>\n      <td>-0.325605</td>\n      <td>-0.204956</td>\n      <td>-0.400792</td>\n      <td>-0.436805</td>\n      <td>-0.370977</td>\n      <td>-0.265618</td>\n      <td>-0.220277</td>\n      <td>-0.129613</td>\n    </tr>\n    <tr>\n      <th>123</th>\n      <td>Madagascar</td>\n      <td>-0.371094</td>\n      <td>-0.582359</td>\n      <td>-0.793624</td>\n      <td>-0.622149</td>\n      <td>-0.450673</td>\n      <td>-0.317712</td>\n      <td>-0.184750</td>\n      <td>-0.196303</td>\n      <td>-0.280112</td>\n      <td>...</td>\n      <td>-0.190226</td>\n      <td>-0.266192</td>\n      <td>-0.339067</td>\n      <td>-0.428796</td>\n      <td>-0.479314</td>\n      <td>-0.665142</td>\n      <td>-0.753784</td>\n      <td>-0.840402</td>\n      <td>-0.851395</td>\n      <td>-0.907157</td>\n    </tr>\n    <tr>\n      <th>128</th>\n      <td>Mali</td>\n      <td>-0.782562</td>\n      <td>-0.814556</td>\n      <td>-0.846549</td>\n      <td>-0.843245</td>\n      <td>-0.839941</td>\n      <td>-0.762460</td>\n      <td>-0.684980</td>\n      <td>-0.673848</td>\n      <td>-0.591962</td>\n      <td>...</td>\n      <td>-0.425326</td>\n      <td>-0.529069</td>\n      <td>-0.673908</td>\n      <td>-0.678084</td>\n      <td>-0.638577</td>\n      <td>-0.825347</td>\n      <td>-0.785934</td>\n      <td>-0.745376</td>\n      <td>-0.682902</td>\n      <td>-0.654667</td>\n    </tr>\n    <tr>\n      <th>133</th>\n      <td>Mozambique</td>\n      <td>-0.424003</td>\n      <td>-0.428355</td>\n      <td>-0.432706</td>\n      <td>-0.431886</td>\n      <td>-0.431065</td>\n      <td>-0.470874</td>\n      <td>-0.510683</td>\n      <td>-0.597182</td>\n      <td>-0.602969</td>\n      <td>...</td>\n      <td>-0.515408</td>\n      <td>-0.492021</td>\n      <td>-0.437340</td>\n      <td>-0.446858</td>\n      <td>-0.491051</td>\n      <td>-0.568374</td>\n      <td>-0.603355</td>\n      <td>-0.672245</td>\n      <td>-0.748930</td>\n      <td>-0.874863</td>\n    </tr>\n    <tr>\n      <th>134</th>\n      <td>Mauritania</td>\n      <td>-0.555694</td>\n      <td>-0.511940</td>\n      <td>-0.468185</td>\n      <td>-0.460961</td>\n      <td>-0.453737</td>\n      <td>-0.239517</td>\n      <td>-0.025296</td>\n      <td>-0.031115</td>\n      <td>-0.526517</td>\n      <td>...</td>\n      <td>-0.578711</td>\n      <td>-0.787821</td>\n      <td>-0.613362</td>\n      <td>-0.715553</td>\n      <td>-0.628108</td>\n      <td>-0.782541</td>\n      <td>-0.833449</td>\n      <td>-0.927552</td>\n      <td>-0.923429</td>\n      <td>-0.739099</td>\n    </tr>\n    <tr>\n      <th>136</th>\n      <td>Mauritius</td>\n      <td>0.034662</td>\n      <td>0.187866</td>\n      <td>0.341070</td>\n      <td>0.362422</td>\n      <td>0.383774</td>\n      <td>0.421196</td>\n      <td>0.458618</td>\n      <td>0.300812</td>\n      <td>0.254528</td>\n      <td>...</td>\n      <td>0.438277</td>\n      <td>0.515310</td>\n      <td>0.539207</td>\n      <td>0.559693</td>\n      <td>0.536906</td>\n      <td>0.303348</td>\n      <td>0.292693</td>\n      <td>0.351498</td>\n      <td>0.294224</td>\n      <td>0.203452</td>\n    </tr>\n    <tr>\n      <th>137</th>\n      <td>Malawi</td>\n      <td>-0.316063</td>\n      <td>-0.284988</td>\n      <td>-0.253912</td>\n      <td>-0.262898</td>\n      <td>-0.271884</td>\n      <td>-0.615032</td>\n      <td>-0.958181</td>\n      <td>-0.731258</td>\n      <td>-0.768121</td>\n      <td>...</td>\n      <td>-0.514421</td>\n      <td>-0.445656</td>\n      <td>-0.404617</td>\n      <td>-0.487303</td>\n      <td>-0.416911</td>\n      <td>-0.471657</td>\n      <td>-0.607234</td>\n      <td>-0.751119</td>\n      <td>-0.766652</td>\n      <td>-0.756548</td>\n    </tr>\n    <tr>\n      <th>139</th>\n      <td>Namibia</td>\n      <td>0.808773</td>\n      <td>0.750168</td>\n      <td>0.691563</td>\n      <td>0.634427</td>\n      <td>0.577291</td>\n      <td>0.345678</td>\n      <td>0.114066</td>\n      <td>0.237493</td>\n      <td>0.158624</td>\n      <td>...</td>\n      <td>0.319512</td>\n      <td>0.607508</td>\n      <td>0.295011</td>\n      <td>0.337603</td>\n      <td>0.306369</td>\n      <td>0.340832</td>\n      <td>0.326551</td>\n      <td>0.288648</td>\n      <td>0.319539</td>\n      <td>0.332901</td>\n    </tr>\n    <tr>\n      <th>140</th>\n      <td>Niger</td>\n      <td>-0.865590</td>\n      <td>-0.921160</td>\n      <td>-0.976730</td>\n      <td>-0.929449</td>\n      <td>-0.882167</td>\n      <td>-0.938380</td>\n      <td>-0.994594</td>\n      <td>-0.926455</td>\n      <td>-0.824222</td>\n      <td>...</td>\n      <td>-0.751895</td>\n      <td>-0.720100</td>\n      <td>-0.610281</td>\n      <td>-0.661272</td>\n      <td>-0.639699</td>\n      <td>-0.641733</td>\n      <td>-0.610908</td>\n      <td>-0.686833</td>\n      <td>-0.654293</td>\n      <td>-0.644074</td>\n    </tr>\n    <tr>\n      <th>141</th>\n      <td>Nigeria</td>\n      <td>-1.189009</td>\n      <td>-1.173380</td>\n      <td>-1.157752</td>\n      <td>-1.188217</td>\n      <td>-1.218683</td>\n      <td>-1.324957</td>\n      <td>-1.431231</td>\n      <td>-1.362079</td>\n      <td>-1.341822</td>\n      <td>...</td>\n      <td>-1.053003</td>\n      <td>-0.891883</td>\n      <td>-1.031731</td>\n      <td>-1.049202</td>\n      <td>-1.172961</td>\n      <td>-1.169031</td>\n      <td>-1.221034</td>\n      <td>-1.274742</td>\n      <td>-1.079542</td>\n      <td>-1.024854</td>\n    </tr>\n    <tr>\n      <th>165</th>\n      <td>Rwanda</td>\n      <td>-0.745140</td>\n      <td>-0.732348</td>\n      <td>-0.719555</td>\n      <td>-0.661195</td>\n      <td>-0.602835</td>\n      <td>-0.510693</td>\n      <td>-0.418551</td>\n      <td>-0.466384</td>\n      <td>-0.440629</td>\n      <td>...</td>\n      <td>-0.001274</td>\n      <td>0.096269</td>\n      <td>0.089928</td>\n      <td>0.353755</td>\n      <td>0.357639</td>\n      <td>0.557709</td>\n      <td>0.627993</td>\n      <td>0.762648</td>\n      <td>0.635994</td>\n      <td>0.644180</td>\n    </tr>\n    <tr>\n      <th>169</th>\n      <td>Senegal</td>\n      <td>-0.142715</td>\n      <td>-0.146252</td>\n      <td>-0.149790</td>\n      <td>-0.112915</td>\n      <td>-0.076041</td>\n      <td>0.050219</td>\n      <td>0.176479</td>\n      <td>-0.157335</td>\n      <td>-0.050152</td>\n      <td>...</td>\n      <td>-0.507815</td>\n      <td>-0.497831</td>\n      <td>-0.486339</td>\n      <td>-0.638164</td>\n      <td>-0.496298</td>\n      <td>-0.256706</td>\n      <td>-0.186745</td>\n      <td>0.055751</td>\n      <td>0.059148</td>\n      <td>0.000091</td>\n    </tr>\n    <tr>\n      <th>172</th>\n      <td>Sierra Leone</td>\n      <td>-0.756474</td>\n      <td>-0.780965</td>\n      <td>-0.805456</td>\n      <td>-0.847005</td>\n      <td>-0.888554</td>\n      <td>-0.861488</td>\n      <td>-0.834423</td>\n      <td>-0.907941</td>\n      <td>-0.907723</td>\n      <td>...</td>\n      <td>-0.911957</td>\n      <td>-0.968692</td>\n      <td>-0.931149</td>\n      <td>-0.774881</td>\n      <td>-0.842972</td>\n      <td>-0.951076</td>\n      <td>-0.905651</td>\n      <td>-0.940661</td>\n      <td>-0.799788</td>\n      <td>-0.818991</td>\n    </tr>\n    <tr>\n      <th>175</th>\n      <td>Somalia</td>\n      <td>-1.273832</td>\n      <td>-1.338585</td>\n      <td>-1.403338</td>\n      <td>-1.486024</td>\n      <td>-1.568710</td>\n      <td>-1.304746</td>\n      <td>-1.040783</td>\n      <td>-1.565278</td>\n      <td>-1.787207</td>\n      <td>...</td>\n      <td>-1.759850</td>\n      <td>-1.868714</td>\n      <td>-1.715286</td>\n      <td>-1.739729</td>\n      <td>-1.706140</td>\n      <td>-1.591467</td>\n      <td>-1.580440</td>\n      <td>-1.659837</td>\n      <td>-1.615454</td>\n      <td>-1.701097</td>\n    </tr>\n    <tr>\n      <th>182</th>\n      <td>Seychelles</td>\n      <td>0.545952</td>\n      <td>0.435513</td>\n      <td>0.325074</td>\n      <td>0.389546</td>\n      <td>0.454018</td>\n      <td>0.397352</td>\n      <td>0.340686</td>\n      <td>0.406846</td>\n      <td>0.273562</td>\n      <td>...</td>\n      <td>0.189379</td>\n      <td>0.386921</td>\n      <td>0.427948</td>\n      <td>0.448977</td>\n      <td>0.422859</td>\n      <td>0.417705</td>\n      <td>0.442021</td>\n      <td>0.438142</td>\n      <td>0.883954</td>\n      <td>0.776205</td>\n    </tr>\n    <tr>\n      <th>184</th>\n      <td>Chad</td>\n      <td>-1.380424</td>\n      <td>-1.318975</td>\n      <td>-1.257526</td>\n      <td>-1.182002</td>\n      <td>-1.106478</td>\n      <td>-1.127033</td>\n      <td>-1.147589</td>\n      <td>-1.374360</td>\n      <td>-1.380428</td>\n      <td>...</td>\n      <td>-1.383073</td>\n      <td>-1.522943</td>\n      <td>-1.402205</td>\n      <td>-1.381435</td>\n      <td>-1.328809</td>\n      <td>-1.313592</td>\n      <td>-1.351030</td>\n      <td>-1.315730</td>\n      <td>-1.364195</td>\n      <td>-1.487701</td>\n    </tr>\n    <tr>\n      <th>185</th>\n      <td>Togo</td>\n      <td>-0.842621</td>\n      <td>-0.819270</td>\n      <td>-0.795920</td>\n      <td>-0.778112</td>\n      <td>-0.760304</td>\n      <td>-0.786482</td>\n      <td>-0.812661</td>\n      <td>-0.915349</td>\n      <td>-0.959249</td>\n      <td>...</td>\n      <td>-0.990044</td>\n      <td>-0.973131</td>\n      <td>-1.018094</td>\n      <td>-0.959922</td>\n      <td>-1.009948</td>\n      <td>-1.000161</td>\n      <td>-1.026671</td>\n      <td>-0.893284</td>\n      <td>-0.723914</td>\n      <td>-0.677262</td>\n    </tr>\n    <tr>\n      <th>192</th>\n      <td>Tunisia</td>\n      <td>-0.533678</td>\n      <td>-0.385844</td>\n      <td>-0.238009</td>\n      <td>-0.234615</td>\n      <td>-0.231220</td>\n      <td>0.069361</td>\n      <td>0.369942</td>\n      <td>0.159738</td>\n      <td>0.082865</td>\n      <td>...</td>\n      <td>-0.249607</td>\n      <td>-0.303903</td>\n      <td>-0.220963</td>\n      <td>-0.258856</td>\n      <td>-0.056725</td>\n      <td>-0.059842</td>\n      <td>-0.066936</td>\n      <td>-0.036799</td>\n      <td>-0.068709</td>\n      <td>-0.134743</td>\n    </tr>\n    <tr>\n      <th>196</th>\n      <td>Tanzania</td>\n      <td>-0.702762</td>\n      <td>-0.744054</td>\n      <td>-0.785345</td>\n      <td>-0.795252</td>\n      <td>-0.805159</td>\n      <td>-0.805013</td>\n      <td>-0.804867</td>\n      <td>-0.678292</td>\n      <td>-0.560504</td>\n      <td>...</td>\n      <td>-0.337416</td>\n      <td>-0.417031</td>\n      <td>-0.445453</td>\n      <td>-0.535370</td>\n      <td>-0.591716</td>\n      <td>-0.756925</td>\n      <td>-0.773974</td>\n      <td>-0.754442</td>\n      <td>-0.687875</td>\n      <td>-0.506779</td>\n    </tr>\n    <tr>\n      <th>197</th>\n      <td>Uganda</td>\n      <td>-0.723757</td>\n      <td>-0.806825</td>\n      <td>-0.889892</td>\n      <td>-0.881866</td>\n      <td>-0.873840</td>\n      <td>-0.891118</td>\n      <td>-0.908395</td>\n      <td>-0.813956</td>\n      <td>-0.779436</td>\n      <td>...</td>\n      <td>-0.821338</td>\n      <td>-0.832622</td>\n      <td>-0.901867</td>\n      <td>-0.917804</td>\n      <td>-0.920531</td>\n      <td>-0.988394</td>\n      <td>-1.042449</td>\n      <td>-1.085059</td>\n      <td>-1.051799</td>\n      <td>-1.056590</td>\n    </tr>\n    <tr>\n      <th>211</th>\n      <td>South Africa</td>\n      <td>0.732927</td>\n      <td>0.703686</td>\n      <td>0.674444</td>\n      <td>0.649890</td>\n      <td>0.625336</td>\n      <td>0.489926</td>\n      <td>0.354517</td>\n      <td>0.354515</td>\n      <td>0.464510</td>\n      <td>...</td>\n      <td>0.248784</td>\n      <td>0.211264</td>\n      <td>0.182197</td>\n      <td>0.131517</td>\n      <td>0.061768</td>\n      <td>-0.115690</td>\n      <td>-0.069945</td>\n      <td>-0.061452</td>\n      <td>0.025271</td>\n      <td>0.118479</td>\n    </tr>\n    <tr>\n      <th>212</th>\n      <td>Congo, Dem. Rep.</td>\n      <td>-1.647852</td>\n      <td>-1.685389</td>\n      <td>-1.722926</td>\n      <td>-1.635962</td>\n      <td>-1.548999</td>\n      <td>-1.420677</td>\n      <td>-1.292354</td>\n      <td>-1.404200</td>\n      <td>-1.454288</td>\n      <td>...</td>\n      <td>-1.357004</td>\n      <td>-1.244319</td>\n      <td>-1.389180</td>\n      <td>-1.438318</td>\n      <td>-1.427505</td>\n      <td>-1.312143</td>\n      <td>-1.317955</td>\n      <td>-1.301038</td>\n      <td>-1.285472</td>\n      <td>-1.337154</td>\n    </tr>\n    <tr>\n      <th>213</th>\n      <td>Zambia</td>\n      <td>-0.840641</td>\n      <td>-0.806893</td>\n      <td>-0.773145</td>\n      <td>-0.744462</td>\n      <td>-0.715778</td>\n      <td>-0.723276</td>\n      <td>-0.730775</td>\n      <td>-0.596900</td>\n      <td>-0.591629</td>\n      <td>...</td>\n      <td>-0.405011</td>\n      <td>-0.391012</td>\n      <td>-0.461074</td>\n      <td>-0.506211</td>\n      <td>-0.396295</td>\n      <td>-0.284372</td>\n      <td>-0.306661</td>\n      <td>-0.342187</td>\n      <td>-0.341229</td>\n      <td>-0.401749</td>\n    </tr>\n    <tr>\n      <th>214</th>\n      <td>Zimbabwe</td>\n      <td>-0.278847</td>\n      <td>-0.379548</td>\n      <td>-0.480248</td>\n      <td>-0.731195</td>\n      <td>-0.982141</td>\n      <td>-1.105291</td>\n      <td>-1.228440</td>\n      <td>-1.245055</td>\n      <td>-1.333829</td>\n      <td>...</td>\n      <td>-1.401328</td>\n      <td>-1.355687</td>\n      <td>-1.355277</td>\n      <td>-1.369261</td>\n      <td>-1.401741</td>\n      <td>-1.368007</td>\n      <td>-1.404648</td>\n      <td>-1.391339</td>\n      <td>-1.310675</td>\n      <td>-1.259222</td>\n    </tr>\n  </tbody>\n</table>\n<p>47 rows × 22 columns</p>\n</div>"
     },
     "execution_count": 16,
     "metadata": {},
     "output_type": "execute_result"
    }
   ],
   "source": [
    "df_CC_Africa"
   ]
  },
  {
   "cell_type": "code",
   "execution_count": 17,
   "metadata": {
    "pycharm": {
     "name": "#%%\n"
    },
    "ExecuteTime": {
     "end_time": "2023-09-28T08:28:08.607592489Z",
     "start_time": "2023-09-28T08:28:08.555935190Z"
    }
   },
   "outputs": [],
   "source": [
    "# income inequality data\n",
    "df_IE = pd.read_csv(r'/home/felix/Dropbox/Research/projects/causal-fda/data/gini.csv')\n",
    "df_IE.replace(\"Cote d'Ivoire\", \"Côte d'Ivoire\", inplace=True)\n",
    "\n",
    "df_IE_Africa = df_IE[df_IE['Country'].isin(Africa_countries)]\n",
    "df_IE_Africa_time = df_IE_Africa.loc[:, df_IE_Africa.columns != 'Country']\n",
    "df_IE_Africa_time_1 = df_IE_Africa_time.replace('..', np.nan).astype(float).interpolate(axis=1)\n",
    "df_IE_Africa_time_2 = df_IE_Africa_time_1.fillna(df_IE_Africa_time_1.mean(axis=0))\n",
    "\n",
    "df_IE_Africa_int = pd.concat([df_IE_Africa.loc[:, df_IE_Africa.columns=='Country'], df_IE_Africa_time_2], axis=1)"
   ]
  },
  {
   "cell_type": "code",
   "execution_count": 18,
   "metadata": {
    "pycharm": {
     "name": "#%%\n"
    },
    "scrolled": true,
    "ExecuteTime": {
     "end_time": "2023-09-28T08:28:09.860290211Z",
     "start_time": "2023-09-28T08:28:09.807344425Z"
    }
   },
   "outputs": [
    {
     "data": {
      "text/plain": "                      Country   1996       1997       1998       1999  \\\n4                     Algeria  47.44  48.248452  45.693767  43.361004   \n7                      Angola  47.44  48.248452  45.693767  43.361004   \n23                      Benin  47.44  48.248452  45.693767  43.361004   \n28                   Botswana  47.44  48.248452  45.693767  43.361004   \n33               Burkina Faso  47.44  48.248452  49.900000  48.580000   \n34                    Burundi  47.44  48.248452  42.300000  41.187500   \n37                   Cameroon  44.40  43.940000  43.480000  43.020000   \n41   Central African Republic  47.44  48.248452  45.693767  43.361004   \n43                       Chad  47.44  48.248452  45.693767  43.361004   \n48                    Comoros  47.44  48.248452  45.693767  43.361004   \n49           Congo, Dem. Rep.  47.44  48.248452  45.693767  43.361004   \n50                Congo, Rep.  47.44  48.248452  45.693767  43.361004   \n52              Côte d'Ivoire  47.44  48.248452  39.000000  39.575000   \n59                   Djibouti  47.44  48.248452  45.693767  43.361004   \n67           Egypt, Arab Rep.  47.44  48.248452  45.693767  32.800000   \n69          Equatorial Guinea  47.44  48.248452  45.693767  43.361004   \n70                    Eritrea  47.44  48.248452  45.693767  43.361004   \n73                   Ethiopia  47.44  48.248452  45.693767  30.000000   \n85                      Gabon  47.44  48.248452  45.693767  43.361004   \n86                Gambia, The  47.44  48.248452  48.500000  48.260000   \n89                      Ghana  47.44  48.248452  40.100000  40.485714   \n97              Guinea-Bissau  47.44  48.248452  45.693767  43.361004   \n123                     Kenya  47.44  45.000000  45.187500  45.375000   \n138                   Lesotho  47.44  48.248452  45.693767  43.361004   \n139                   Liberia  47.44  48.248452  45.693767  43.361004   \n148                Madagascar  47.44  39.500000  39.050000  38.600000   \n149                    Malawi  47.44  65.800000  62.100000  58.400000   \n152                      Mali  47.44  48.248452  45.693767  43.361004   \n155                Mauritania  47.44  48.248452  45.693767  43.361004   \n156                 Mauritius  47.44  48.248452  45.693767  43.361004   \n167                   Morocco  47.44  48.248452  39.400000  40.000000   \n168                Mozambique  53.60  52.500000  51.400000  50.300000   \n170                   Namibia  47.44  48.248452  45.693767  43.361004   \n177                     Niger  47.44  48.248452  45.693767  43.361004   \n178                   Nigeria  51.90  50.214286  48.528571  46.842857   \n203                    Rwanda  47.44  48.248452  45.693767  43.361004   \n208                   Senegal  47.44  48.248452  45.693767  43.361004   \n210                Seychelles  47.44  48.248452  45.693767  43.361004   \n211              Sierra Leone  47.44  48.248452  45.693767  43.361004   \n218                   Somalia  47.44  48.248452  45.693767  43.361004   \n219              South Africa  47.44  48.248452  45.693767  43.361004   \n238                  Tanzania  47.44  48.248452  45.693767  43.361004   \n241                      Togo  47.44  48.248452  45.693767  43.361004   \n244                   Tunisia  47.44  48.248452  45.693767  43.361004   \n249                    Uganda  39.00  40.333333  41.666667  43.000000   \n264                    Zambia  48.30  48.700000  49.100000  47.350000   \n265                  Zimbabwe  47.44  48.248452  45.693767  43.361004   \n\n          2000       2001       2002       2003       2004  ...       2007  \\\n4    43.838609  43.386895  43.661543  43.828650  44.120434  ...  43.275027   \n7    52.000000  50.837500  49.675000  48.512500  47.350000  ...  43.862500   \n23   43.838609  43.386895  43.661543  38.600000  39.200000  ...  41.000000   \n28   43.838609  43.386895  64.700000  64.100000  63.500000  ...  61.700000   \n33   47.260000  45.940000  44.620000  43.300000  42.716667  ...  40.966667   \n34   40.075000  38.962500  37.850000  36.737500  35.625000  ...  34.142857   \n37   42.560000  42.100000  42.216667  42.333333  42.450000  ...  42.800000   \n41   43.838609  43.386895  43.661543  43.828650  44.120434  ...  43.275027   \n43   43.838609  43.386895  43.661543  39.800000  40.237500  ...  41.550000   \n48   43.838609  43.386895  43.661543  43.828650  55.900000  ...  52.720000   \n49   43.838609  43.386895  43.661543  43.828650  42.200000  ...  42.162500   \n50   43.838609  43.386895  43.661543  43.828650  44.120434  ...  47.833333   \n52   40.150000  40.725000  41.300000  41.616667  41.933333  ...  42.883333   \n59   43.838609  43.386895  40.000000  40.510000  41.020000  ...  42.550000   \n67   32.600000  32.400000  32.200000  32.000000  31.800000  ...  31.275000   \n69   43.838609  43.386895  43.661543  43.828650  44.120434  ...  43.275027   \n70   43.838609  43.386895  43.661543  43.828650  44.120434  ...  43.275027   \n73   29.960000  29.920000  29.880000  29.840000  29.800000  ...  31.500000   \n85   43.838609  43.386895  43.661543  43.828650  44.120434  ...  42.200000   \n86   48.020000  47.780000  47.540000  47.300000  46.771429  ...  45.185714   \n89   40.871429  41.257143  41.642857  42.028571  42.414286  ...  42.685714   \n97   43.838609  43.386895  35.600000  37.487500  39.375000  ...  45.037500   \n123  45.562500  45.750000  45.937500  46.125000  46.312500  ...  45.360000   \n138  43.838609  43.386895  51.600000  51.600000  51.600000  ...  51.600000   \n139  43.838609  43.386895  43.661543  43.828650  44.120434  ...  36.500000   \n148  43.000000  47.400000  45.525000  43.650000  41.775000  ...  40.900000   \n149  54.700000  51.000000  47.300000  43.600000  39.900000  ...  42.700000   \n152  43.838609  39.900000  39.700000  39.500000  39.300000  ...  36.933333   \n155  39.000000  39.300000  39.600000  39.900000  40.200000  ...  36.825000   \n156  43.838609  43.386895  43.661543  43.828650  44.120434  ...  36.166667   \n167  40.600000  40.616667  40.633333  40.650000  40.666667  ...  40.528571   \n168  49.200000  48.100000  47.000000  46.766667  46.533333  ...  45.833333   \n170  43.838609  43.386895  43.661543  63.300000  62.916667  ...  61.766667   \n177  43.838609  43.386895  43.661543  43.828650  44.120434  ...  37.300000   \n178  45.157143  43.471429  41.785714  40.100000  39.471429  ...  37.585714   \n203  48.500000  49.200000  49.900000  50.600000  51.300000  ...  50.080000   \n208  43.838609  41.200000  40.700000  40.200000  39.700000  ...  39.566667   \n210  43.838609  43.386895  43.661543  43.828650  44.120434  ...  43.275027   \n211  43.838609  43.386895  43.661543  40.200000  39.425000  ...  37.100000   \n218  43.838609  43.386895  43.661543  43.828650  44.120434  ...  43.275027   \n219  57.800000  59.200000  60.600000  62.000000  63.400000  ...  63.600000   \n238  37.300000  37.728571  38.157143  38.585714  39.014286  ...  40.300000   \n241  43.838609  43.386895  43.661543  43.828650  44.120434  ...  42.960000   \n244  40.800000  40.180000  39.560000  38.940000  38.320000  ...  36.940000   \n249  43.733333  44.466667  45.200000  44.433333  43.666667  ...  43.550000   \n264  45.600000  43.850000  42.100000  48.200000  54.300000  ...  54.850000   \n265  43.838609  43.386895  43.661543  43.828650  44.120434  ...  43.275027   \n\n          2008       2009       2010       2011       2012       2013  \\\n4    43.462715  43.417346  43.365270  27.600000  27.600000  27.600000   \n7    42.700000  42.700000  42.700000  42.700000  42.700000  42.700000   \n23   41.600000  42.200000  42.800000  43.400000  44.500000  45.600000   \n28   61.100000  60.500000  59.300000  58.100000  56.900000  55.700000   \n33   40.383333  39.800000  38.900000  38.000000  37.100000  36.200000   \n34   34.885714  35.628571  36.371429  37.114286  37.857143  38.600000   \n37   43.342857  43.885714  44.428571  44.971429  45.514286  46.057143   \n41   56.200000  56.200000  56.200000  56.200000  56.200000  56.200000   \n43   41.987500  42.425000  42.862500  43.300000  43.300000  43.300000   \n48   51.660000  50.600000  49.540000  48.480000  47.420000  46.360000   \n49   42.150000  42.137500  42.125000  42.112500  42.100000  42.100000   \n50   48.100000  48.366667  48.633333  48.900000  48.900000  48.900000   \n52   43.200000  42.957143  42.714286  42.471429  42.228571  41.985714   \n59   43.060000  43.570000  44.080000  44.590000  45.100000  44.100000   \n67   31.100000  30.650000  30.200000  29.250000  28.300000  29.466667   \n69   43.462715  43.417346  43.365270  42.834587  42.718821  42.746953   \n70   43.462715  43.417346  43.365270  42.834587  42.718821  42.746953   \n73   32.066667  32.633333  33.200000  33.560000  33.920000  34.280000   \n85   42.200000  42.200000  42.200000  42.200000  42.200000  42.200000   \n86   44.657143  44.128571  43.600000  42.060000  40.520000  38.980000   \n89   42.628571  42.571429  42.514286  42.457143  42.400000  42.675000   \n97   46.925000  48.812500  50.700000  50.700000  50.700000  50.700000   \n123  44.790000  44.220000  43.650000  43.080000  42.510000  41.940000   \n138  51.600000  51.600000  51.600000  51.600000  51.600000  51.600000   \n139  36.028571  35.557143  35.085714  34.614286  34.142857  33.671429   \n148  41.400000  41.900000  42.400000  42.500000  42.600000  42.600000   \n149  43.633333  44.566667  45.500000  45.366667  45.233333  45.100000   \n152  34.966667  33.000000  33.000000  33.000000  33.000000  33.000000   \n155  35.700000  35.183333  34.666667  34.150000  33.633333  33.116667   \n156  36.633333  37.100000  37.566667  38.033333  38.500000  38.500000   \n167  40.357143  40.185714  40.014286  39.842857  39.671429  39.500000   \n168  45.600000  47.000000  48.400000  49.800000  51.200000  52.600000   \n170  61.383333  61.000000  60.683333  60.366667  60.050000  59.733333   \n177  35.850000  34.400000  32.950000  31.500000  32.433333  33.366667   \n178  36.957143  36.328571  35.700000  35.600000  35.500000  35.633333   \n203  49.120000  48.160000  47.200000  46.500000  45.800000  45.100000   \n208  39.750000  39.933333  40.116667  40.300000  40.300000  40.300000   \n210  43.462715  43.417346  43.365270  42.834587  42.718821  46.800000   \n211  36.325000  35.550000  34.775000  34.000000  34.000000  34.000000   \n218  43.462715  43.417346  43.365270  42.834587  42.718821  42.746953   \n219  63.000000  63.200000  63.400000  63.300000  63.200000  63.100000   \n238  39.675000  39.050000  38.425000  37.800000  37.800000  37.800000   \n241  43.720000  44.480000  45.240000  46.000000  45.275000  44.550000   \n244  36.560000  36.180000  35.800000  35.200000  34.600000  34.000000   \n249  43.875000  44.200000  43.133333  42.066667  41.000000  41.450000   \n264  55.100000  55.350000  55.600000  55.900000  56.200000  56.500000   \n265  43.462715  43.417346  43.365270  43.200000  43.200000  43.200000   \n\n          2014       2015       2016  \n4    27.600000  27.600000  27.600000  \n7    42.700000  42.700000  42.700000  \n23   46.700000  47.800000  47.800000  \n28   54.500000  53.300000  53.300000  \n33   35.300000  35.300000  35.300000  \n34   38.600000  38.600000  38.600000  \n37   46.600000  46.600000  46.600000  \n41   56.200000  56.200000  56.200000  \n43   43.300000  43.300000  43.300000  \n48   45.300000  45.300000  45.300000  \n49   42.100000  42.100000  42.100000  \n50   48.900000  48.900000  48.900000  \n52   41.742857  41.500000  41.500000  \n59   44.100000  44.100000  44.100000  \n67   30.633333  31.800000  31.800000  \n69   42.697376  42.675568  42.702273  \n70   42.697376  42.675568  42.702273  \n73   34.640000  35.000000  35.000000  \n85   42.200000  42.200000  42.200000  \n86   37.440000  35.900000  35.900000  \n89   42.950000  43.225000  43.500000  \n97   50.700000  50.700000  50.700000  \n123  41.370000  40.800000  40.800000  \n138  51.600000  51.600000  51.600000  \n139  33.200000  34.250000  35.300000  \n148  42.600000  42.600000  42.600000  \n149  44.966667  44.833333  44.700000  \n152  33.000000  33.000000  33.000000  \n155  32.600000  32.600000  32.600000  \n156  38.500000  38.500000  38.500000  \n167  39.500000  39.500000  39.500000  \n168  54.000000  54.000000  54.000000  \n170  59.416667  59.100000  59.100000  \n177  34.300000  34.300000  34.300000  \n178  35.766667  35.900000  35.900000  \n203  44.633333  44.166667  43.700000  \n208  40.300000  40.300000  40.300000  \n210  46.800000  46.800000  46.800000  \n211  34.000000  34.000000  34.000000  \n218  42.697376  42.675568  42.702273  \n219  63.000000  63.000000  63.000000  \n238  37.800000  37.800000  37.800000  \n241  43.825000  43.100000  43.100000  \n244  33.400000  32.800000  32.800000  \n249  41.900000  42.350000  42.800000  \n264  56.800000  57.100000  57.100000  \n265  43.200000  43.200000  43.200000  \n\n[47 rows x 22 columns]",
      "text/html": "<div>\n<style scoped>\n    .dataframe tbody tr th:only-of-type {\n        vertical-align: middle;\n    }\n\n    .dataframe tbody tr th {\n        vertical-align: top;\n    }\n\n    .dataframe thead th {\n        text-align: right;\n    }\n</style>\n<table border=\"1\" class=\"dataframe\">\n  <thead>\n    <tr style=\"text-align: right;\">\n      <th></th>\n      <th>Country</th>\n      <th>1996</th>\n      <th>1997</th>\n      <th>1998</th>\n      <th>1999</th>\n      <th>2000</th>\n      <th>2001</th>\n      <th>2002</th>\n      <th>2003</th>\n      <th>2004</th>\n      <th>...</th>\n      <th>2007</th>\n      <th>2008</th>\n      <th>2009</th>\n      <th>2010</th>\n      <th>2011</th>\n      <th>2012</th>\n      <th>2013</th>\n      <th>2014</th>\n      <th>2015</th>\n      <th>2016</th>\n    </tr>\n  </thead>\n  <tbody>\n    <tr>\n      <th>4</th>\n      <td>Algeria</td>\n      <td>47.44</td>\n      <td>48.248452</td>\n      <td>45.693767</td>\n      <td>43.361004</td>\n      <td>43.838609</td>\n      <td>43.386895</td>\n      <td>43.661543</td>\n      <td>43.828650</td>\n      <td>44.120434</td>\n      <td>...</td>\n      <td>43.275027</td>\n      <td>43.462715</td>\n      <td>43.417346</td>\n      <td>43.365270</td>\n      <td>27.600000</td>\n      <td>27.600000</td>\n      <td>27.600000</td>\n      <td>27.600000</td>\n      <td>27.600000</td>\n      <td>27.600000</td>\n    </tr>\n    <tr>\n      <th>7</th>\n      <td>Angola</td>\n      <td>47.44</td>\n      <td>48.248452</td>\n      <td>45.693767</td>\n      <td>43.361004</td>\n      <td>52.000000</td>\n      <td>50.837500</td>\n      <td>49.675000</td>\n      <td>48.512500</td>\n      <td>47.350000</td>\n      <td>...</td>\n      <td>43.862500</td>\n      <td>42.700000</td>\n      <td>42.700000</td>\n      <td>42.700000</td>\n      <td>42.700000</td>\n      <td>42.700000</td>\n      <td>42.700000</td>\n      <td>42.700000</td>\n      <td>42.700000</td>\n      <td>42.700000</td>\n    </tr>\n    <tr>\n      <th>23</th>\n      <td>Benin</td>\n      <td>47.44</td>\n      <td>48.248452</td>\n      <td>45.693767</td>\n      <td>43.361004</td>\n      <td>43.838609</td>\n      <td>43.386895</td>\n      <td>43.661543</td>\n      <td>38.600000</td>\n      <td>39.200000</td>\n      <td>...</td>\n      <td>41.000000</td>\n      <td>41.600000</td>\n      <td>42.200000</td>\n      <td>42.800000</td>\n      <td>43.400000</td>\n      <td>44.500000</td>\n      <td>45.600000</td>\n      <td>46.700000</td>\n      <td>47.800000</td>\n      <td>47.800000</td>\n    </tr>\n    <tr>\n      <th>28</th>\n      <td>Botswana</td>\n      <td>47.44</td>\n      <td>48.248452</td>\n      <td>45.693767</td>\n      <td>43.361004</td>\n      <td>43.838609</td>\n      <td>43.386895</td>\n      <td>64.700000</td>\n      <td>64.100000</td>\n      <td>63.500000</td>\n      <td>...</td>\n      <td>61.700000</td>\n      <td>61.100000</td>\n      <td>60.500000</td>\n      <td>59.300000</td>\n      <td>58.100000</td>\n      <td>56.900000</td>\n      <td>55.700000</td>\n      <td>54.500000</td>\n      <td>53.300000</td>\n      <td>53.300000</td>\n    </tr>\n    <tr>\n      <th>33</th>\n      <td>Burkina Faso</td>\n      <td>47.44</td>\n      <td>48.248452</td>\n      <td>49.900000</td>\n      <td>48.580000</td>\n      <td>47.260000</td>\n      <td>45.940000</td>\n      <td>44.620000</td>\n      <td>43.300000</td>\n      <td>42.716667</td>\n      <td>...</td>\n      <td>40.966667</td>\n      <td>40.383333</td>\n      <td>39.800000</td>\n      <td>38.900000</td>\n      <td>38.000000</td>\n      <td>37.100000</td>\n      <td>36.200000</td>\n      <td>35.300000</td>\n      <td>35.300000</td>\n      <td>35.300000</td>\n    </tr>\n    <tr>\n      <th>34</th>\n      <td>Burundi</td>\n      <td>47.44</td>\n      <td>48.248452</td>\n      <td>42.300000</td>\n      <td>41.187500</td>\n      <td>40.075000</td>\n      <td>38.962500</td>\n      <td>37.850000</td>\n      <td>36.737500</td>\n      <td>35.625000</td>\n      <td>...</td>\n      <td>34.142857</td>\n      <td>34.885714</td>\n      <td>35.628571</td>\n      <td>36.371429</td>\n      <td>37.114286</td>\n      <td>37.857143</td>\n      <td>38.600000</td>\n      <td>38.600000</td>\n      <td>38.600000</td>\n      <td>38.600000</td>\n    </tr>\n    <tr>\n      <th>37</th>\n      <td>Cameroon</td>\n      <td>44.40</td>\n      <td>43.940000</td>\n      <td>43.480000</td>\n      <td>43.020000</td>\n      <td>42.560000</td>\n      <td>42.100000</td>\n      <td>42.216667</td>\n      <td>42.333333</td>\n      <td>42.450000</td>\n      <td>...</td>\n      <td>42.800000</td>\n      <td>43.342857</td>\n      <td>43.885714</td>\n      <td>44.428571</td>\n      <td>44.971429</td>\n      <td>45.514286</td>\n      <td>46.057143</td>\n      <td>46.600000</td>\n      <td>46.600000</td>\n      <td>46.600000</td>\n    </tr>\n    <tr>\n      <th>41</th>\n      <td>Central African Republic</td>\n      <td>47.44</td>\n      <td>48.248452</td>\n      <td>45.693767</td>\n      <td>43.361004</td>\n      <td>43.838609</td>\n      <td>43.386895</td>\n      <td>43.661543</td>\n      <td>43.828650</td>\n      <td>44.120434</td>\n      <td>...</td>\n      <td>43.275027</td>\n      <td>56.200000</td>\n      <td>56.200000</td>\n      <td>56.200000</td>\n      <td>56.200000</td>\n      <td>56.200000</td>\n      <td>56.200000</td>\n      <td>56.200000</td>\n      <td>56.200000</td>\n      <td>56.200000</td>\n    </tr>\n    <tr>\n      <th>43</th>\n      <td>Chad</td>\n      <td>47.44</td>\n      <td>48.248452</td>\n      <td>45.693767</td>\n      <td>43.361004</td>\n      <td>43.838609</td>\n      <td>43.386895</td>\n      <td>43.661543</td>\n      <td>39.800000</td>\n      <td>40.237500</td>\n      <td>...</td>\n      <td>41.550000</td>\n      <td>41.987500</td>\n      <td>42.425000</td>\n      <td>42.862500</td>\n      <td>43.300000</td>\n      <td>43.300000</td>\n      <td>43.300000</td>\n      <td>43.300000</td>\n      <td>43.300000</td>\n      <td>43.300000</td>\n    </tr>\n    <tr>\n      <th>48</th>\n      <td>Comoros</td>\n      <td>47.44</td>\n      <td>48.248452</td>\n      <td>45.693767</td>\n      <td>43.361004</td>\n      <td>43.838609</td>\n      <td>43.386895</td>\n      <td>43.661543</td>\n      <td>43.828650</td>\n      <td>55.900000</td>\n      <td>...</td>\n      <td>52.720000</td>\n      <td>51.660000</td>\n      <td>50.600000</td>\n      <td>49.540000</td>\n      <td>48.480000</td>\n      <td>47.420000</td>\n      <td>46.360000</td>\n      <td>45.300000</td>\n      <td>45.300000</td>\n      <td>45.300000</td>\n    </tr>\n    <tr>\n      <th>49</th>\n      <td>Congo, Dem. Rep.</td>\n      <td>47.44</td>\n      <td>48.248452</td>\n      <td>45.693767</td>\n      <td>43.361004</td>\n      <td>43.838609</td>\n      <td>43.386895</td>\n      <td>43.661543</td>\n      <td>43.828650</td>\n      <td>42.200000</td>\n      <td>...</td>\n      <td>42.162500</td>\n      <td>42.150000</td>\n      <td>42.137500</td>\n      <td>42.125000</td>\n      <td>42.112500</td>\n      <td>42.100000</td>\n      <td>42.100000</td>\n      <td>42.100000</td>\n      <td>42.100000</td>\n      <td>42.100000</td>\n    </tr>\n    <tr>\n      <th>50</th>\n      <td>Congo, Rep.</td>\n      <td>47.44</td>\n      <td>48.248452</td>\n      <td>45.693767</td>\n      <td>43.361004</td>\n      <td>43.838609</td>\n      <td>43.386895</td>\n      <td>43.661543</td>\n      <td>43.828650</td>\n      <td>44.120434</td>\n      <td>...</td>\n      <td>47.833333</td>\n      <td>48.100000</td>\n      <td>48.366667</td>\n      <td>48.633333</td>\n      <td>48.900000</td>\n      <td>48.900000</td>\n      <td>48.900000</td>\n      <td>48.900000</td>\n      <td>48.900000</td>\n      <td>48.900000</td>\n    </tr>\n    <tr>\n      <th>52</th>\n      <td>Côte d'Ivoire</td>\n      <td>47.44</td>\n      <td>48.248452</td>\n      <td>39.000000</td>\n      <td>39.575000</td>\n      <td>40.150000</td>\n      <td>40.725000</td>\n      <td>41.300000</td>\n      <td>41.616667</td>\n      <td>41.933333</td>\n      <td>...</td>\n      <td>42.883333</td>\n      <td>43.200000</td>\n      <td>42.957143</td>\n      <td>42.714286</td>\n      <td>42.471429</td>\n      <td>42.228571</td>\n      <td>41.985714</td>\n      <td>41.742857</td>\n      <td>41.500000</td>\n      <td>41.500000</td>\n    </tr>\n    <tr>\n      <th>59</th>\n      <td>Djibouti</td>\n      <td>47.44</td>\n      <td>48.248452</td>\n      <td>45.693767</td>\n      <td>43.361004</td>\n      <td>43.838609</td>\n      <td>43.386895</td>\n      <td>40.000000</td>\n      <td>40.510000</td>\n      <td>41.020000</td>\n      <td>...</td>\n      <td>42.550000</td>\n      <td>43.060000</td>\n      <td>43.570000</td>\n      <td>44.080000</td>\n      <td>44.590000</td>\n      <td>45.100000</td>\n      <td>44.100000</td>\n      <td>44.100000</td>\n      <td>44.100000</td>\n      <td>44.100000</td>\n    </tr>\n    <tr>\n      <th>67</th>\n      <td>Egypt, Arab Rep.</td>\n      <td>47.44</td>\n      <td>48.248452</td>\n      <td>45.693767</td>\n      <td>32.800000</td>\n      <td>32.600000</td>\n      <td>32.400000</td>\n      <td>32.200000</td>\n      <td>32.000000</td>\n      <td>31.800000</td>\n      <td>...</td>\n      <td>31.275000</td>\n      <td>31.100000</td>\n      <td>30.650000</td>\n      <td>30.200000</td>\n      <td>29.250000</td>\n      <td>28.300000</td>\n      <td>29.466667</td>\n      <td>30.633333</td>\n      <td>31.800000</td>\n      <td>31.800000</td>\n    </tr>\n    <tr>\n      <th>69</th>\n      <td>Equatorial Guinea</td>\n      <td>47.44</td>\n      <td>48.248452</td>\n      <td>45.693767</td>\n      <td>43.361004</td>\n      <td>43.838609</td>\n      <td>43.386895</td>\n      <td>43.661543</td>\n      <td>43.828650</td>\n      <td>44.120434</td>\n      <td>...</td>\n      <td>43.275027</td>\n      <td>43.462715</td>\n      <td>43.417346</td>\n      <td>43.365270</td>\n      <td>42.834587</td>\n      <td>42.718821</td>\n      <td>42.746953</td>\n      <td>42.697376</td>\n      <td>42.675568</td>\n      <td>42.702273</td>\n    </tr>\n    <tr>\n      <th>70</th>\n      <td>Eritrea</td>\n      <td>47.44</td>\n      <td>48.248452</td>\n      <td>45.693767</td>\n      <td>43.361004</td>\n      <td>43.838609</td>\n      <td>43.386895</td>\n      <td>43.661543</td>\n      <td>43.828650</td>\n      <td>44.120434</td>\n      <td>...</td>\n      <td>43.275027</td>\n      <td>43.462715</td>\n      <td>43.417346</td>\n      <td>43.365270</td>\n      <td>42.834587</td>\n      <td>42.718821</td>\n      <td>42.746953</td>\n      <td>42.697376</td>\n      <td>42.675568</td>\n      <td>42.702273</td>\n    </tr>\n    <tr>\n      <th>73</th>\n      <td>Ethiopia</td>\n      <td>47.44</td>\n      <td>48.248452</td>\n      <td>45.693767</td>\n      <td>30.000000</td>\n      <td>29.960000</td>\n      <td>29.920000</td>\n      <td>29.880000</td>\n      <td>29.840000</td>\n      <td>29.800000</td>\n      <td>...</td>\n      <td>31.500000</td>\n      <td>32.066667</td>\n      <td>32.633333</td>\n      <td>33.200000</td>\n      <td>33.560000</td>\n      <td>33.920000</td>\n      <td>34.280000</td>\n      <td>34.640000</td>\n      <td>35.000000</td>\n      <td>35.000000</td>\n    </tr>\n    <tr>\n      <th>85</th>\n      <td>Gabon</td>\n      <td>47.44</td>\n      <td>48.248452</td>\n      <td>45.693767</td>\n      <td>43.361004</td>\n      <td>43.838609</td>\n      <td>43.386895</td>\n      <td>43.661543</td>\n      <td>43.828650</td>\n      <td>44.120434</td>\n      <td>...</td>\n      <td>42.200000</td>\n      <td>42.200000</td>\n      <td>42.200000</td>\n      <td>42.200000</td>\n      <td>42.200000</td>\n      <td>42.200000</td>\n      <td>42.200000</td>\n      <td>42.200000</td>\n      <td>42.200000</td>\n      <td>42.200000</td>\n    </tr>\n    <tr>\n      <th>86</th>\n      <td>Gambia, The</td>\n      <td>47.44</td>\n      <td>48.248452</td>\n      <td>48.500000</td>\n      <td>48.260000</td>\n      <td>48.020000</td>\n      <td>47.780000</td>\n      <td>47.540000</td>\n      <td>47.300000</td>\n      <td>46.771429</td>\n      <td>...</td>\n      <td>45.185714</td>\n      <td>44.657143</td>\n      <td>44.128571</td>\n      <td>43.600000</td>\n      <td>42.060000</td>\n      <td>40.520000</td>\n      <td>38.980000</td>\n      <td>37.440000</td>\n      <td>35.900000</td>\n      <td>35.900000</td>\n    </tr>\n    <tr>\n      <th>89</th>\n      <td>Ghana</td>\n      <td>47.44</td>\n      <td>48.248452</td>\n      <td>40.100000</td>\n      <td>40.485714</td>\n      <td>40.871429</td>\n      <td>41.257143</td>\n      <td>41.642857</td>\n      <td>42.028571</td>\n      <td>42.414286</td>\n      <td>...</td>\n      <td>42.685714</td>\n      <td>42.628571</td>\n      <td>42.571429</td>\n      <td>42.514286</td>\n      <td>42.457143</td>\n      <td>42.400000</td>\n      <td>42.675000</td>\n      <td>42.950000</td>\n      <td>43.225000</td>\n      <td>43.500000</td>\n    </tr>\n    <tr>\n      <th>97</th>\n      <td>Guinea-Bissau</td>\n      <td>47.44</td>\n      <td>48.248452</td>\n      <td>45.693767</td>\n      <td>43.361004</td>\n      <td>43.838609</td>\n      <td>43.386895</td>\n      <td>35.600000</td>\n      <td>37.487500</td>\n      <td>39.375000</td>\n      <td>...</td>\n      <td>45.037500</td>\n      <td>46.925000</td>\n      <td>48.812500</td>\n      <td>50.700000</td>\n      <td>50.700000</td>\n      <td>50.700000</td>\n      <td>50.700000</td>\n      <td>50.700000</td>\n      <td>50.700000</td>\n      <td>50.700000</td>\n    </tr>\n    <tr>\n      <th>123</th>\n      <td>Kenya</td>\n      <td>47.44</td>\n      <td>45.000000</td>\n      <td>45.187500</td>\n      <td>45.375000</td>\n      <td>45.562500</td>\n      <td>45.750000</td>\n      <td>45.937500</td>\n      <td>46.125000</td>\n      <td>46.312500</td>\n      <td>...</td>\n      <td>45.360000</td>\n      <td>44.790000</td>\n      <td>44.220000</td>\n      <td>43.650000</td>\n      <td>43.080000</td>\n      <td>42.510000</td>\n      <td>41.940000</td>\n      <td>41.370000</td>\n      <td>40.800000</td>\n      <td>40.800000</td>\n    </tr>\n    <tr>\n      <th>138</th>\n      <td>Lesotho</td>\n      <td>47.44</td>\n      <td>48.248452</td>\n      <td>45.693767</td>\n      <td>43.361004</td>\n      <td>43.838609</td>\n      <td>43.386895</td>\n      <td>51.600000</td>\n      <td>51.600000</td>\n      <td>51.600000</td>\n      <td>...</td>\n      <td>51.600000</td>\n      <td>51.600000</td>\n      <td>51.600000</td>\n      <td>51.600000</td>\n      <td>51.600000</td>\n      <td>51.600000</td>\n      <td>51.600000</td>\n      <td>51.600000</td>\n      <td>51.600000</td>\n      <td>51.600000</td>\n    </tr>\n    <tr>\n      <th>139</th>\n      <td>Liberia</td>\n      <td>47.44</td>\n      <td>48.248452</td>\n      <td>45.693767</td>\n      <td>43.361004</td>\n      <td>43.838609</td>\n      <td>43.386895</td>\n      <td>43.661543</td>\n      <td>43.828650</td>\n      <td>44.120434</td>\n      <td>...</td>\n      <td>36.500000</td>\n      <td>36.028571</td>\n      <td>35.557143</td>\n      <td>35.085714</td>\n      <td>34.614286</td>\n      <td>34.142857</td>\n      <td>33.671429</td>\n      <td>33.200000</td>\n      <td>34.250000</td>\n      <td>35.300000</td>\n    </tr>\n    <tr>\n      <th>148</th>\n      <td>Madagascar</td>\n      <td>47.44</td>\n      <td>39.500000</td>\n      <td>39.050000</td>\n      <td>38.600000</td>\n      <td>43.000000</td>\n      <td>47.400000</td>\n      <td>45.525000</td>\n      <td>43.650000</td>\n      <td>41.775000</td>\n      <td>...</td>\n      <td>40.900000</td>\n      <td>41.400000</td>\n      <td>41.900000</td>\n      <td>42.400000</td>\n      <td>42.500000</td>\n      <td>42.600000</td>\n      <td>42.600000</td>\n      <td>42.600000</td>\n      <td>42.600000</td>\n      <td>42.600000</td>\n    </tr>\n    <tr>\n      <th>149</th>\n      <td>Malawi</td>\n      <td>47.44</td>\n      <td>65.800000</td>\n      <td>62.100000</td>\n      <td>58.400000</td>\n      <td>54.700000</td>\n      <td>51.000000</td>\n      <td>47.300000</td>\n      <td>43.600000</td>\n      <td>39.900000</td>\n      <td>...</td>\n      <td>42.700000</td>\n      <td>43.633333</td>\n      <td>44.566667</td>\n      <td>45.500000</td>\n      <td>45.366667</td>\n      <td>45.233333</td>\n      <td>45.100000</td>\n      <td>44.966667</td>\n      <td>44.833333</td>\n      <td>44.700000</td>\n    </tr>\n    <tr>\n      <th>152</th>\n      <td>Mali</td>\n      <td>47.44</td>\n      <td>48.248452</td>\n      <td>45.693767</td>\n      <td>43.361004</td>\n      <td>43.838609</td>\n      <td>39.900000</td>\n      <td>39.700000</td>\n      <td>39.500000</td>\n      <td>39.300000</td>\n      <td>...</td>\n      <td>36.933333</td>\n      <td>34.966667</td>\n      <td>33.000000</td>\n      <td>33.000000</td>\n      <td>33.000000</td>\n      <td>33.000000</td>\n      <td>33.000000</td>\n      <td>33.000000</td>\n      <td>33.000000</td>\n      <td>33.000000</td>\n    </tr>\n    <tr>\n      <th>155</th>\n      <td>Mauritania</td>\n      <td>47.44</td>\n      <td>48.248452</td>\n      <td>45.693767</td>\n      <td>43.361004</td>\n      <td>39.000000</td>\n      <td>39.300000</td>\n      <td>39.600000</td>\n      <td>39.900000</td>\n      <td>40.200000</td>\n      <td>...</td>\n      <td>36.825000</td>\n      <td>35.700000</td>\n      <td>35.183333</td>\n      <td>34.666667</td>\n      <td>34.150000</td>\n      <td>33.633333</td>\n      <td>33.116667</td>\n      <td>32.600000</td>\n      <td>32.600000</td>\n      <td>32.600000</td>\n    </tr>\n    <tr>\n      <th>156</th>\n      <td>Mauritius</td>\n      <td>47.44</td>\n      <td>48.248452</td>\n      <td>45.693767</td>\n      <td>43.361004</td>\n      <td>43.838609</td>\n      <td>43.386895</td>\n      <td>43.661543</td>\n      <td>43.828650</td>\n      <td>44.120434</td>\n      <td>...</td>\n      <td>36.166667</td>\n      <td>36.633333</td>\n      <td>37.100000</td>\n      <td>37.566667</td>\n      <td>38.033333</td>\n      <td>38.500000</td>\n      <td>38.500000</td>\n      <td>38.500000</td>\n      <td>38.500000</td>\n      <td>38.500000</td>\n    </tr>\n    <tr>\n      <th>167</th>\n      <td>Morocco</td>\n      <td>47.44</td>\n      <td>48.248452</td>\n      <td>39.400000</td>\n      <td>40.000000</td>\n      <td>40.600000</td>\n      <td>40.616667</td>\n      <td>40.633333</td>\n      <td>40.650000</td>\n      <td>40.666667</td>\n      <td>...</td>\n      <td>40.528571</td>\n      <td>40.357143</td>\n      <td>40.185714</td>\n      <td>40.014286</td>\n      <td>39.842857</td>\n      <td>39.671429</td>\n      <td>39.500000</td>\n      <td>39.500000</td>\n      <td>39.500000</td>\n      <td>39.500000</td>\n    </tr>\n    <tr>\n      <th>168</th>\n      <td>Mozambique</td>\n      <td>53.60</td>\n      <td>52.500000</td>\n      <td>51.400000</td>\n      <td>50.300000</td>\n      <td>49.200000</td>\n      <td>48.100000</td>\n      <td>47.000000</td>\n      <td>46.766667</td>\n      <td>46.533333</td>\n      <td>...</td>\n      <td>45.833333</td>\n      <td>45.600000</td>\n      <td>47.000000</td>\n      <td>48.400000</td>\n      <td>49.800000</td>\n      <td>51.200000</td>\n      <td>52.600000</td>\n      <td>54.000000</td>\n      <td>54.000000</td>\n      <td>54.000000</td>\n    </tr>\n    <tr>\n      <th>170</th>\n      <td>Namibia</td>\n      <td>47.44</td>\n      <td>48.248452</td>\n      <td>45.693767</td>\n      <td>43.361004</td>\n      <td>43.838609</td>\n      <td>43.386895</td>\n      <td>43.661543</td>\n      <td>63.300000</td>\n      <td>62.916667</td>\n      <td>...</td>\n      <td>61.766667</td>\n      <td>61.383333</td>\n      <td>61.000000</td>\n      <td>60.683333</td>\n      <td>60.366667</td>\n      <td>60.050000</td>\n      <td>59.733333</td>\n      <td>59.416667</td>\n      <td>59.100000</td>\n      <td>59.100000</td>\n    </tr>\n    <tr>\n      <th>177</th>\n      <td>Niger</td>\n      <td>47.44</td>\n      <td>48.248452</td>\n      <td>45.693767</td>\n      <td>43.361004</td>\n      <td>43.838609</td>\n      <td>43.386895</td>\n      <td>43.661543</td>\n      <td>43.828650</td>\n      <td>44.120434</td>\n      <td>...</td>\n      <td>37.300000</td>\n      <td>35.850000</td>\n      <td>34.400000</td>\n      <td>32.950000</td>\n      <td>31.500000</td>\n      <td>32.433333</td>\n      <td>33.366667</td>\n      <td>34.300000</td>\n      <td>34.300000</td>\n      <td>34.300000</td>\n    </tr>\n    <tr>\n      <th>178</th>\n      <td>Nigeria</td>\n      <td>51.90</td>\n      <td>50.214286</td>\n      <td>48.528571</td>\n      <td>46.842857</td>\n      <td>45.157143</td>\n      <td>43.471429</td>\n      <td>41.785714</td>\n      <td>40.100000</td>\n      <td>39.471429</td>\n      <td>...</td>\n      <td>37.585714</td>\n      <td>36.957143</td>\n      <td>36.328571</td>\n      <td>35.700000</td>\n      <td>35.600000</td>\n      <td>35.500000</td>\n      <td>35.633333</td>\n      <td>35.766667</td>\n      <td>35.900000</td>\n      <td>35.900000</td>\n    </tr>\n    <tr>\n      <th>203</th>\n      <td>Rwanda</td>\n      <td>47.44</td>\n      <td>48.248452</td>\n      <td>45.693767</td>\n      <td>43.361004</td>\n      <td>48.500000</td>\n      <td>49.200000</td>\n      <td>49.900000</td>\n      <td>50.600000</td>\n      <td>51.300000</td>\n      <td>...</td>\n      <td>50.080000</td>\n      <td>49.120000</td>\n      <td>48.160000</td>\n      <td>47.200000</td>\n      <td>46.500000</td>\n      <td>45.800000</td>\n      <td>45.100000</td>\n      <td>44.633333</td>\n      <td>44.166667</td>\n      <td>43.700000</td>\n    </tr>\n    <tr>\n      <th>208</th>\n      <td>Senegal</td>\n      <td>47.44</td>\n      <td>48.248452</td>\n      <td>45.693767</td>\n      <td>43.361004</td>\n      <td>43.838609</td>\n      <td>41.200000</td>\n      <td>40.700000</td>\n      <td>40.200000</td>\n      <td>39.700000</td>\n      <td>...</td>\n      <td>39.566667</td>\n      <td>39.750000</td>\n      <td>39.933333</td>\n      <td>40.116667</td>\n      <td>40.300000</td>\n      <td>40.300000</td>\n      <td>40.300000</td>\n      <td>40.300000</td>\n      <td>40.300000</td>\n      <td>40.300000</td>\n    </tr>\n    <tr>\n      <th>210</th>\n      <td>Seychelles</td>\n      <td>47.44</td>\n      <td>48.248452</td>\n      <td>45.693767</td>\n      <td>43.361004</td>\n      <td>43.838609</td>\n      <td>43.386895</td>\n      <td>43.661543</td>\n      <td>43.828650</td>\n      <td>44.120434</td>\n      <td>...</td>\n      <td>43.275027</td>\n      <td>43.462715</td>\n      <td>43.417346</td>\n      <td>43.365270</td>\n      <td>42.834587</td>\n      <td>42.718821</td>\n      <td>46.800000</td>\n      <td>46.800000</td>\n      <td>46.800000</td>\n      <td>46.800000</td>\n    </tr>\n    <tr>\n      <th>211</th>\n      <td>Sierra Leone</td>\n      <td>47.44</td>\n      <td>48.248452</td>\n      <td>45.693767</td>\n      <td>43.361004</td>\n      <td>43.838609</td>\n      <td>43.386895</td>\n      <td>43.661543</td>\n      <td>40.200000</td>\n      <td>39.425000</td>\n      <td>...</td>\n      <td>37.100000</td>\n      <td>36.325000</td>\n      <td>35.550000</td>\n      <td>34.775000</td>\n      <td>34.000000</td>\n      <td>34.000000</td>\n      <td>34.000000</td>\n      <td>34.000000</td>\n      <td>34.000000</td>\n      <td>34.000000</td>\n    </tr>\n    <tr>\n      <th>218</th>\n      <td>Somalia</td>\n      <td>47.44</td>\n      <td>48.248452</td>\n      <td>45.693767</td>\n      <td>43.361004</td>\n      <td>43.838609</td>\n      <td>43.386895</td>\n      <td>43.661543</td>\n      <td>43.828650</td>\n      <td>44.120434</td>\n      <td>...</td>\n      <td>43.275027</td>\n      <td>43.462715</td>\n      <td>43.417346</td>\n      <td>43.365270</td>\n      <td>42.834587</td>\n      <td>42.718821</td>\n      <td>42.746953</td>\n      <td>42.697376</td>\n      <td>42.675568</td>\n      <td>42.702273</td>\n    </tr>\n    <tr>\n      <th>219</th>\n      <td>South Africa</td>\n      <td>47.44</td>\n      <td>48.248452</td>\n      <td>45.693767</td>\n      <td>43.361004</td>\n      <td>57.800000</td>\n      <td>59.200000</td>\n      <td>60.600000</td>\n      <td>62.000000</td>\n      <td>63.400000</td>\n      <td>...</td>\n      <td>63.600000</td>\n      <td>63.000000</td>\n      <td>63.200000</td>\n      <td>63.400000</td>\n      <td>63.300000</td>\n      <td>63.200000</td>\n      <td>63.100000</td>\n      <td>63.000000</td>\n      <td>63.000000</td>\n      <td>63.000000</td>\n    </tr>\n    <tr>\n      <th>238</th>\n      <td>Tanzania</td>\n      <td>47.44</td>\n      <td>48.248452</td>\n      <td>45.693767</td>\n      <td>43.361004</td>\n      <td>37.300000</td>\n      <td>37.728571</td>\n      <td>38.157143</td>\n      <td>38.585714</td>\n      <td>39.014286</td>\n      <td>...</td>\n      <td>40.300000</td>\n      <td>39.675000</td>\n      <td>39.050000</td>\n      <td>38.425000</td>\n      <td>37.800000</td>\n      <td>37.800000</td>\n      <td>37.800000</td>\n      <td>37.800000</td>\n      <td>37.800000</td>\n      <td>37.800000</td>\n    </tr>\n    <tr>\n      <th>241</th>\n      <td>Togo</td>\n      <td>47.44</td>\n      <td>48.248452</td>\n      <td>45.693767</td>\n      <td>43.361004</td>\n      <td>43.838609</td>\n      <td>43.386895</td>\n      <td>43.661543</td>\n      <td>43.828650</td>\n      <td>44.120434</td>\n      <td>...</td>\n      <td>42.960000</td>\n      <td>43.720000</td>\n      <td>44.480000</td>\n      <td>45.240000</td>\n      <td>46.000000</td>\n      <td>45.275000</td>\n      <td>44.550000</td>\n      <td>43.825000</td>\n      <td>43.100000</td>\n      <td>43.100000</td>\n    </tr>\n    <tr>\n      <th>244</th>\n      <td>Tunisia</td>\n      <td>47.44</td>\n      <td>48.248452</td>\n      <td>45.693767</td>\n      <td>43.361004</td>\n      <td>40.800000</td>\n      <td>40.180000</td>\n      <td>39.560000</td>\n      <td>38.940000</td>\n      <td>38.320000</td>\n      <td>...</td>\n      <td>36.940000</td>\n      <td>36.560000</td>\n      <td>36.180000</td>\n      <td>35.800000</td>\n      <td>35.200000</td>\n      <td>34.600000</td>\n      <td>34.000000</td>\n      <td>33.400000</td>\n      <td>32.800000</td>\n      <td>32.800000</td>\n    </tr>\n    <tr>\n      <th>249</th>\n      <td>Uganda</td>\n      <td>39.00</td>\n      <td>40.333333</td>\n      <td>41.666667</td>\n      <td>43.000000</td>\n      <td>43.733333</td>\n      <td>44.466667</td>\n      <td>45.200000</td>\n      <td>44.433333</td>\n      <td>43.666667</td>\n      <td>...</td>\n      <td>43.550000</td>\n      <td>43.875000</td>\n      <td>44.200000</td>\n      <td>43.133333</td>\n      <td>42.066667</td>\n      <td>41.000000</td>\n      <td>41.450000</td>\n      <td>41.900000</td>\n      <td>42.350000</td>\n      <td>42.800000</td>\n    </tr>\n    <tr>\n      <th>264</th>\n      <td>Zambia</td>\n      <td>48.30</td>\n      <td>48.700000</td>\n      <td>49.100000</td>\n      <td>47.350000</td>\n      <td>45.600000</td>\n      <td>43.850000</td>\n      <td>42.100000</td>\n      <td>48.200000</td>\n      <td>54.300000</td>\n      <td>...</td>\n      <td>54.850000</td>\n      <td>55.100000</td>\n      <td>55.350000</td>\n      <td>55.600000</td>\n      <td>55.900000</td>\n      <td>56.200000</td>\n      <td>56.500000</td>\n      <td>56.800000</td>\n      <td>57.100000</td>\n      <td>57.100000</td>\n    </tr>\n    <tr>\n      <th>265</th>\n      <td>Zimbabwe</td>\n      <td>47.44</td>\n      <td>48.248452</td>\n      <td>45.693767</td>\n      <td>43.361004</td>\n      <td>43.838609</td>\n      <td>43.386895</td>\n      <td>43.661543</td>\n      <td>43.828650</td>\n      <td>44.120434</td>\n      <td>...</td>\n      <td>43.275027</td>\n      <td>43.462715</td>\n      <td>43.417346</td>\n      <td>43.365270</td>\n      <td>43.200000</td>\n      <td>43.200000</td>\n      <td>43.200000</td>\n      <td>43.200000</td>\n      <td>43.200000</td>\n      <td>43.200000</td>\n    </tr>\n  </tbody>\n</table>\n<p>47 rows × 22 columns</p>\n</div>"
     },
     "execution_count": 18,
     "metadata": {},
     "output_type": "execute_result"
    }
   ],
   "source": [
    "df_IE_Africa_int"
   ]
  },
  {
   "cell_type": "markdown",
   "metadata": {
    "pycharm": {
     "name": "#%% md\n"
    }
   },
   "source": [
    "#### CCM analysis"
   ]
  },
  {
   "cell_type": "code",
   "execution_count": 19,
   "metadata": {
    "pycharm": {
     "name": "#%%\n"
    },
    "ExecuteTime": {
     "end_time": "2023-09-28T08:28:13.140877716Z",
     "start_time": "2023-09-28T08:28:12.153381172Z"
    }
   },
   "outputs": [],
   "source": [
    "DAGs = {}\n",
    "DAGs_01 = {}\n",
    "DAGs_10 = {}\n",
    "p_values = {}\n",
    "p_values_01 = {}\n",
    "p_values_10 = {}\n",
    "for i, country in enumerate(df_CC_Africa['Country']):\n",
    "    arr1 = df_CC_Africa.loc[df_CC_Africa['Country']==country].loc[:, df_CC_Africa.columns != 'Country'].to_numpy()\n",
    "    arr2 = df_IE_Africa_int.loc[df_IE_Africa_int['Country']==country].loc[:, df_IE_Africa_int.columns != 'Country'].to_numpy()\n",
    "    arr = np.asarray([arr1, arr2]).squeeze()\n",
    "\n",
    "    DAG, _, p_value, _ = ccm_bivariate(arr, alpha=0.05)\n",
    "    DAGs[country] = DAG\n",
    "    p_values[country] = p_value\n",
    "    \n",
    "    if DAG == {0: [], 1: 0}:\n",
    "        DAGs_01[i] = DAG\n",
    "        p_values_01[i] = p_value\n",
    "        \n",
    "    if DAG == {0: 1, 1: []}:\n",
    "        DAGs_10[i] = DAG\n",
    "        p_values_10[i] = p_value"
   ]
  },
  {
   "cell_type": "code",
   "execution_count": 20,
   "metadata": {
    "pycharm": {
     "name": "#%%\n"
    },
    "ExecuteTime": {
     "end_time": "2023-09-28T08:28:14.191342765Z",
     "start_time": "2023-09-28T08:28:14.130337920Z"
    }
   },
   "outputs": [
    {
     "data": {
      "text/plain": "0.7021276595744681"
     },
     "execution_count": 20,
     "metadata": {},
     "output_type": "execute_result"
    }
   ],
   "source": [
    "len(DAGs_01)/len(DAGs)"
   ]
  },
  {
   "cell_type": "code",
   "execution_count": 21,
   "outputs": [
    {
     "data": {
      "text/plain": "0.2978723404255319"
     },
     "execution_count": 21,
     "metadata": {},
     "output_type": "execute_result"
    }
   ],
   "source": [
    "len(DAGs_10)/len(DAGs)"
   ],
   "metadata": {
    "collapsed": false,
    "ExecuteTime": {
     "end_time": "2023-09-28T08:28:14.900826124Z",
     "start_time": "2023-09-28T08:28:14.799360750Z"
    },
    "pycharm": {
     "name": "#%%\n"
    }
   }
  },
  {
   "cell_type": "markdown",
   "metadata": {
    "pycharm": {
     "name": "#%% md\n"
    }
   },
   "source": [
    "#### Regression-based analysis"
   ]
  },
  {
   "cell_type": "code",
   "execution_count": 20,
   "metadata": {
    "pycharm": {
     "name": "#%%\n"
    }
   },
   "outputs": [],
   "source": [
    "np_CC_Africa = np.zeros(df_CC_Africa.iloc[:, 1:].shape)\n",
    "np_IE_Africa = np.zeros(df_CC_Africa.iloc[:, 1:].shape)\n",
    "\n",
    "for i, country in enumerate(df_CC_Africa['Country']):\n",
    "    np_CC_Africa[i] = df_CC_Africa.loc[df_CC_Africa['Country']==country].loc[:, df_CC_Africa.columns != 'Country'].to_numpy()\n",
    "    np_IE_Africa[i] = df_IE_Africa_int.loc[df_IE_Africa_int['Country']==country].loc[:, df_IE_Africa_int.columns != 'Country'].to_numpy()"
   ]
  },
  {
   "cell_type": "code",
   "execution_count": 23,
   "metadata": {
    "pycharm": {
     "name": "#%%\n"
    },
    "scrolled": true
   },
   "outputs": [
    {
     "name": "stdout",
     "output_type": "stream",
     "text": [
      "Number of graphs to generate: 3\n"
     ]
    },
    {
     "name": "stderr",
     "output_type": "stream",
     "text": [
      "100%|██████████| 3/3 [00:00<00:00, 3998.38it/s]\n"
     ]
    },
    {
     "name": "stdout",
     "output_type": "stream",
     "text": [
      "Evaluating DAG #0: {0: [], 1: []}\n",
      "Independence test p-value: 0.029000000000000026\n",
      "Evaluating DAG #1: {0: [1], 1: []}\n",
      "Independence test p-value: 0.08599999999999997\n",
      "Evaluating DAG #2: {0: [], 1: [0]}\n",
      "Independence test p-value: 0.013000000000000012\n",
      "R-squared: 0.17505009469553023\n",
      "({0: [1], 1: []}, 0.08599999999999997)\n"
     ]
    }
   ],
   "source": [
    "arr = np.asarray([np_CC_Africa, np_IE_Africa]).squeeze()\n",
    "n_intervals = 12\n",
    "analyse = True\n",
    "pred_points = np.linspace(0, 1, 21)\n",
    "n_neighbours = 5\n",
    "n_perms = 1000\n",
    "alpha = 0.05\n",
    "make_K = K_ID\n",
    "regressor = 'hist'\n",
    "\n",
    "print(eval_candidate_DAGs(arr, pred_points, n_intervals, n_neighbours, n_perms, alpha, \n",
    "                          make_K, analyse, regressor, pd_graph=None))"
   ]
  },
  {
   "cell_type": "markdown",
   "metadata": {
    "pycharm": {
     "name": "#%% md\n"
    }
   },
   "source": [
    "### Causal discovery on the WGI dataset\n",
    "\n",
    "Countries are seen as independent samples, data are taken from 1996 to 2020. Each country has one score for each variable in every year."
   ]
  },
  {
   "cell_type": "code",
   "execution_count": null,
   "metadata": {
    "pycharm": {
     "name": "#%%\n"
    }
   },
   "outputs": [],
   "source": [
    "np_VA = df_VA.loc[:, df_VA.columns != 'Country'].to_numpy()\n",
    "np_PS = df_PS.loc[:, df_PS.columns != 'Country'].to_numpy()\n",
    "np_GE = df_GE.loc[:, df_GE.columns != 'Country'].to_numpy()\n",
    "np_RQ = df_RQ.loc[:, df_RQ.columns != 'Country'].to_numpy()\n",
    "np_RL = df_RL.loc[:, df_RL.columns != 'Country'].to_numpy()\n",
    "np_CC = df_CC.loc[:, df_CC.columns != 'Country'].to_numpy()"
   ]
  },
  {
   "cell_type": "code",
   "execution_count": null,
   "metadata": {
    "pycharm": {
     "name": "#%%\n"
    }
   },
   "outputs": [],
   "source": [
    "n_vars = 6\n",
    "n_samples, n_years = np_VA.shape\n",
    "nps = np.zeros((n_vars, n_samples, n_years))\n",
    "nps[0] = np_VA\n",
    "nps[1] = np_PS\n",
    "nps[2] = np_GE\n",
    "nps[3] = np_RQ\n",
    "nps[4] = np_RL\n",
    "nps[5] = np_CC"
   ]
  },
  {
   "cell_type": "code",
   "execution_count": null,
   "metadata": {
    "pycharm": {
     "name": "#%%\n"
    }
   },
   "outputs": [],
   "source": [
    "# experiment parameters\n",
    "cd_type = 'combined'\n",
    "obs_points = np.tile(np.linspace(0, 1, nps.shape[2]), (n_samples, 1))\n",
    "pred_points = np.linspace(0, 1, 100)\n",
    "n_intervals = 12\n",
    "n_neighbours = 3\n",
    "n_perms = 1000\n",
    "alpha = 0.05\n",
    "make_K = K_ID\n",
    "lambs = 1e-1\n",
    "n_pretests = 100\n",
    "n_steps = 50\n",
    "analyse = True\n",
    "regressor = 'hist'\n",
    "init = 'cond_set'\n",
    "find_lambda = False\n",
    "\n",
    "l_cond = np.zeros(n_vars - 2)\n",
    "r_opts = np.zeros(n_vars - 2)"
   ]
  },
  {
   "cell_type": "code",
   "execution_count": null,
   "metadata": {
    "pycharm": {
     "name": "#%%\n"
    }
   },
   "outputs": [],
   "source": [
    "# data preparation\n",
    "nps_int = np.zeros((nps.shape[0], nps.shape[1], len(pred_points)))\n",
    "for d in range(nps.shape[0]):\n",
    "    nps_int[d] = spline_multi_sample(nps[d], obs_points, pred_points).evaluate(pred_points).squeeze()"
   ]
  },
  {
   "cell_type": "code",
   "execution_count": null,
   "metadata": {
    "pycharm": {
     "name": "#%%\n"
    },
    "scrolled": true
   },
   "outputs": [],
   "source": [
    "%%time\n",
    "sparse_g, _DAGs, p_values, lamb_cond, rejects_opts, lags, corr_values = causal_discovery(cd_type, nps_int, pred_points, n_intervals, n_neighbours, n_perms, alpha, make_K, lambs, n_pretests, \n",
    "                                                                                         n_steps, analyse, regressor, l_cond, r_opts, init, find_lambda, pd_graph=None)"
   ]
  },
  {
   "cell_type": "code",
   "execution_count": null,
   "metadata": {
    "pycharm": {
     "name": "#%%\n"
    }
   },
   "outputs": [],
   "source": [
    "print(sparse_g, _DAGs, p_values, lamb_cond, rejects_opts, lags, corr_values)"
   ]
  },
  {
   "cell_type": "markdown",
   "metadata": {
    "pycharm": {
     "name": "#%% md\n"
    }
   },
   "source": [
    "### Draw networks\n",
    "\n",
    "#### Undirected network"
   ]
  },
  {
   "cell_type": "code",
   "execution_count": null,
   "metadata": {
    "pycharm": {
     "name": "#%%\n"
    }
   },
   "outputs": [],
   "source": [
    "for i in range(nps.shape[0]):\n",
    "    if i not in list(_DAGs.keys()):\n",
    "        _DAGs[i] = []"
   ]
  },
  {
   "cell_type": "code",
   "execution_count": null,
   "metadata": {
    "pycharm": {
     "name": "#%%\n"
    }
   },
   "outputs": [],
   "source": [
    "pg_graph = nx.Graph()\n",
    "\n",
    "for d, p_list in _DAGs.items():\n",
    "    pg_graph.add_node(d)\n",
    "    for p in p_list:\n",
    "        pg_graph.add_edge(p, d)\n",
    "\n",
    "pg = nx.Graph()\n",
    "pg.add_nodes_from(sorted(pg_graph.nodes(data=True)))\n",
    "pg.add_edges_from(pg_graph.edges(data=True))"
   ]
  },
  {
   "cell_type": "code",
   "execution_count": null,
   "metadata": {
    "pycharm": {
     "name": "#%%\n"
    }
   },
   "outputs": [],
   "source": [
    "# label variables according to official WGI names\n",
    "mapping = {0: \"VA\", 1: \"PS\", 2: \"GE\", 3: \"RQ\", 4: \"RL\", 5: \"CC\"}\n",
    "pg_ = nx.relabel_nodes(pg, mapping)"
   ]
  },
  {
   "cell_type": "code",
   "execution_count": null,
   "metadata": {
    "pycharm": {
     "name": "#%%\n"
    }
   },
   "outputs": [],
   "source": [
    "plt.figure(figsize=(10,6))\n",
    "plt.tight_layout()\n",
    "nx.draw_networkx(pg_, pos=nx.circular_layout(pg_), node_color='grey', node_size=1000, font_color='white', font_size=16)\n",
    "plt.axis('off')\n",
    "plt.box(False)\n",
    "plt.show()"
   ]
  },
  {
   "cell_type": "markdown",
   "metadata": {
    "pycharm": {
     "name": "#%% md\n"
    }
   },
   "source": [
    "#### Directed network"
   ]
  },
  {
   "cell_type": "code",
   "execution_count": null,
   "metadata": {
    "pycharm": {
     "name": "#%%\n"
    }
   },
   "outputs": [],
   "source": [
    "g_graph = nx.DiGraph()\n",
    "\n",
    "for d, p_list in _DAGs.items():\n",
    "    g_graph.add_node(d)\n",
    "    for p in p_list:\n",
    "        g_graph.add_edge(p, d)\n",
    "        \n",
    "g = nx.DiGraph()\n",
    "g.add_nodes_from(sorted(g_graph.nodes(data=True)))\n",
    "g.add_edges_from(g_graph.edges(data=True))"
   ]
  },
  {
   "cell_type": "code",
   "execution_count": null,
   "metadata": {
    "pycharm": {
     "name": "#%%\n"
    }
   },
   "outputs": [],
   "source": [
    "mapping = {0: \"VA\", 1: \"PS\", 2: \"GE\", 3: \"RQ\", 4: \"RL\", 5: \"CC\"}\n",
    "g_ = nx.relabel_nodes(g, mapping)"
   ]
  },
  {
   "cell_type": "code",
   "execution_count": null,
   "metadata": {
    "pycharm": {
     "name": "#%%\n"
    }
   },
   "outputs": [],
   "source": [
    "plt.figure(figsize=(10,6))\n",
    "plt.tight_layout()\n",
    "nx.draw_networkx(g_, pos=nx.circular_layout(g_), arrowsize=24, node_color='grey', node_size=1000, font_color='white', font_size=16)\n",
    "plt.axis('off')\n",
    "plt.box(False)\n",
    "plt.show()"
   ]
  },
  {
   "cell_type": "code",
   "execution_count": null,
   "metadata": {
    "pycharm": {
     "name": "#%%\n"
    }
   },
   "outputs": [],
   "source": []
  },
  {
   "cell_type": "code",
   "execution_count": null,
   "metadata": {
    "pycharm": {
     "name": "#%%\n"
    }
   },
   "outputs": [],
   "source": []
  },
  {
   "cell_type": "code",
   "execution_count": null,
   "metadata": {
    "pycharm": {
     "name": "#%%\n"
    }
   },
   "outputs": [],
   "source": []
  },
  {
   "cell_type": "code",
   "execution_count": null,
   "metadata": {
    "pycharm": {
     "name": "#%%\n"
    }
   },
   "outputs": [],
   "source": []
  }
 ],
 "metadata": {
  "kernelspec": {
   "display_name": "Python 3 (ipykernel)",
   "language": "python",
   "name": "python3"
  },
  "language_info": {
   "codemirror_mode": {
    "name": "ipython",
    "version": 3
   },
   "file_extension": ".py",
   "mimetype": "text/x-python",
   "name": "python",
   "nbconvert_exporter": "python",
   "pygments_lexer": "ipython3",
   "version": "3.9.12"
  }
 },
 "nbformat": 4,
 "nbformat_minor": 1
}